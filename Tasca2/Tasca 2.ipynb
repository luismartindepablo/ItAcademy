{
 "cells": [
  {
   "cell_type": "markdown",
   "metadata": {},
   "source": [
    "# Estructura de dades"
   ]
  },
  {
   "cell_type": "markdown",
   "metadata": {},
   "source": [
    "### Exercici 1\n",
    "\n",
    "Crea una llista que agrupi els mesos de l’any en trimestres (1T: Gener, Febrer i Març, 2T: Abril, Maig, Juny...), és a dir, una llista amb 4 llistes dins."
   ]
  },
  {
   "cell_type": "code",
   "execution_count": 1,
   "metadata": {},
   "outputs": [
    {
     "name": "stdout",
     "output_type": "stream",
     "text": [
      "[['Gener', 'Febrer', 'Març'], ['Abril', 'Maig', 'Juny'], ['Juliol', 'Agost', 'Setembre'], ['Octubre', 'Novembre', 'Desembre']]\n"
     ]
    }
   ],
   "source": [
    "## Llista (feta manualment)\n",
    "mesos = [[\"Gener\", \"Febrer\", \"Març\"], [\"Abril\", \"Maig\", \"Juny\"], \n",
    "        [\"Juliol\", \"Agost\", \"Setembre\"], [\"Octubre\", \"Novembre\", \"Desembre\"]]\n",
    "print (mesos)"
   ]
  },
  {
   "cell_type": "markdown",
   "metadata": {},
   "source": [
    "### Exercisi 2\n",
    "\n",
    "Crea un codi que et permeti accedir a:\n",
    "\n",
    "+ El segon més del primer trimestre\n",
    "+ Els mesos del primer trimestre\n",
    "+ Setembre i octubre"
   ]
  },
  {
   "cell_type": "code",
   "execution_count": 2,
   "metadata": {},
   "outputs": [
    {
     "name": "stdout",
     "output_type": "stream",
     "text": [
      "Febrer\n"
     ]
    }
   ],
   "source": [
    "## Segon mes del primer trimestre\n",
    "print (mesos[0][1])"
   ]
  },
  {
   "cell_type": "code",
   "execution_count": 3,
   "metadata": {},
   "outputs": [
    {
     "name": "stdout",
     "output_type": "stream",
     "text": [
      "['Gener', 'Febrer', 'Març']\n"
     ]
    }
   ],
   "source": [
    "## Mesos del primer trimestre\n",
    "print (mesos[0])"
   ]
  },
  {
   "cell_type": "code",
   "execution_count": 4,
   "metadata": {},
   "outputs": [
    {
     "name": "stdout",
     "output_type": "stream",
     "text": [
      "Setembre Octubre\n"
     ]
    }
   ],
   "source": [
    "## Setembre i Octubre\n",
    "print (mesos[2][2], mesos[3][0])"
   ]
  },
  {
   "cell_type": "markdown",
   "metadata": {},
   "source": [
    "### Exercici 3\n",
    "\n",
    "Crea una llista amb nombres desordenats i respon a les següents preguntes:\n",
    "\n",
    "+ Quants números hi ha?\n",
    "+ Quantes vegades apareix el número 3\n",
    "+ Quantes vegades apareixen els nombres 3 i 4?\n",
    "+ Quin és el número més gran?\n",
    "+ Quins són els 3 números més petits?\n",
    "+ Quin és el rang d’aquesta llista?"
   ]
  },
  {
   "cell_type": "code",
   "execution_count": 5,
   "metadata": {},
   "outputs": [
    {
     "name": "stdout",
     "output_type": "stream",
     "text": [
      "[0, 9, 5, 3, 6, 0, 0, 2, 5, 0, 9, 6, 3, 8, 1, 2, 6, 6, 0, 2]\n"
     ]
    }
   ],
   "source": [
    "## Crea una llista amb numeros desordenats\n",
    "import random as rand\n",
    "numeros_desordenats = rand.choices(range(10), k=20)\n",
    "print (numeros_desordenats)"
   ]
  },
  {
   "cell_type": "code",
   "execution_count": 6,
   "metadata": {},
   "outputs": [
    {
     "name": "stdout",
     "output_type": "stream",
     "text": [
      "20\n"
     ]
    }
   ],
   "source": [
    "## Quants números hi ha?\n",
    "print (len(numeros_desordenats))"
   ]
  },
  {
   "cell_type": "code",
   "execution_count": 7,
   "metadata": {},
   "outputs": [
    {
     "name": "stdout",
     "output_type": "stream",
     "text": [
      "2\n"
     ]
    }
   ],
   "source": [
    "## Quantes vegades apareix el número 3\n",
    "print (numeros_desordenats.count(3))"
   ]
  },
  {
   "cell_type": "code",
   "execution_count": 8,
   "metadata": {},
   "outputs": [
    {
     "name": "stdout",
     "output_type": "stream",
     "text": [
      "2\n"
     ]
    }
   ],
   "source": [
    "## Quantes vegades apareixen els nombres 3 i 4?\n",
    "print (numeros_desordenats.count(3) + numeros_desordenats.count(4))"
   ]
  },
  {
   "cell_type": "code",
   "execution_count": 9,
   "metadata": {},
   "outputs": [
    {
     "name": "stdout",
     "output_type": "stream",
     "text": [
      "9\n"
     ]
    }
   ],
   "source": [
    "## Quin és el número més gran?\n",
    "print (max(numeros_desordenats))"
   ]
  },
  {
   "cell_type": "code",
   "execution_count": 10,
   "metadata": {},
   "outputs": [
    {
     "name": "stdout",
     "output_type": "stream",
     "text": [
      "0 1 2 "
     ]
    }
   ],
   "source": [
    "## Quins són els 3 números més petits?\n",
    "desordenats_unics = set(numeros_desordenats)\n",
    "for ii in range(3):\n",
    "    minim = min(desordenats_unics)\n",
    "    print (minim, end= \" \")\n",
    "    desordenats_unics.remove(minim)"
   ]
  },
  {
   "cell_type": "code",
   "execution_count": 11,
   "metadata": {},
   "outputs": [
    {
     "name": "stdout",
     "output_type": "stream",
     "text": [
      "De  0  a  9\n"
     ]
    }
   ],
   "source": [
    "## Quin és el rang d’aquesta llista?\n",
    "print (\"De \", min(numeros_desordenats), \" a \", max(numeros_desordenats))"
   ]
  },
  {
   "cell_type": "markdown",
   "metadata": {},
   "source": [
    "### Exercici 4"
   ]
  },
  {
   "cell_type": "markdown",
   "metadata": {},
   "source": [
    "Crea un diccionari de la següent forma i respon a les preguntes:\n",
    "\n",
    "`compra = { \"Pomes\" : {\"Qty\": 5, \"€\": 0.42}, \"Peres\" : {\"Qty\": 3, \"€\": 0.66}} `\n",
    "\n",
    "+ Afegeix alguna fruita més\n",
    "+ Quant han costat les peres en total?\n",
    "+ Quantes fruites hem comprat en total?\n",
    "+ Quina és la fruita més cara?"
   ]
  },
  {
   "cell_type": "code",
   "execution_count": 12,
   "metadata": {},
   "outputs": [],
   "source": [
    "## Crea el diccionari\n",
    "compra = { \"Pomes\" : {\"Qty\": 5, \"€\": 0.42}, \"Peres\" : {\"Qty\": 3, \"€\": 0.66}}"
   ]
  },
  {
   "cell_type": "code",
   "execution_count": 13,
   "metadata": {},
   "outputs": [],
   "source": [
    "## Afegeix alguna fruita més\n",
    "compra[\"Cireres\"] = {\"Qty\": 10, \"€\": 0.33}"
   ]
  },
  {
   "cell_type": "code",
   "execution_count": 14,
   "metadata": {},
   "outputs": [
    {
     "name": "stdout",
     "output_type": "stream",
     "text": [
      "1.98\n"
     ]
    }
   ],
   "source": [
    "## Quant han costat les peres en total?\n",
    "Qty_peres, preu_peres  = compra[\"Peres\"].values()\n",
    "preu_peres = compra[\"Peres\"][\"€\"] \n",
    "print (Qty_peres*preu_peres)"
   ]
  },
  {
   "cell_type": "code",
   "execution_count": 15,
   "metadata": {},
   "outputs": [
    {
     "name": "stdout",
     "output_type": "stream",
     "text": [
      "18\n"
     ]
    }
   ],
   "source": [
    "## Quantes fruites hem comprat en total?\n",
    "Qty = 0\n",
    "for ii in compra:\n",
    "    Qty += compra[ii][\"Qty\"]\n",
    "print (Qty)"
   ]
  },
  {
   "cell_type": "code",
   "execution_count": 16,
   "metadata": {},
   "outputs": [
    {
     "name": "stdout",
     "output_type": "stream",
     "text": [
      "0.66\n"
     ]
    }
   ],
   "source": [
    "## Quina és la fruita més cara?\n",
    "preu = 0\n",
    "for ii in compra:\n",
    "    nou_preu = compra[ii][\"€\"]\n",
    "    if nou_preu > preu: preu = nou_preu\n",
    "print (preu)"
   ]
  }
 ],
 "metadata": {
  "kernelspec": {
   "display_name": "Python 3",
   "language": "python",
   "name": "python3"
  },
  "language_info": {
   "codemirror_mode": {
    "name": "ipython",
    "version": 3
   },
   "file_extension": ".py",
   "mimetype": "text/x-python",
   "name": "python",
   "nbconvert_exporter": "python",
   "pygments_lexer": "ipython3",
   "version": "3.8.5"
  }
 },
 "nbformat": 4,
 "nbformat_minor": 4
}
