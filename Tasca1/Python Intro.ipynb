{
 "cells": [
  {
   "cell_type": "markdown",
   "metadata": {},
   "source": [
    "# Python Intro\n",
    "\n",
    "Notebook containing examples of the different tools Python programming language provides, following the tutorial of the web [W3schools.com](https://www.w3schools.com/python/default.asp)"
   ]
  },
  {
   "cell_type": "markdown",
   "metadata": {},
   "source": [
    "![](image.jpg)"
   ]
  },
  {
   "cell_type": "markdown",
   "metadata": {},
   "source": [
    "### Table of Contents\n",
    "\n",
    "* [Syntax](#syntax)\n",
    "* [Comments](#comments)\n",
    "* [Variables](#variables)\n",
    "* [Data Types](#datatypes)\n",
    "* [Numbers](#numbers)\n",
    "* [Strings](#strings)\n",
    "* [Booleans](#booleans)\n",
    "* [Operators](#operators)\n",
    "* [Lists](#lists)\n",
    "* [Tuples](#tuples)\n",
    "* [Sets](#sets)\n",
    "* [Dictionaries](#dictionaries)\n",
    "* [If ... Else](#ifelse)\n",
    "* [While Loops](#while)\n",
    "* [For Loops](#for)\n",
    "* [Functions](#functions)\n",
    "* [Lambda](#lambda)\n",
    "* [Classes and Objects](#classes)\n",
    "* [Inheritance](#inheritance)\n",
    "* [User Inputs](#input)\n",
    "* [Try Except](#try)"
   ]
  },
  {
   "cell_type": "markdown",
   "metadata": {},
   "source": [
    "### Python Syntax <a class=\"anchor\" id=\"syntax\"></a>"
   ]
  },
  {
   "cell_type": "code",
   "execution_count": 1,
   "metadata": {},
   "outputs": [
    {
     "name": "stdout",
     "output_type": "stream",
     "text": [
      "Hello World!\n"
     ]
    }
   ],
   "source": [
    "print (\"Hello World!\")"
   ]
  },
  {
   "cell_type": "code",
   "execution_count": 2,
   "metadata": {},
   "outputs": [
    {
     "name": "stdout",
     "output_type": "stream",
     "text": [
      "Five is greater than two!\n"
     ]
    }
   ],
   "source": [
    "## Indentation is important\n",
    "if 5 > 2:\n",
    "    print (\"Five is greater than two!\")"
   ]
  },
  {
   "cell_type": "markdown",
   "metadata": {},
   "source": [
    "+ `help()` is very usefull command to progress in Python\n",
    "+ `Tab` is a very powerfull tool to autocomplete our code"
   ]
  },
  {
   "cell_type": "markdown",
   "metadata": {},
   "source": [
    "### Python Comments <a class=\"anchor\" id=\"comments\"></a>"
   ]
  },
  {
   "cell_type": "code",
   "execution_count": 3,
   "metadata": {},
   "outputs": [],
   "source": [
    "## This is a comment"
   ]
  },
  {
   "cell_type": "code",
   "execution_count": 4,
   "metadata": {},
   "outputs": [
    {
     "name": "stdout",
     "output_type": "stream",
     "text": [
      "If nothing is stated in the cell it will return the comment, which is actually an string.\n"
     ]
    }
   ],
   "source": [
    "\"\"\"\"\n",
    "This is a comment\n",
    "written in \n",
    "more that just one line\n",
    "\"\"\"\n",
    "\n",
    "x = str(\"If nothing is stated in the cell it will return the comment, which is actually an string.\")\n",
    "print (x)"
   ]
  },
  {
   "cell_type": "markdown",
   "metadata": {},
   "source": [
    "### Python Variables <a class=\"anchor\" id=\"variables\"></a>"
   ]
  },
  {
   "cell_type": "code",
   "execution_count": 5,
   "metadata": {},
   "outputs": [],
   "source": [
    "## Variable naming\n",
    "myCamelCase = str(\"camel\")\n",
    "MyPascalCase = str(\"pascal\")\n",
    "my_snakeCase = str(\"snake\")"
   ]
  },
  {
   "cell_type": "code",
   "execution_count": 6,
   "metadata": {},
   "outputs": [
    {
     "data": {
      "text/plain": [
       "str"
      ]
     },
     "execution_count": 6,
     "metadata": {},
     "output_type": "execute_result"
    }
   ],
   "source": [
    "## Pyhton is an intelligent language\n",
    "carname = \"Volvo\" \n",
    "type (carname)"
   ]
  },
  {
   "cell_type": "code",
   "execution_count": 7,
   "metadata": {},
   "outputs": [
    {
     "name": "stdout",
     "output_type": "stream",
     "text": [
      "15\n"
     ]
    }
   ],
   "source": [
    "## Multiple naming\n",
    "x , y = 5 , 10 \n",
    "z = x + y\n",
    "print(z)"
   ]
  },
  {
   "cell_type": "code",
   "execution_count": 8,
   "metadata": {},
   "outputs": [
    {
     "name": "stdout",
     "output_type": "stream",
     "text": [
      "Global\n"
     ]
    }
   ],
   "source": [
    "## Variables named on the Main are global\n",
    "x = \"Global\"\n",
    "\n",
    "## Variables named in functions are local\n",
    "def fun():\n",
    "    x = \"Local\"\n",
    "    \n",
    "print (x)"
   ]
  },
  {
   "cell_type": "markdown",
   "metadata": {},
   "source": [
    "### Python Data Types <a class=\"anchor\" id=\"datatypes\"></a>\n",
    "+ str `x = \"Hello World\"`\n",
    "+ int `x = 20`\n",
    "+ float `x = 20.5`\n",
    "+ complex `x = 1j`\n",
    "+ list `x = [\"apple\", \"banana\", \"cherry\"]`\n",
    "+ tuple `x = (\"apple\", \"banana\", \"cherry\")`\n",
    "+ range `x = range(6)`\n",
    "+ dict `x = {\"name\" : \"John\", \"age\" : 36}`\n",
    "+ set `x = {\"apple\", \"banana\", \"cherry\"}`\n",
    "+ frozenset `x = frozenset({\"apple\", \"banana\", \"cherry\"})`\n",
    "+ bool `x = True`"
   ]
  },
  {
   "cell_type": "code",
   "execution_count": 9,
   "metadata": {},
   "outputs": [
    {
     "data": {
      "text/plain": [
       "bool"
      ]
     },
     "execution_count": 9,
     "metadata": {},
     "output_type": "execute_result"
    }
   ],
   "source": [
    "## Check the data type\n",
    "is_male = True\n",
    "type (is_male)"
   ]
  },
  {
   "cell_type": "markdown",
   "metadata": {},
   "source": [
    "### Python Numbers <a class=\"anchor\" id=\"numbers\"></a>"
   ]
  },
  {
   "cell_type": "code",
   "execution_count": 10,
   "metadata": {},
   "outputs": [
    {
     "name": "stdout",
     "output_type": "stream",
     "text": [
      "10.0 <class 'float'>\n"
     ]
    }
   ],
   "source": [
    "## Convert to float\n",
    "x = 10; x = float(x)\n",
    "print (x , type(x))"
   ]
  },
  {
   "cell_type": "code",
   "execution_count": 11,
   "metadata": {},
   "outputs": [
    {
     "name": "stdout",
     "output_type": "stream",
     "text": [
      "10 <class 'int'>\n"
     ]
    }
   ],
   "source": [
    "## Convert to int\n",
    "x = 10.8; x = int(x)\n",
    "print (x , type(x))"
   ]
  },
  {
   "cell_type": "code",
   "execution_count": 12,
   "metadata": {},
   "outputs": [
    {
     "name": "stdout",
     "output_type": "stream",
     "text": [
      "(10.8+0j) <class 'complex'>\n"
     ]
    }
   ],
   "source": [
    "## Convert to complex\n",
    "x = 10.8; x = complex(x)\n",
    "print (x , type(x))"
   ]
  },
  {
   "cell_type": "markdown",
   "metadata": {},
   "source": [
    "### Python Strings  <a class=\"anchor\" id=\"strings\"></a>"
   ]
  },
  {
   "cell_type": "code",
   "execution_count": 13,
   "metadata": {},
   "outputs": [
    {
     "name": "stdout",
     "output_type": "stream",
     "text": [
      "Lorem ipsum dolor sit amet,\n",
      "consectetur adipiscing elit,\n",
      "sed do eiusmod tempor incididunt\n",
      "ut labore et dolore magna aliqua.\n"
     ]
    }
   ],
   "source": [
    "## Str in different lines\n",
    "a = \"\"\"Lorem ipsum dolor sit amet,\n",
    "consectetur adipiscing elit,\n",
    "sed do eiusmod tempor incididunt\n",
    "ut labore et dolore magna aliqua.\"\"\"\n",
    "print(a)"
   ]
  },
  {
   "cell_type": "code",
   "execution_count": 14,
   "metadata": {},
   "outputs": [
    {
     "name": "stdout",
     "output_type": "stream",
     "text": [
      "Luis Martin"
     ]
    }
   ],
   "source": [
    "## Strings are arrays\n",
    "for x in \"Luis Martin\":\n",
    "    print(x, end = \"\")"
   ]
  },
  {
   "cell_type": "code",
   "execution_count": 15,
   "metadata": {},
   "outputs": [
    {
     "name": "stdout",
     "output_type": "stream",
     "text": [
      "9\n"
     ]
    }
   ],
   "source": [
    "## Length of a string\n",
    "a = \"ItAcademy\"\n",
    "print (len(a))"
   ]
  },
  {
   "cell_type": "code",
   "execution_count": 16,
   "metadata": {},
   "outputs": [
    {
     "name": "stdout",
     "output_type": "stream",
     "text": [
      "Yes, 'free' is present.\n"
     ]
    }
   ],
   "source": [
    "## Check String with bool\n",
    "txt = \"The best things in life are free!\"\n",
    "if \"free\" not in txt:\n",
    "    print (\"No, 'free' is not present.\")\n",
    "else:\n",
    "    print (\"Yes, 'free' is present.\")"
   ]
  },
  {
   "cell_type": "code",
   "execution_count": 17,
   "metadata": {},
   "outputs": [
    {
     "name": "stdout",
     "output_type": "stream",
     "text": [
      "The free!\n"
     ]
    }
   ],
   "source": [
    "## Indexing\n",
    "txt = \"The best things in life are free!\"\n",
    "print (txt[:3] + \" \" + txt[-5:])"
   ]
  },
  {
   "cell_type": "code",
   "execution_count": 18,
   "metadata": {},
   "outputs": [
    {
     "name": "stdout",
     "output_type": "stream",
     "text": [
      "LUIS MARTIN\n"
     ]
    }
   ],
   "source": [
    "## Upper case\n",
    "a = \"Luis Martin\"\n",
    "print (a.upper())"
   ]
  },
  {
   "cell_type": "code",
   "execution_count": 19,
   "metadata": {},
   "outputs": [
    {
     "name": "stdout",
     "output_type": "stream",
     "text": [
      "luis martin\n"
     ]
    }
   ],
   "source": [
    "## Lower case\n",
    "a = \"Luis Martin\"\n",
    "print (a.lower())"
   ]
  },
  {
   "cell_type": "code",
   "execution_count": 20,
   "metadata": {},
   "outputs": [
    {
     "name": "stdout",
     "output_type": "stream",
     "text": [
      "HeLLo, WorLd!\n"
     ]
    }
   ],
   "source": [
    "## Replace string\n",
    "a = \"Hello, World!\"\n",
    "print (a.replace(\"l\", \"L\"))"
   ]
  },
  {
   "cell_type": "code",
   "execution_count": 21,
   "metadata": {},
   "outputs": [
    {
     "name": "stdout",
     "output_type": "stream",
     "text": [
      "['Luis', 'Martin']\n"
     ]
    }
   ],
   "source": [
    "## Split string\n",
    "a = \"Luis Martin\"\n",
    "print (a.split(\" \"))"
   ]
  },
  {
   "cell_type": "markdown",
   "metadata": {},
   "source": [
    "### Python Booleans <a class=\"anchor\" id=\"booleans\"></a>\n",
    "\n",
    "Booleans represent one of two values: `True` or `False`"
   ]
  },
  {
   "cell_type": "code",
   "execution_count": 22,
   "metadata": {},
   "outputs": [
    {
     "name": "stdout",
     "output_type": "stream",
     "text": [
      "True\n",
      "False\n",
      "False\n"
     ]
    }
   ],
   "source": [
    "## Comparisson Operators\n",
    "print (10 > 9)\n",
    "print (10 == 9)\n",
    "print (10 < 9)"
   ]
  },
  {
   "cell_type": "code",
   "execution_count": 23,
   "metadata": {},
   "outputs": [
    {
     "name": "stdout",
     "output_type": "stream",
     "text": [
      "[True, False, True, False, False]\n"
     ]
    }
   ],
   "source": [
    "## Evaluate Values. Empty values are false\n",
    "z = [3.2, 0, \"Hola\", \"\", None]\n",
    "print ([bool(x) for x in z])"
   ]
  },
  {
   "cell_type": "markdown",
   "metadata": {},
   "source": [
    "### Python Operators <a class=\"anchor\" id=\"operators\"></a>"
   ]
  },
  {
   "cell_type": "code",
   "execution_count": 24,
   "metadata": {},
   "outputs": [
    {
     "name": "stdout",
     "output_type": "stream",
     "text": [
      "1\n"
     ]
    }
   ],
   "source": [
    "## Modulus returns the reminder\n",
    "x = 4 % 3\n",
    "print (x)"
   ]
  },
  {
   "cell_type": "code",
   "execution_count": 25,
   "metadata": {},
   "outputs": [
    {
     "name": "stdout",
     "output_type": "stream",
     "text": [
      "3\n"
     ]
    }
   ],
   "source": [
    "## Floor division strips the decimal part\n",
    "x = 10 // 3\n",
    "print (x)"
   ]
  },
  {
   "cell_type": "code",
   "execution_count": 26,
   "metadata": {},
   "outputs": [
    {
     "name": "stdout",
     "output_type": "stream",
     "text": [
      "11\n"
     ]
    }
   ],
   "source": [
    "## Add Asignment works also with -, *, /, ...\n",
    "x = 10; x += 1;\n",
    "print (x)"
   ]
  },
  {
   "cell_type": "code",
   "execution_count": 27,
   "metadata": {},
   "outputs": [
    {
     "name": "stdout",
     "output_type": "stream",
     "text": [
      "False\n"
     ]
    }
   ],
   "source": [
    "## Comparisson ==, !=, <, <=, >, >=\n",
    "print (10 != 10)"
   ]
  },
  {
   "cell_type": "code",
   "execution_count": 28,
   "metadata": {},
   "outputs": [
    {
     "data": {
      "text/plain": [
       "True"
      ]
     },
     "execution_count": 28,
     "metadata": {},
     "output_type": "execute_result"
    }
   ],
   "source": [
    "## Logical (and, or, not)\n",
    "10 > 8 and 8 > 5"
   ]
  },
  {
   "cell_type": "markdown",
   "metadata": {},
   "source": [
    "### Python Lists <a class=\"anchor\" id=\"lists\"></a>"
   ]
  },
  {
   "cell_type": "markdown",
   "metadata": {},
   "source": [
    "+ List is changeable, meaning that we can change, add, and remove items in a list after it has been created.\n",
    "+ Since lists are indexed, lists can have items with the same value.\n",
    "+ You cannot copy a `list` simply by typing `list2 = list1`, because `list2` will only be a reference to `list1`, and changes made in `list1` will automatically also be made in `list2`. There are ways to make a copy, one way is to use the built-in List method `copy()`."
   ]
  },
  {
   "cell_type": "code",
   "execution_count": 29,
   "metadata": {},
   "outputs": [
    {
     "name": "stdout",
     "output_type": "stream",
     "text": [
      "Yes, 'apple' is in the fruits list\n"
     ]
    }
   ],
   "source": [
    "## Chek item on a List\n",
    "thislist = [\"apple\", \"banana\", \"cherry\"]\n",
    "if \"apple\" in thislist:\n",
    "    print (\"Yes, 'apple' is in the fruits list\")"
   ]
  },
  {
   "cell_type": "code",
   "execution_count": 30,
   "metadata": {},
   "outputs": [
    {
     "name": "stdout",
     "output_type": "stream",
     "text": [
      "['apple', 'blackcurrant', 'watermelon', 'cherry']\n"
     ]
    }
   ],
   "source": [
    "## Lists are changeable\n",
    "thislist = [\"apple\", \"banana\", \"cherry\"]\n",
    "thislist[1:2] = [\"blackcurrant\", \"watermelon\"]\n",
    "print(thislist)"
   ]
  },
  {
   "cell_type": "code",
   "execution_count": 31,
   "metadata": {},
   "outputs": [
    {
     "name": "stdout",
     "output_type": "stream",
     "text": [
      "['Rosa', 'Blau', '??????', 'Groc']\n"
     ]
    }
   ],
   "source": [
    "## Insert item in agiven position\n",
    "Colors = [\"Rosa\", \"Blau\", \"Groc\"]\n",
    "Colors.insert(2, \"??????\")\n",
    "print(Colors)"
   ]
  },
  {
   "cell_type": "code",
   "execution_count": 32,
   "metadata": {},
   "outputs": [
    {
     "name": "stdout",
     "output_type": "stream",
     "text": [
      "['Rosa', 'Blau', 'Groc', '??????']\n"
     ]
    }
   ],
   "source": [
    "## Append inserts at the end\n",
    "Colors = [\"Rosa\", \"Blau\", \"Groc\"]\n",
    "Colors.append(\"??????\")\n",
    "print(Colors)"
   ]
  },
  {
   "cell_type": "code",
   "execution_count": 33,
   "metadata": {},
   "outputs": [
    {
     "name": "stdout",
     "output_type": "stream",
     "text": [
      "['Rosa', 'Blau', 'Groc', 'Rosa', 'Blau', 'Groc']\n"
     ]
    }
   ],
   "source": [
    "## Extend insert items into the list, not necessarily from another list\n",
    "Colors = list((\"Rosa\", \"Blau\", \"Groc\"))\n",
    "Colors_tuple = (\"Rosa\", \"Blau\", \"Groc\")\n",
    "Colors.extend(Colors_tuple)\n",
    "print (Colors)"
   ]
  },
  {
   "cell_type": "code",
   "execution_count": 34,
   "metadata": {},
   "outputs": [
    {
     "name": "stdout",
     "output_type": "stream",
     "text": [
      "['one', 'three', 'four']\n"
     ]
    }
   ],
   "source": [
    "## Remove an item by label\n",
    "numbers = [\"one\", \"two\", \"three\", \"four\"]\n",
    "numbers.remove(\"two\")\n",
    "print (numbers)"
   ]
  },
  {
   "cell_type": "code",
   "execution_count": 35,
   "metadata": {},
   "outputs": [
    {
     "name": "stdout",
     "output_type": "stream",
     "text": [
      "['one', 'three']\n"
     ]
    }
   ],
   "source": [
    "## Remove an item by index\n",
    "numbers = [\"one\", \"two\", \"three\", \"four\"]\n",
    "numbers.pop(1) #removes last if not specified\n",
    "del numbers[-1] #can del the whole list\n",
    "print (numbers)"
   ]
  },
  {
   "cell_type": "code",
   "execution_count": 36,
   "metadata": {},
   "outputs": [
    {
     "name": "stdout",
     "output_type": "stream",
     "text": [
      "['apple', 'banana', 'mango']\n"
     ]
    }
   ],
   "source": [
    "## List from other list\n",
    "fruits = [\"apple\", \"banana\", \"cherry\", \"kiwi\", \"mango\"]\n",
    "newlist = [x for x in fruits if \"a\" in x]\n",
    "print(newlist)"
   ]
  },
  {
   "cell_type": "code",
   "execution_count": 37,
   "metadata": {},
   "outputs": [
    {
     "name": "stdout",
     "output_type": "stream",
     "text": [
      "['Joan', 'Judit', 'Lidia', 'Maria', 'Pau']\n"
     ]
    }
   ],
   "source": [
    "## Sort List\n",
    "names = [\"Maria\", \"Joan\", \"Lidia\", \"Judit\", \"Pau\"]\n",
    "names.sort(reverse = False)\n",
    "print (names)"
   ]
  },
  {
   "cell_type": "markdown",
   "metadata": {},
   "source": [
    "### Python Tuples <a class=\"anchor\" id=\"tuples\"></a>"
   ]
  },
  {
   "cell_type": "markdown",
   "metadata": {},
   "source": [
    "+ A tuple is a collection which is ordered and **unchangeable**.\n",
    "+ Tuple items are ordered, unchangeable, and allow duplicate values."
   ]
  },
  {
   "cell_type": "code",
   "execution_count": 38,
   "metadata": {},
   "outputs": [
    {
     "name": "stdout",
     "output_type": "stream",
     "text": [
      "('apple', 'kiwi', 'cherry')\n"
     ]
    }
   ],
   "source": [
    "## Change item converting into a List\n",
    "x = (\"apple\", \"banana\", \"cherry\")\n",
    "y = list(x); y[1] = \"kiwi\"\n",
    "x = tuple(y)\n",
    "print(x)"
   ]
  },
  {
   "cell_type": "code",
   "execution_count": 39,
   "metadata": {},
   "outputs": [
    {
     "ename": "NameError",
     "evalue": "name 'thistuple' is not defined",
     "output_type": "error",
     "traceback": [
      "\u001b[0;31m---------------------------------------------------------------------------\u001b[0m",
      "\u001b[0;31mNameError\u001b[0m                                 Traceback (most recent call last)",
      "\u001b[0;32m<ipython-input-39-98be15cd4b09>\u001b[0m in \u001b[0;36m<module>\u001b[0;34m\u001b[0m\n\u001b[1;32m      2\u001b[0m \u001b[0mthistuple\u001b[0m \u001b[0;34m=\u001b[0m \u001b[0;34m(\u001b[0m\u001b[0;34m\"apple\"\u001b[0m\u001b[0;34m,\u001b[0m \u001b[0;34m\"banana\"\u001b[0m\u001b[0;34m,\u001b[0m \u001b[0;34m\"cherry\"\u001b[0m\u001b[0;34m)\u001b[0m\u001b[0;34m\u001b[0m\u001b[0;34m\u001b[0m\u001b[0m\n\u001b[1;32m      3\u001b[0m \u001b[0;32mdel\u001b[0m \u001b[0mthistuple\u001b[0m\u001b[0;34m\u001b[0m\u001b[0;34m\u001b[0m\u001b[0m\n\u001b[0;32m----> 4\u001b[0;31m \u001b[0mprint\u001b[0m\u001b[0;34m(\u001b[0m\u001b[0mthistuple\u001b[0m\u001b[0;34m)\u001b[0m \u001b[0;31m#this will raise an error because the tuple no longer exists\u001b[0m\u001b[0;34m\u001b[0m\u001b[0;34m\u001b[0m\u001b[0m\n\u001b[0m",
      "\u001b[0;31mNameError\u001b[0m: name 'thistuple' is not defined"
     ]
    }
   ],
   "source": [
    "## Delete the whole tuple is possible\n",
    "thistuple = (\"apple\", \"banana\", \"cherry\")\n",
    "del thistuple\n",
    "print(thistuple) #this will raise an error because the tuple no longer exists"
   ]
  },
  {
   "cell_type": "code",
   "execution_count": 40,
   "metadata": {},
   "outputs": [
    {
     "name": "stdout",
     "output_type": "stream",
     "text": [
      "['Green', 'Black']\n"
     ]
    }
   ],
   "source": [
    "## Unpack tupple\n",
    "Colors = (\"Red\", \"Blue\", \"Green\", \"Black\")\n",
    "Red, Blue, *Other = Colors\n",
    "print(Other)"
   ]
  },
  {
   "cell_type": "code",
   "execution_count": 41,
   "metadata": {},
   "outputs": [
    {
     "data": {
      "text/plain": [
       "4"
      ]
     },
     "execution_count": 41,
     "metadata": {},
     "output_type": "execute_result"
    }
   ],
   "source": [
    "## Count items\n",
    "x = (1,2,3,4,1,3,1,5,1,6,7)\n",
    "x.count(1)"
   ]
  },
  {
   "cell_type": "markdown",
   "metadata": {},
   "source": [
    "### Python Sets <a class=\"anchor\" id=\"sets\"></a>"
   ]
  },
  {
   "cell_type": "markdown",
   "metadata": {},
   "source": [
    "+ Sets are a collection which is both **unordered** and **unindexed**.\n",
    "+ Sets are **unchangeable**.\n",
    "+ Sets cannot have two items with the same value. **Do not allow duplicates**."
   ]
  },
  {
   "cell_type": "code",
   "execution_count": 42,
   "metadata": {},
   "outputs": [
    {
     "name": "stdout",
     "output_type": "stream",
     "text": [
      "{'apple', 'banana', 'cherry'}\n"
     ]
    }
   ],
   "source": [
    "## Define Set\n",
    "set1 = {\"apple\", \"banana\", \"cherry\"}\n",
    "print(set1)"
   ]
  },
  {
   "cell_type": "code",
   "execution_count": 43,
   "metadata": {},
   "outputs": [
    {
     "name": "stdout",
     "output_type": "stream",
     "text": [
      "{'Judit', 'Pau', 'Lidia', 'Maria', 'Joan', '?????'}\n"
     ]
    }
   ],
   "source": [
    "## Add to a set\n",
    "names = {\"Maria\", \"Joan\", \"Lidia\", \"Judit\", \"Pau\"}\n",
    "names.add(\"?????\")\n",
    "print (names)"
   ]
  },
  {
   "cell_type": "code",
   "execution_count": 44,
   "metadata": {},
   "outputs": [
    {
     "name": "stdout",
     "output_type": "stream",
     "text": [
      "{0, 1, 2, 'Judit', 'Pau', 'Lidia', 'Maria', 'Joan'}\n"
     ]
    }
   ],
   "source": [
    "## Update from another iterables\n",
    "names = {\"Maria\", \"Joan\", \"Lidia\", \"Judit\", \"Pau\"}\n",
    "numbers = range(3)\n",
    "names.update(numbers)\n",
    "print (names)"
   ]
  },
  {
   "cell_type": "code",
   "execution_count": 45,
   "metadata": {},
   "outputs": [
    {
     "name": "stdout",
     "output_type": "stream",
     "text": [
      "{'Judit', 'Lidia', 'Maria', 'Joan'}\n"
     ]
    }
   ],
   "source": [
    "## Remove and Discard\n",
    "names = {\"Maria\", \"Joan\", \"Lidia\", \"Judit\", \"Pau\"}\n",
    "names.remove(\"Pau\") #if Pau not in names it raise an Error\n",
    "names.discard(\"Elisabeth\") #Does not raise an Error\n",
    "print (names)"
   ]
  },
  {
   "cell_type": "code",
   "execution_count": 46,
   "metadata": {},
   "outputs": [
    {
     "name": "stdout",
     "output_type": "stream",
     "text": [
      "set()\n"
     ]
    }
   ],
   "source": [
    "## Clear the Set\n",
    "names = {\"Maria\", \"Joan\", \"Lidia\", \"Judit\", \"Pau\"}\n",
    "names.clear()\n",
    "print (names)"
   ]
  },
  {
   "cell_type": "code",
   "execution_count": 47,
   "metadata": {},
   "outputs": [
    {
     "name": "stdout",
     "output_type": "stream",
     "text": [
      "{'Maria', 'Joan'}\n"
     ]
    }
   ],
   "source": [
    "## Keep the duplicates\n",
    "names1 = {\"Maria\", \"Joan\", \"Lidia\", \"Judit\", \"Pau\"}\n",
    "names2 = {\"Maria\", \"Ana\", \"Enric\", \"Joan\"}\n",
    "names1.intersection_update(names2)\n",
    "print (names1)"
   ]
  },
  {
   "cell_type": "markdown",
   "metadata": {},
   "source": [
    "### Python Dictionaries <a class=\"anchor\" id=\"dictionaries\"></a>\n",
    "\n",
    "+ `Dictionaries` are used to store data values in key: value pairs.\n",
    "+ `Dictionaries` are a collection which is **unordered**, **changeable** and **does not allow duplicates**."
   ]
  },
  {
   "cell_type": "code",
   "execution_count": 48,
   "metadata": {},
   "outputs": [
    {
     "name": "stdout",
     "output_type": "stream",
     "text": [
      "{'brand': 'Ford', 'model': 'Mustang', 'year': 1964}\n"
     ]
    }
   ],
   "source": [
    "## Define a Dictionary\n",
    "dict1 = {\n",
    "  \"brand\": \"Ford\",\n",
    "  \"model\": \"Mustang\",\n",
    "  \"year\": 1964\n",
    "}\n",
    "print(dict1)"
   ]
  },
  {
   "cell_type": "code",
   "execution_count": 49,
   "metadata": {},
   "outputs": [
    {
     "name": "stdout",
     "output_type": "stream",
     "text": [
      "Ford\n"
     ]
    }
   ],
   "source": [
    "## Acces to Dict values through Key\n",
    "dict1 = {\n",
    "  \"brand\": \"Ford\",\n",
    "  \"model\": \"Mustang\",\n",
    "  \"year\": 1964\n",
    "}\n",
    "print(dict1[\"brand\"])"
   ]
  },
  {
   "cell_type": "code",
   "execution_count": 50,
   "metadata": {},
   "outputs": [
    {
     "name": "stdout",
     "output_type": "stream",
     "text": [
      "Mustang\n"
     ]
    }
   ],
   "source": [
    "## Store into variables\n",
    "dict1 = {\n",
    "  \"brand\": \"Ford\",\n",
    "  \"model\": \"Mustang\",\n",
    "  \"year\": 1964\n",
    "}\n",
    "x = dict1.get(\"model\")\n",
    "print (x)"
   ]
  },
  {
   "cell_type": "code",
   "execution_count": 51,
   "metadata": {},
   "outputs": [
    {
     "name": "stdout",
     "output_type": "stream",
     "text": [
      "dict_keys(['brand', 'model', 'year'])\n",
      "dict_keys(['brand', 'model', 'year', 'color'])\n"
     ]
    }
   ],
   "source": [
    "## Add new pairs\n",
    "car = {\n",
    "\"brand\": \"Ford\",\n",
    "\"model\": \"Mustang\",\n",
    "\"year\": 1964\n",
    "}\n",
    "\n",
    "x = car.keys() #get keys\n",
    "print(x) \n",
    "\n",
    "car[\"color\"] = \"white\"\n",
    "print(x) "
   ]
  },
  {
   "cell_type": "code",
   "execution_count": 52,
   "metadata": {},
   "outputs": [
    {
     "name": "stdout",
     "output_type": "stream",
     "text": [
      "dict_values(['Ford', 'Mustang', 1964])\n"
     ]
    }
   ],
   "source": [
    "## Get values\n",
    "car = {\n",
    "\"brand\": \"Ford\",\n",
    "\"model\": \"Mustang\",\n",
    "\"year\": 1964\n",
    "}\n",
    "x = car.values()\n",
    "print (x)"
   ]
  },
  {
   "cell_type": "code",
   "execution_count": 53,
   "metadata": {},
   "outputs": [
    {
     "name": "stdout",
     "output_type": "stream",
     "text": [
      "{'brand': 'Ford', 'model': 'Mustang', 'year': 2020}\n"
     ]
    }
   ],
   "source": [
    "## Update dictionary\n",
    "car = {\n",
    "  \"brand\": \"Ford\",\n",
    "  \"model\": \"Mustang\",\n",
    "  \"year\": 1964\n",
    "}\n",
    "car.update({\"year\": 2020})\n",
    "print (car)"
   ]
  },
  {
   "cell_type": "markdown",
   "metadata": {},
   "source": [
    "### Python If ... Else <a class=\"anchor\" id=\"ifelse\"></a>"
   ]
  },
  {
   "cell_type": "code",
   "execution_count": 54,
   "metadata": {},
   "outputs": [
    {
     "name": "stdout",
     "output_type": "stream",
     "text": [
      "a is greater than b\n"
     ]
    }
   ],
   "source": [
    "## Exemple\n",
    "a = 200\n",
    "b = 33\n",
    "if b > a:\n",
    "    print(\"b is greater than a\")\n",
    "elif a == b:\n",
    "    print(\"a and b are equal\")\n",
    "else:\n",
    "    print(\"a is greater than b\")"
   ]
  },
  {
   "cell_type": "code",
   "execution_count": 55,
   "metadata": {},
   "outputs": [
    {
     "name": "stdout",
     "output_type": "stream",
     "text": [
      "a is greater than b\n"
     ]
    }
   ],
   "source": [
    "## Simple If in one line\n",
    "a = 200\n",
    "b = 33\n",
    "if a > b: print(\"a is greater than b\")"
   ]
  },
  {
   "cell_type": "code",
   "execution_count": 56,
   "metadata": {},
   "outputs": [
    {
     "name": "stdout",
     "output_type": "stream",
     "text": [
      "They are equal\n"
     ]
    }
   ],
   "source": [
    "## Complex If in one line\n",
    "a = 330\n",
    "b = 330\n",
    "print(\"A greater than B\") if a > b else print(\"They are equal\") if a == b else print(\"B greater than A\")"
   ]
  },
  {
   "cell_type": "markdown",
   "metadata": {},
   "source": [
    "### Python While Loops <a class=\"anchor\" id=\"while\"></a>"
   ]
  },
  {
   "cell_type": "code",
   "execution_count": 57,
   "metadata": {},
   "outputs": [
    {
     "name": "stdout",
     "output_type": "stream",
     "text": [
      "0\n",
      "1\n",
      "2\n",
      "3\n"
     ]
    }
   ],
   "source": [
    "## Executes while the statement holds True\n",
    "i = 0\n",
    "while i < 6:\n",
    "    print(i)\n",
    "    if i == 3:\n",
    "        break #Stops the while at i==3\n",
    "    i += 1"
   ]
  },
  {
   "cell_type": "code",
   "execution_count": 58,
   "metadata": {},
   "outputs": [
    {
     "name": "stdout",
     "output_type": "stream",
     "text": [
      "1, 2, 4, 5, 6, End\n"
     ]
    }
   ],
   "source": [
    "## Continue jumps to the top\n",
    "i = 0\n",
    "while i < 6:\n",
    "    i += 1 \n",
    "    if i == 3:\n",
    "        continue #3 not printed\n",
    "    print(str(i) + \", \", end=\"\")\n",
    "else:\n",
    "    print (\"End\")"
   ]
  },
  {
   "cell_type": "markdown",
   "metadata": {},
   "source": [
    "### Python For Loops <a class=\"anchor\" id=\"for\"></a>"
   ]
  },
  {
   "cell_type": "code",
   "execution_count": 59,
   "metadata": {},
   "outputs": [
    {
     "name": "stdout",
     "output_type": "stream",
     "text": [
      "0\n",
      "4\n",
      "6\n"
     ]
    }
   ],
   "source": [
    "## Exemple: For runs among iterable objects\n",
    "for x in range(0, 10, 2):\n",
    "    if x == 2: continue\n",
    "    print(x)\n",
    "    if x == 6: break"
   ]
  },
  {
   "cell_type": "code",
   "execution_count": 60,
   "metadata": {},
   "outputs": [
    {
     "name": "stdout",
     "output_type": "stream",
     "text": [
      "Apple\n",
      "Microsoft\n",
      "Sony\n",
      "Google\n",
      "Finished!\n"
     ]
    }
   ],
   "source": [
    "## Exemple: Lists and else statement\n",
    "for x in [\"Apple\", \"Microsoft\", \"Sony\", \"Google\"]:\n",
    "    print (x)\n",
    "else: print (\"Finished!\")"
   ]
  },
  {
   "cell_type": "markdown",
   "metadata": {},
   "source": [
    "### Python Functions <a class=\"anchor\" id=\"functions\"></a>"
   ]
  },
  {
   "cell_type": "code",
   "execution_count": 61,
   "metadata": {},
   "outputs": [
    {
     "name": "stdout",
     "output_type": "stream",
     "text": [
      "My name is Luis Martin\n"
     ]
    }
   ],
   "source": [
    "## Defining a function\n",
    "def fun(name, lastname):\n",
    "        print (\"My name is \" + name + \" \" + lastname)\n",
    "\n",
    "fun(\"Luis\", \"Martin\")"
   ]
  },
  {
   "cell_type": "code",
   "execution_count": 62,
   "metadata": {},
   "outputs": [
    {
     "name": "stdout",
     "output_type": "stream",
     "text": [
      "Red and Blue are my favorite colors!\n"
     ]
    }
   ],
   "source": [
    "## Unknown number of parameters\n",
    "def fun(*Colors):\n",
    "    print (Colors[0] + \" and \" + Colors[1] + \" are my favorite colors!\")\n",
    "fun(\"Red\", \"Blue\")"
   ]
  },
  {
   "cell_type": "code",
   "execution_count": 63,
   "metadata": {},
   "outputs": [
    {
     "name": "stdout",
     "output_type": "stream",
     "text": [
      "Arnau, Tomas and Joan are my best friends. Ana is our teacher.\n",
      "Arnau, Tomas and Joan are my best friends. Julia is our teacher.\n"
     ]
    }
   ],
   "source": [
    "## Parameters using keys and default values\n",
    "def fun(teacher = \"Ana\", **names):\n",
    "    print (names[\"name_1\"] + \", \" + names[\"name_2\"] + \" and \" + names[\"name_3\"] + \" are my best friends. \"  +\n",
    "          teacher + \" is our teacher.\")\n",
    "fun(name_3 = \"Joan\", name_1 = \"Arnau\", name_2 = \"Tomas\")\n",
    "fun(\"Julia\", name_3 = \"Joan\", name_1 = \"Arnau\", name_2 = \"Tomas\")"
   ]
  },
  {
   "cell_type": "markdown",
   "metadata": {},
   "source": [
    "### Python Lambda <a class=\"anchor\" id=\"lambda\"></a>"
   ]
  },
  {
   "cell_type": "code",
   "execution_count": 64,
   "metadata": {},
   "outputs": [
    {
     "name": "stdout",
     "output_type": "stream",
     "text": [
      "30\n"
     ]
    }
   ],
   "source": [
    "## Exemple\n",
    "x = lambda a, b : a * b\n",
    "print (x(5, 6))"
   ]
  },
  {
   "cell_type": "code",
   "execution_count": 65,
   "metadata": {},
   "outputs": [
    {
     "name": "stdout",
     "output_type": "stream",
     "text": [
      "33\n"
     ]
    }
   ],
   "source": [
    "## Inside other functions\n",
    "def myfunc(n):\n",
    "    return lambda a : a * n\n",
    "mytripler = myfunc(3)\n",
    "print(mytripler(11))"
   ]
  },
  {
   "cell_type": "markdown",
   "metadata": {},
   "source": [
    "### Python Classes and Objects <a class=\"anchor\" id=\"classes\"></a>"
   ]
  },
  {
   "cell_type": "markdown",
   "metadata": {},
   "source": [
    "+ Python is an object oriented programming language.\n",
    "\n",
    "+ Almost everything in Python is an object, with its properties and methods.\n",
    "\n",
    "+ A Class is like an object constructor, or a \"blueprint\" for creating objects."
   ]
  },
  {
   "cell_type": "code",
   "execution_count": 66,
   "metadata": {},
   "outputs": [
    {
     "name": "stdout",
     "output_type": "stream",
     "text": [
      "5\n"
     ]
    }
   ],
   "source": [
    "## Defining classes and assigning objects\n",
    "class MyClass:\n",
    "    x = 5\n",
    "MyObject = MyClass()\n",
    "print (MyObject.x)"
   ]
  },
  {
   "cell_type": "code",
   "execution_count": 67,
   "metadata": {},
   "outputs": [
    {
     "name": "stdout",
     "output_type": "stream",
     "text": [
      "Alex\n",
      "45\n"
     ]
    }
   ],
   "source": [
    "## __init__ function\n",
    "class Person:\n",
    "    def __init__(self, name, age):\n",
    "        self.name = name\n",
    "        self.age = age\n",
    "\n",
    "Manager = Person(\"Alex\", 45)\n",
    "\n",
    "print (Manager.name)\n",
    "print (Manager.age)"
   ]
  },
  {
   "cell_type": "code",
   "execution_count": 68,
   "metadata": {},
   "outputs": [
    {
     "name": "stdout",
     "output_type": "stream",
     "text": [
      "Hello my name is John. I'm the Boss.\n"
     ]
    }
   ],
   "source": [
    "## Methods inside classes\n",
    "class Person:\n",
    "    def __init__(self, name, age, position):\n",
    "        self.name = name\n",
    "        self.age = age\n",
    "        self.position = position\n",
    "\n",
    "    def Hello(self):\n",
    "        print (\"Hello my name is \" + self.name + \". I'm the \" + self.position + \".\")\n",
    "\n",
    "Manager = Person(\"John\", 36, \"Boss\")\n",
    "Manager.Hello()"
   ]
  },
  {
   "cell_type": "markdown",
   "metadata": {},
   "source": [
    "### Python Inheritance <a class=\"anchor\" id=\"inheritance\"></a>\n",
    "\n",
    "+ Inheritance allows us to define a class that inherits all the methods and properties from another class."
   ]
  },
  {
   "cell_type": "code",
   "execution_count": 69,
   "metadata": {},
   "outputs": [
    {
     "name": "stdout",
     "output_type": "stream",
     "text": [
      "John Doe\n",
      "Carles Cordon, Subject: Maths\n"
     ]
    }
   ],
   "source": [
    "## Parent Class\n",
    "class Person:\n",
    "    def __init__(self, fname, lname):\n",
    "        self.firstname = fname\n",
    "        self.lastname = lname\n",
    "\n",
    "    def printname(self):\n",
    "        print(self.firstname, self.lastname)\n",
    "        \n",
    "Unknown = Person(\"John\", \"Doe\")\n",
    "Unknown.printname()\n",
    "\n",
    "## Child Class\n",
    "class Teacher(Person):\n",
    "    def __init__(self, fname, lname, subject):\n",
    "        Person.__init__(self, fname, lname)\n",
    "        self.subject = subject\n",
    "    \n",
    "    def printname(self):\n",
    "        print (self.firstname, self.lastname + \",\", \"Subject:\", self.subject)\n",
    "\n",
    "Math_Teacher = Teacher(\"Carles\", \"Cordon\", \"Maths\")\n",
    "Math_Teacher.printname()"
   ]
  },
  {
   "cell_type": "markdown",
   "metadata": {},
   "source": [
    "### Python User Input <a class=\"anchor\" id=\"input\"></a>"
   ]
  },
  {
   "cell_type": "code",
   "execution_count": 70,
   "metadata": {},
   "outputs": [
    {
     "name": "stdout",
     "output_type": "stream",
     "text": [
      "Enter your name: Luis\n",
      "Hello Luis\n"
     ]
    }
   ],
   "source": [
    "## Input gives feedback from user\n",
    "name = input (\"Enter your name: \")\n",
    "print(\"Hello \" + name)"
   ]
  },
  {
   "cell_type": "markdown",
   "metadata": {},
   "source": [
    "### Python Try Except <a class=\"anchor\" id=\"try\"></a>"
   ]
  },
  {
   "cell_type": "markdown",
   "metadata": {},
   "source": [
    "The `tr` block lets you test a block of code for errors.\n",
    "\n",
    "The `excep` block lets you handle the error.\n",
    "\n",
    "The `finall` block lets you execute code, regardless of the result of the try- and except blocks."
   ]
  },
  {
   "cell_type": "code",
   "execution_count": 71,
   "metadata": {},
   "outputs": [
    {
     "name": "stdout",
     "output_type": "stream",
     "text": [
      "xx is not defined\n"
     ]
    }
   ],
   "source": [
    "## Exemple. Does not raise an error\n",
    "try:\n",
    "    print(xx)\n",
    "except:\n",
    "    print(\"xx is not defined\")"
   ]
  },
  {
   "cell_type": "code",
   "execution_count": 72,
   "metadata": {},
   "outputs": [
    {
     "name": "stdout",
     "output_type": "stream",
     "text": [
      "Variable xx is not defined\n"
     ]
    }
   ],
   "source": [
    "## Look for given errors\n",
    "try:\n",
    "    print(xx)\n",
    "except NameError:\n",
    "    print(\"Variable xx is not defined\")\n",
    "except:\n",
    "    print(\"Something else went wrong\")"
   ]
  },
  {
   "cell_type": "code",
   "execution_count": 73,
   "metadata": {},
   "outputs": [
    {
     "name": "stdout",
     "output_type": "stream",
     "text": [
      "Something went wrong\n",
      "The 'try except' is finished\n"
     ]
    }
   ],
   "source": [
    "## Finally executes regardles of the exceptions\n",
    "try:\n",
    "    print(xx)\n",
    "except:\n",
    "    print(\"Something went wrong\")\n",
    "finally:\n",
    "    print(\"The 'try except' is finished\")"
   ]
  },
  {
   "cell_type": "code",
   "execution_count": 74,
   "metadata": {},
   "outputs": [
    {
     "ename": "TypeError",
     "evalue": "Only integers allowed",
     "output_type": "error",
     "traceback": [
      "\u001b[0;31m---------------------------------------------------------------------------\u001b[0m",
      "\u001b[0;31mTypeError\u001b[0m                                 Traceback (most recent call last)",
      "\u001b[0;32m<ipython-input-74-64e79bf93f0e>\u001b[0m in \u001b[0;36m<module>\u001b[0;34m\u001b[0m\n\u001b[1;32m      2\u001b[0m \u001b[0mx\u001b[0m \u001b[0;34m=\u001b[0m \u001b[0;36m3.32\u001b[0m\u001b[0;34m\u001b[0m\u001b[0;34m\u001b[0m\u001b[0m\n\u001b[1;32m      3\u001b[0m \u001b[0;32mif\u001b[0m \u001b[0mtype\u001b[0m\u001b[0;34m(\u001b[0m\u001b[0mx\u001b[0m\u001b[0;34m)\u001b[0m \u001b[0;32mis\u001b[0m \u001b[0;32mnot\u001b[0m \u001b[0mint\u001b[0m\u001b[0;34m:\u001b[0m\u001b[0;34m\u001b[0m\u001b[0;34m\u001b[0m\u001b[0m\n\u001b[0;32m----> 4\u001b[0;31m     \u001b[0;32mraise\u001b[0m \u001b[0mTypeError\u001b[0m\u001b[0;34m(\u001b[0m\u001b[0;34m\"Only integers allowed\"\u001b[0m\u001b[0;34m)\u001b[0m\u001b[0;34m\u001b[0m\u001b[0;34m\u001b[0m\u001b[0m\n\u001b[0m",
      "\u001b[0;31mTypeError\u001b[0m: Only integers allowed"
     ]
    }
   ],
   "source": [
    "## Raise your own exceptions\n",
    "x = 3.32\n",
    "if type(x) is not int:\n",
    "    raise TypeError(\"Only integers allowed\")"
   ]
  }
 ],
 "metadata": {
  "kernelspec": {
   "display_name": "Python 3",
   "language": "python",
   "name": "python3"
  },
  "language_info": {
   "codemirror_mode": {
    "name": "ipython",
    "version": 3
   },
   "file_extension": ".py",
   "mimetype": "text/x-python",
   "name": "python",
   "nbconvert_exporter": "python",
   "pygments_lexer": "ipython3",
   "version": "3.8.5"
  }
 },
 "nbformat": 4,
 "nbformat_minor": 1
}
