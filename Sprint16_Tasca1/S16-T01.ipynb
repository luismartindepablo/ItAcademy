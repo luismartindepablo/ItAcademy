{
 "cells": [
  {
   "cell_type": "markdown",
   "id": "changed-quebec",
   "metadata": {},
   "source": [
    "# Pipelines, grid search i text mining"
   ]
  },
  {
   "cell_type": "markdown",
   "id": "administrative-century",
   "metadata": {},
   "source": [
    "Comencem a familiaritzar-nos amb Pipelines, grid search i text mining! Comencem amb uns quants exercicis bàsics.\n",
    "\n",
    "**Exercici 1**\n",
    "\n",
    "Agafa el conjunt de dades que vulguis i realitza un pipeline i un gridsearch aplicant l'algorisme de Random Forest.\n",
    "\n",
    "**Exercici 2**\n",
    "\n",
    "Agafa un text en anglès que vulguis, i calcula'n la freqüència de les paraules\n",
    "\n",
    "**Exercici 3**\n",
    "\n",
    "Treu les stopwords i realitza stemming al teu conjunt de dades.\n",
    "\n",
    "**Exercici 4**\n",
    "\n",
    "Realitza sentiment analysis al teu conjunt de dades."
   ]
  },
  {
   "cell_type": "code",
   "execution_count": 1,
   "id": "respected-advocate",
   "metadata": {},
   "outputs": [],
   "source": [
    "import pandas as pd\n",
    "pd.set_option(\"display.max_columns\", None)\n",
    "\n",
    "import numpy as np\n",
    "import matplotlib.pyplot as plt\n",
    "\n",
    "import category_encoders as ce\n",
    "from sklearn.preprocessing import StandardScaler\n",
    "\n",
    "from sklearn.linear_model import LinearRegression\n",
    "from sklearn.ensemble import  RandomForestRegressor\n",
    "from sklearn.model_selection import train_test_split\n",
    "from sklearn.metrics import mean_squared_error\n",
    "\n",
    "from sklearn.base import BaseEstimator\n",
    "from sklearn.compose import ColumnTransformer \n",
    "from sklearn.impute import SimpleImputer\n",
    "from sklearn.pipeline import Pipeline\n",
    "from sklearn.model_selection import RandomizedSearchCV\n",
    "\n",
    "import nltk\n",
    "from nltk.tokenize import word_tokenize\n",
    "from nltk.probability import FreqDist\n",
    "from nltk.corpus import stopwords\n",
    "from nltk.stem import PorterStemmer\n",
    "\n",
    "from textblob import TextBlob"
   ]
  },
  {
   "cell_type": "markdown",
   "id": "bronze-contrast",
   "metadata": {},
   "source": [
    "# Exercici 1\n",
    "\n",
    "Reproducimos https://www.analyticsvidhya.com/blog/2020/01/build-your-first-machine-learning-pipeline-using-scikit-learn/"
   ]
  },
  {
   "cell_type": "markdown",
   "id": "solar-strap",
   "metadata": {},
   "source": [
    "### Data\n",
    "[BIG MART SALES PREDICTION](https://www.kaggle.com/devashish0507/big-mart-sales-prediction) "
   ]
  },
  {
   "cell_type": "code",
   "execution_count": 2,
   "id": "empty-pittsburgh",
   "metadata": {},
   "outputs": [],
   "source": [
    "# Read csv\n",
    "df_raw = pd.read_csv(\"./archive/Train.csv\")"
   ]
  },
  {
   "cell_type": "code",
   "execution_count": 3,
   "id": "dominant-judge",
   "metadata": {},
   "outputs": [
    {
     "name": "stdout",
     "output_type": "stream",
     "text": [
      "<class 'pandas.core.frame.DataFrame'>\n",
      "RangeIndex: 8523 entries, 0 to 8522\n",
      "Data columns (total 12 columns):\n",
      " #   Column                     Non-Null Count  Dtype  \n",
      "---  ------                     --------------  -----  \n",
      " 0   Item_Identifier            8523 non-null   object \n",
      " 1   Item_Weight                7060 non-null   float64\n",
      " 2   Item_Fat_Content           8523 non-null   object \n",
      " 3   Item_Visibility            8523 non-null   float64\n",
      " 4   Item_Type                  8523 non-null   object \n",
      " 5   Item_MRP                   8523 non-null   float64\n",
      " 6   Outlet_Identifier          8523 non-null   object \n",
      " 7   Outlet_Establishment_Year  8523 non-null   int64  \n",
      " 8   Outlet_Size                6113 non-null   object \n",
      " 9   Outlet_Location_Type       8523 non-null   object \n",
      " 10  Outlet_Type                8523 non-null   object \n",
      " 11  Item_Outlet_Sales          8523 non-null   float64\n",
      "dtypes: float64(4), int64(1), object(7)\n",
      "memory usage: 799.2+ KB\n"
     ]
    }
   ],
   "source": [
    "# Estrucutra\n",
    "df_raw.info()"
   ]
  },
  {
   "cell_type": "code",
   "execution_count": 4,
   "id": "guided-stewart",
   "metadata": {},
   "outputs": [
    {
     "data": {
      "text/html": [
       "<div>\n",
       "<style scoped>\n",
       "    .dataframe tbody tr th:only-of-type {\n",
       "        vertical-align: middle;\n",
       "    }\n",
       "\n",
       "    .dataframe tbody tr th {\n",
       "        vertical-align: top;\n",
       "    }\n",
       "\n",
       "    .dataframe thead th {\n",
       "        text-align: right;\n",
       "    }\n",
       "</style>\n",
       "<table border=\"1\" class=\"dataframe\">\n",
       "  <thead>\n",
       "    <tr style=\"text-align: right;\">\n",
       "      <th></th>\n",
       "      <th>Item_Identifier</th>\n",
       "      <th>Item_Weight</th>\n",
       "      <th>Item_Fat_Content</th>\n",
       "      <th>Item_Visibility</th>\n",
       "      <th>Item_Type</th>\n",
       "      <th>Item_MRP</th>\n",
       "      <th>Outlet_Identifier</th>\n",
       "      <th>Outlet_Establishment_Year</th>\n",
       "      <th>Outlet_Size</th>\n",
       "      <th>Outlet_Location_Type</th>\n",
       "      <th>Outlet_Type</th>\n",
       "      <th>Item_Outlet_Sales</th>\n",
       "    </tr>\n",
       "  </thead>\n",
       "  <tbody>\n",
       "    <tr>\n",
       "      <th>8410</th>\n",
       "      <td>NCS06</td>\n",
       "      <td>7.935</td>\n",
       "      <td>Low Fat</td>\n",
       "      <td>0.000000</td>\n",
       "      <td>Household</td>\n",
       "      <td>263.6910</td>\n",
       "      <td>OUT046</td>\n",
       "      <td>1997</td>\n",
       "      <td>Small</td>\n",
       "      <td>Tier 1</td>\n",
       "      <td>Supermarket Type1</td>\n",
       "      <td>788.9730</td>\n",
       "    </tr>\n",
       "    <tr>\n",
       "      <th>4646</th>\n",
       "      <td>NCA05</td>\n",
       "      <td>20.750</td>\n",
       "      <td>Low Fat</td>\n",
       "      <td>0.025126</td>\n",
       "      <td>Health and Hygiene</td>\n",
       "      <td>150.4734</td>\n",
       "      <td>OUT035</td>\n",
       "      <td>2004</td>\n",
       "      <td>Small</td>\n",
       "      <td>Tier 2</td>\n",
       "      <td>Supermarket Type1</td>\n",
       "      <td>890.8404</td>\n",
       "    </tr>\n",
       "    <tr>\n",
       "      <th>4365</th>\n",
       "      <td>DRJ49</td>\n",
       "      <td>6.865</td>\n",
       "      <td>Low Fat</td>\n",
       "      <td>0.014022</td>\n",
       "      <td>Soft Drinks</td>\n",
       "      <td>127.1652</td>\n",
       "      <td>OUT045</td>\n",
       "      <td>2002</td>\n",
       "      <td>NaN</td>\n",
       "      <td>Tier 2</td>\n",
       "      <td>Supermarket Type1</td>\n",
       "      <td>1291.6520</td>\n",
       "    </tr>\n",
       "    <tr>\n",
       "      <th>685</th>\n",
       "      <td>FDS10</td>\n",
       "      <td>NaN</td>\n",
       "      <td>Low Fat</td>\n",
       "      <td>0.035015</td>\n",
       "      <td>Snack Foods</td>\n",
       "      <td>182.0318</td>\n",
       "      <td>OUT027</td>\n",
       "      <td>1985</td>\n",
       "      <td>Medium</td>\n",
       "      <td>Tier 3</td>\n",
       "      <td>Supermarket Type3</td>\n",
       "      <td>5954.2494</td>\n",
       "    </tr>\n",
       "    <tr>\n",
       "      <th>3726</th>\n",
       "      <td>FDB58</td>\n",
       "      <td>NaN</td>\n",
       "      <td>Regular</td>\n",
       "      <td>0.013431</td>\n",
       "      <td>Snack Foods</td>\n",
       "      <td>143.7154</td>\n",
       "      <td>OUT027</td>\n",
       "      <td>1985</td>\n",
       "      <td>Medium</td>\n",
       "      <td>Tier 3</td>\n",
       "      <td>Supermarket Type3</td>\n",
       "      <td>4821.7236</td>\n",
       "    </tr>\n",
       "  </tbody>\n",
       "</table>\n",
       "</div>"
      ],
      "text/plain": [
       "     Item_Identifier  Item_Weight Item_Fat_Content  Item_Visibility  \\\n",
       "8410           NCS06        7.935          Low Fat         0.000000   \n",
       "4646           NCA05       20.750          Low Fat         0.025126   \n",
       "4365           DRJ49        6.865          Low Fat         0.014022   \n",
       "685            FDS10          NaN          Low Fat         0.035015   \n",
       "3726           FDB58          NaN          Regular         0.013431   \n",
       "\n",
       "               Item_Type  Item_MRP Outlet_Identifier  \\\n",
       "8410           Household  263.6910            OUT046   \n",
       "4646  Health and Hygiene  150.4734            OUT035   \n",
       "4365         Soft Drinks  127.1652            OUT045   \n",
       "685          Snack Foods  182.0318            OUT027   \n",
       "3726         Snack Foods  143.7154            OUT027   \n",
       "\n",
       "      Outlet_Establishment_Year Outlet_Size Outlet_Location_Type  \\\n",
       "8410                       1997       Small               Tier 1   \n",
       "4646                       2004       Small               Tier 2   \n",
       "4365                       2002         NaN               Tier 2   \n",
       "685                        1985      Medium               Tier 3   \n",
       "3726                       1985      Medium               Tier 3   \n",
       "\n",
       "            Outlet_Type  Item_Outlet_Sales  \n",
       "8410  Supermarket Type1           788.9730  \n",
       "4646  Supermarket Type1           890.8404  \n",
       "4365  Supermarket Type1          1291.6520  \n",
       "685   Supermarket Type3          5954.2494  \n",
       "3726  Supermarket Type3          4821.7236  "
      ]
     },
     "execution_count": 4,
     "metadata": {},
     "output_type": "execute_result"
    }
   ],
   "source": [
    "# Muestra\n",
    "df_raw.sample(5)"
   ]
  },
  {
   "cell_type": "code",
   "execution_count": 5,
   "id": "understanding-allowance",
   "metadata": {},
   "outputs": [
    {
     "data": {
      "text/plain": [
       "Item_Identifier                 0\n",
       "Item_Weight                  1463\n",
       "Item_Fat_Content                0\n",
       "Item_Visibility                 0\n",
       "Item_Type                       0\n",
       "Item_MRP                        0\n",
       "Outlet_Identifier               0\n",
       "Outlet_Establishment_Year       0\n",
       "Outlet_Size                  2410\n",
       "Outlet_Location_Type            0\n",
       "Outlet_Type                     0\n",
       "Item_Outlet_Sales               0\n",
       "dtype: int64"
      ]
     },
     "execution_count": 5,
     "metadata": {},
     "output_type": "execute_result"
    }
   ],
   "source": [
    "# Check for the null values\n",
    "df_raw.isna().sum()"
   ]
  },
  {
   "cell_type": "code",
   "execution_count": 6,
   "id": "victorian-dispatch",
   "metadata": {},
   "outputs": [],
   "source": [
    "# Impute missing values in item weight by mean\n",
    "df_raw.Item_Weight.fillna(df_raw.Item_Weight.mean(), inplace=True)\n",
    "# Impute outlet size in training data by mode\n",
    "df_raw.Outlet_Size.fillna(df_raw.Outlet_Size.mode()[0], inplace=True)"
   ]
  },
  {
   "cell_type": "code",
   "execution_count": 7,
   "id": "defined-concentration",
   "metadata": {},
   "outputs": [
    {
     "name": "stderr",
     "output_type": "stream",
     "text": [
      "/Users/luis/opt/anaconda3/lib/python3.8/site-packages/category_encoders/utils.py:21: FutureWarning: is_categorical is deprecated and will be removed in a future version.  Use is_categorical_dtype instead\n",
      "  elif pd.api.types.is_categorical(cols):\n"
     ]
    }
   ],
   "source": [
    "# Create an object of the OneHotEncoder\n",
    "OHE = ce.OneHotEncoder(cols=['Item_Fat_Content',\n",
    "                             'Item_Type',\n",
    "                             'Outlet_Identifier',\n",
    "                             'Outlet_Size',\n",
    "                             'Outlet_Location_Type',\n",
    "                             'Outlet_Type'],use_cat_names=True)\n",
    "\n",
    "# Encode the categorical variables\n",
    "df_raw = OHE.fit_transform(df_raw)"
   ]
  },
  {
   "cell_type": "code",
   "execution_count": 8,
   "id": "separated-trinidad",
   "metadata": {},
   "outputs": [],
   "source": [
    "# Create an object of the StandardScaler\n",
    "scaler = StandardScaler()\n",
    "# Fit with the Item_MRP\n",
    "scaler.fit(np.array(df_raw.Item_MRP).reshape(-1,1))\n",
    "# Transform the data\n",
    "df_raw.Item_MRP = scaler.transform(np.array(df_raw.Item_MRP).reshape(-1,1))"
   ]
  },
  {
   "cell_type": "code",
   "execution_count": 9,
   "id": "decreased-indication",
   "metadata": {},
   "outputs": [
    {
     "data": {
      "text/html": [
       "<div>\n",
       "<style scoped>\n",
       "    .dataframe tbody tr th:only-of-type {\n",
       "        vertical-align: middle;\n",
       "    }\n",
       "\n",
       "    .dataframe tbody tr th {\n",
       "        vertical-align: top;\n",
       "    }\n",
       "\n",
       "    .dataframe thead th {\n",
       "        text-align: right;\n",
       "    }\n",
       "</style>\n",
       "<table border=\"1\" class=\"dataframe\">\n",
       "  <thead>\n",
       "    <tr style=\"text-align: right;\">\n",
       "      <th></th>\n",
       "      <th>Item_Identifier</th>\n",
       "      <th>Item_Weight</th>\n",
       "      <th>Item_Fat_Content_Low Fat</th>\n",
       "      <th>Item_Fat_Content_Regular</th>\n",
       "      <th>Item_Fat_Content_low fat</th>\n",
       "      <th>Item_Fat_Content_LF</th>\n",
       "      <th>Item_Fat_Content_reg</th>\n",
       "      <th>Item_Visibility</th>\n",
       "      <th>Item_Type_Dairy</th>\n",
       "      <th>Item_Type_Soft Drinks</th>\n",
       "      <th>Item_Type_Meat</th>\n",
       "      <th>Item_Type_Fruits and Vegetables</th>\n",
       "      <th>Item_Type_Household</th>\n",
       "      <th>Item_Type_Baking Goods</th>\n",
       "      <th>Item_Type_Snack Foods</th>\n",
       "      <th>Item_Type_Frozen Foods</th>\n",
       "      <th>Item_Type_Breakfast</th>\n",
       "      <th>Item_Type_Health and Hygiene</th>\n",
       "      <th>Item_Type_Hard Drinks</th>\n",
       "      <th>Item_Type_Canned</th>\n",
       "      <th>Item_Type_Breads</th>\n",
       "      <th>Item_Type_Starchy Foods</th>\n",
       "      <th>Item_Type_Others</th>\n",
       "      <th>Item_Type_Seafood</th>\n",
       "      <th>Item_MRP</th>\n",
       "      <th>Outlet_Identifier_OUT049</th>\n",
       "      <th>Outlet_Identifier_OUT018</th>\n",
       "      <th>Outlet_Identifier_OUT010</th>\n",
       "      <th>Outlet_Identifier_OUT013</th>\n",
       "      <th>Outlet_Identifier_OUT027</th>\n",
       "      <th>Outlet_Identifier_OUT045</th>\n",
       "      <th>Outlet_Identifier_OUT017</th>\n",
       "      <th>Outlet_Identifier_OUT046</th>\n",
       "      <th>Outlet_Identifier_OUT035</th>\n",
       "      <th>Outlet_Identifier_OUT019</th>\n",
       "      <th>Outlet_Establishment_Year</th>\n",
       "      <th>Outlet_Size_Medium</th>\n",
       "      <th>Outlet_Size_High</th>\n",
       "      <th>Outlet_Size_Small</th>\n",
       "      <th>Outlet_Location_Type_Tier 1</th>\n",
       "      <th>Outlet_Location_Type_Tier 3</th>\n",
       "      <th>Outlet_Location_Type_Tier 2</th>\n",
       "      <th>Outlet_Type_Supermarket Type1</th>\n",
       "      <th>Outlet_Type_Supermarket Type2</th>\n",
       "      <th>Outlet_Type_Grocery Store</th>\n",
       "      <th>Outlet_Type_Supermarket Type3</th>\n",
       "      <th>Item_Outlet_Sales</th>\n",
       "    </tr>\n",
       "  </thead>\n",
       "  <tbody>\n",
       "    <tr>\n",
       "      <th>1097</th>\n",
       "      <td>FDK10</td>\n",
       "      <td>12.857645</td>\n",
       "      <td>0</td>\n",
       "      <td>1</td>\n",
       "      <td>0</td>\n",
       "      <td>0</td>\n",
       "      <td>0</td>\n",
       "      <td>0.040163</td>\n",
       "      <td>0</td>\n",
       "      <td>0</td>\n",
       "      <td>0</td>\n",
       "      <td>0</td>\n",
       "      <td>0</td>\n",
       "      <td>0</td>\n",
       "      <td>1</td>\n",
       "      <td>0</td>\n",
       "      <td>0</td>\n",
       "      <td>0</td>\n",
       "      <td>0</td>\n",
       "      <td>0</td>\n",
       "      <td>0</td>\n",
       "      <td>0</td>\n",
       "      <td>0</td>\n",
       "      <td>0</td>\n",
       "      <td>0.645131</td>\n",
       "      <td>0</td>\n",
       "      <td>0</td>\n",
       "      <td>0</td>\n",
       "      <td>0</td>\n",
       "      <td>1</td>\n",
       "      <td>0</td>\n",
       "      <td>0</td>\n",
       "      <td>0</td>\n",
       "      <td>0</td>\n",
       "      <td>0</td>\n",
       "      <td>1985</td>\n",
       "      <td>1</td>\n",
       "      <td>0</td>\n",
       "      <td>0</td>\n",
       "      <td>0</td>\n",
       "      <td>1</td>\n",
       "      <td>0</td>\n",
       "      <td>0</td>\n",
       "      <td>0</td>\n",
       "      <td>0</td>\n",
       "      <td>1</td>\n",
       "      <td>3415.5540</td>\n",
       "    </tr>\n",
       "    <tr>\n",
       "      <th>1860</th>\n",
       "      <td>FDA01</td>\n",
       "      <td>15.000000</td>\n",
       "      <td>0</td>\n",
       "      <td>1</td>\n",
       "      <td>0</td>\n",
       "      <td>0</td>\n",
       "      <td>0</td>\n",
       "      <td>0.054600</td>\n",
       "      <td>0</td>\n",
       "      <td>0</td>\n",
       "      <td>0</td>\n",
       "      <td>0</td>\n",
       "      <td>0</td>\n",
       "      <td>0</td>\n",
       "      <td>0</td>\n",
       "      <td>0</td>\n",
       "      <td>0</td>\n",
       "      <td>0</td>\n",
       "      <td>0</td>\n",
       "      <td>1</td>\n",
       "      <td>0</td>\n",
       "      <td>0</td>\n",
       "      <td>0</td>\n",
       "      <td>0</td>\n",
       "      <td>-1.308825</td>\n",
       "      <td>0</td>\n",
       "      <td>1</td>\n",
       "      <td>0</td>\n",
       "      <td>0</td>\n",
       "      <td>0</td>\n",
       "      <td>0</td>\n",
       "      <td>0</td>\n",
       "      <td>0</td>\n",
       "      <td>0</td>\n",
       "      <td>0</td>\n",
       "      <td>2009</td>\n",
       "      <td>1</td>\n",
       "      <td>0</td>\n",
       "      <td>0</td>\n",
       "      <td>0</td>\n",
       "      <td>1</td>\n",
       "      <td>0</td>\n",
       "      <td>0</td>\n",
       "      <td>1</td>\n",
       "      <td>0</td>\n",
       "      <td>0</td>\n",
       "      <td>644.4944</td>\n",
       "    </tr>\n",
       "    <tr>\n",
       "      <th>1186</th>\n",
       "      <td>FDZ47</td>\n",
       "      <td>20.700000</td>\n",
       "      <td>0</td>\n",
       "      <td>1</td>\n",
       "      <td>0</td>\n",
       "      <td>0</td>\n",
       "      <td>0</td>\n",
       "      <td>0.079420</td>\n",
       "      <td>0</td>\n",
       "      <td>0</td>\n",
       "      <td>0</td>\n",
       "      <td>0</td>\n",
       "      <td>0</td>\n",
       "      <td>1</td>\n",
       "      <td>0</td>\n",
       "      <td>0</td>\n",
       "      <td>0</td>\n",
       "      <td>0</td>\n",
       "      <td>0</td>\n",
       "      <td>0</td>\n",
       "      <td>0</td>\n",
       "      <td>0</td>\n",
       "      <td>0</td>\n",
       "      <td>0</td>\n",
       "      <td>-0.661436</td>\n",
       "      <td>1</td>\n",
       "      <td>0</td>\n",
       "      <td>0</td>\n",
       "      <td>0</td>\n",
       "      <td>0</td>\n",
       "      <td>0</td>\n",
       "      <td>0</td>\n",
       "      <td>0</td>\n",
       "      <td>0</td>\n",
       "      <td>0</td>\n",
       "      <td>1999</td>\n",
       "      <td>1</td>\n",
       "      <td>0</td>\n",
       "      <td>0</td>\n",
       "      <td>1</td>\n",
       "      <td>0</td>\n",
       "      <td>0</td>\n",
       "      <td>1</td>\n",
       "      <td>0</td>\n",
       "      <td>0</td>\n",
       "      <td>0</td>\n",
       "      <td>1488.0630</td>\n",
       "    </tr>\n",
       "    <tr>\n",
       "      <th>7875</th>\n",
       "      <td>FDO09</td>\n",
       "      <td>12.857645</td>\n",
       "      <td>0</td>\n",
       "      <td>1</td>\n",
       "      <td>0</td>\n",
       "      <td>0</td>\n",
       "      <td>0</td>\n",
       "      <td>0.124668</td>\n",
       "      <td>0</td>\n",
       "      <td>0</td>\n",
       "      <td>0</td>\n",
       "      <td>0</td>\n",
       "      <td>0</td>\n",
       "      <td>0</td>\n",
       "      <td>1</td>\n",
       "      <td>0</td>\n",
       "      <td>0</td>\n",
       "      <td>0</td>\n",
       "      <td>0</td>\n",
       "      <td>0</td>\n",
       "      <td>0</td>\n",
       "      <td>0</td>\n",
       "      <td>0</td>\n",
       "      <td>0</td>\n",
       "      <td>1.928625</td>\n",
       "      <td>0</td>\n",
       "      <td>0</td>\n",
       "      <td>0</td>\n",
       "      <td>0</td>\n",
       "      <td>1</td>\n",
       "      <td>0</td>\n",
       "      <td>0</td>\n",
       "      <td>0</td>\n",
       "      <td>0</td>\n",
       "      <td>0</td>\n",
       "      <td>1985</td>\n",
       "      <td>1</td>\n",
       "      <td>0</td>\n",
       "      <td>0</td>\n",
       "      <td>0</td>\n",
       "      <td>1</td>\n",
       "      <td>0</td>\n",
       "      <td>0</td>\n",
       "      <td>0</td>\n",
       "      <td>0</td>\n",
       "      <td>1</td>\n",
       "      <td>5522.8110</td>\n",
       "    </tr>\n",
       "    <tr>\n",
       "      <th>5269</th>\n",
       "      <td>FDB41</td>\n",
       "      <td>19.000000</td>\n",
       "      <td>0</td>\n",
       "      <td>1</td>\n",
       "      <td>0</td>\n",
       "      <td>0</td>\n",
       "      <td>0</td>\n",
       "      <td>0.097710</td>\n",
       "      <td>0</td>\n",
       "      <td>0</td>\n",
       "      <td>0</td>\n",
       "      <td>0</td>\n",
       "      <td>0</td>\n",
       "      <td>0</td>\n",
       "      <td>0</td>\n",
       "      <td>1</td>\n",
       "      <td>0</td>\n",
       "      <td>0</td>\n",
       "      <td>0</td>\n",
       "      <td>0</td>\n",
       "      <td>0</td>\n",
       "      <td>0</td>\n",
       "      <td>0</td>\n",
       "      <td>0</td>\n",
       "      <td>-1.482558</td>\n",
       "      <td>0</td>\n",
       "      <td>1</td>\n",
       "      <td>0</td>\n",
       "      <td>0</td>\n",
       "      <td>0</td>\n",
       "      <td>0</td>\n",
       "      <td>0</td>\n",
       "      <td>0</td>\n",
       "      <td>0</td>\n",
       "      <td>0</td>\n",
       "      <td>2009</td>\n",
       "      <td>1</td>\n",
       "      <td>0</td>\n",
       "      <td>0</td>\n",
       "      <td>0</td>\n",
       "      <td>1</td>\n",
       "      <td>0</td>\n",
       "      <td>0</td>\n",
       "      <td>1</td>\n",
       "      <td>0</td>\n",
       "      <td>0</td>\n",
       "      <td>614.5334</td>\n",
       "    </tr>\n",
       "  </tbody>\n",
       "</table>\n",
       "</div>"
      ],
      "text/plain": [
       "     Item_Identifier  Item_Weight  Item_Fat_Content_Low Fat  \\\n",
       "1097           FDK10    12.857645                         0   \n",
       "1860           FDA01    15.000000                         0   \n",
       "1186           FDZ47    20.700000                         0   \n",
       "7875           FDO09    12.857645                         0   \n",
       "5269           FDB41    19.000000                         0   \n",
       "\n",
       "      Item_Fat_Content_Regular  Item_Fat_Content_low fat  Item_Fat_Content_LF  \\\n",
       "1097                         1                         0                    0   \n",
       "1860                         1                         0                    0   \n",
       "1186                         1                         0                    0   \n",
       "7875                         1                         0                    0   \n",
       "5269                         1                         0                    0   \n",
       "\n",
       "      Item_Fat_Content_reg  Item_Visibility  Item_Type_Dairy  \\\n",
       "1097                     0         0.040163                0   \n",
       "1860                     0         0.054600                0   \n",
       "1186                     0         0.079420                0   \n",
       "7875                     0         0.124668                0   \n",
       "5269                     0         0.097710                0   \n",
       "\n",
       "      Item_Type_Soft Drinks  Item_Type_Meat  Item_Type_Fruits and Vegetables  \\\n",
       "1097                      0               0                                0   \n",
       "1860                      0               0                                0   \n",
       "1186                      0               0                                0   \n",
       "7875                      0               0                                0   \n",
       "5269                      0               0                                0   \n",
       "\n",
       "      Item_Type_Household  Item_Type_Baking Goods  Item_Type_Snack Foods  \\\n",
       "1097                    0                       0                      1   \n",
       "1860                    0                       0                      0   \n",
       "1186                    0                       1                      0   \n",
       "7875                    0                       0                      1   \n",
       "5269                    0                       0                      0   \n",
       "\n",
       "      Item_Type_Frozen Foods  Item_Type_Breakfast  \\\n",
       "1097                       0                    0   \n",
       "1860                       0                    0   \n",
       "1186                       0                    0   \n",
       "7875                       0                    0   \n",
       "5269                       1                    0   \n",
       "\n",
       "      Item_Type_Health and Hygiene  Item_Type_Hard Drinks  Item_Type_Canned  \\\n",
       "1097                             0                      0                 0   \n",
       "1860                             0                      0                 1   \n",
       "1186                             0                      0                 0   \n",
       "7875                             0                      0                 0   \n",
       "5269                             0                      0                 0   \n",
       "\n",
       "      Item_Type_Breads  Item_Type_Starchy Foods  Item_Type_Others  \\\n",
       "1097                 0                        0                 0   \n",
       "1860                 0                        0                 0   \n",
       "1186                 0                        0                 0   \n",
       "7875                 0                        0                 0   \n",
       "5269                 0                        0                 0   \n",
       "\n",
       "      Item_Type_Seafood  Item_MRP  Outlet_Identifier_OUT049  \\\n",
       "1097                  0  0.645131                         0   \n",
       "1860                  0 -1.308825                         0   \n",
       "1186                  0 -0.661436                         1   \n",
       "7875                  0  1.928625                         0   \n",
       "5269                  0 -1.482558                         0   \n",
       "\n",
       "      Outlet_Identifier_OUT018  Outlet_Identifier_OUT010  \\\n",
       "1097                         0                         0   \n",
       "1860                         1                         0   \n",
       "1186                         0                         0   \n",
       "7875                         0                         0   \n",
       "5269                         1                         0   \n",
       "\n",
       "      Outlet_Identifier_OUT013  Outlet_Identifier_OUT027  \\\n",
       "1097                         0                         1   \n",
       "1860                         0                         0   \n",
       "1186                         0                         0   \n",
       "7875                         0                         1   \n",
       "5269                         0                         0   \n",
       "\n",
       "      Outlet_Identifier_OUT045  Outlet_Identifier_OUT017  \\\n",
       "1097                         0                         0   \n",
       "1860                         0                         0   \n",
       "1186                         0                         0   \n",
       "7875                         0                         0   \n",
       "5269                         0                         0   \n",
       "\n",
       "      Outlet_Identifier_OUT046  Outlet_Identifier_OUT035  \\\n",
       "1097                         0                         0   \n",
       "1860                         0                         0   \n",
       "1186                         0                         0   \n",
       "7875                         0                         0   \n",
       "5269                         0                         0   \n",
       "\n",
       "      Outlet_Identifier_OUT019  Outlet_Establishment_Year  Outlet_Size_Medium  \\\n",
       "1097                         0                       1985                   1   \n",
       "1860                         0                       2009                   1   \n",
       "1186                         0                       1999                   1   \n",
       "7875                         0                       1985                   1   \n",
       "5269                         0                       2009                   1   \n",
       "\n",
       "      Outlet_Size_High  Outlet_Size_Small  Outlet_Location_Type_Tier 1  \\\n",
       "1097                 0                  0                            0   \n",
       "1860                 0                  0                            0   \n",
       "1186                 0                  0                            1   \n",
       "7875                 0                  0                            0   \n",
       "5269                 0                  0                            0   \n",
       "\n",
       "      Outlet_Location_Type_Tier 3  Outlet_Location_Type_Tier 2  \\\n",
       "1097                            1                            0   \n",
       "1860                            1                            0   \n",
       "1186                            0                            0   \n",
       "7875                            1                            0   \n",
       "5269                            1                            0   \n",
       "\n",
       "      Outlet_Type_Supermarket Type1  Outlet_Type_Supermarket Type2  \\\n",
       "1097                              0                              0   \n",
       "1860                              0                              1   \n",
       "1186                              1                              0   \n",
       "7875                              0                              0   \n",
       "5269                              0                              1   \n",
       "\n",
       "      Outlet_Type_Grocery Store  Outlet_Type_Supermarket Type3  \\\n",
       "1097                          0                              1   \n",
       "1860                          0                              0   \n",
       "1186                          0                              0   \n",
       "7875                          0                              1   \n",
       "5269                          0                              0   \n",
       "\n",
       "      Item_Outlet_Sales  \n",
       "1097          3415.5540  \n",
       "1860           644.4944  \n",
       "1186          1488.0630  \n",
       "7875          5522.8110  \n",
       "5269           614.5334  "
      ]
     },
     "execution_count": 9,
     "metadata": {},
     "output_type": "execute_result"
    }
   ],
   "source": [
    "# Muestra\n",
    "df_raw.sample(5)"
   ]
  },
  {
   "cell_type": "code",
   "execution_count": 10,
   "id": "personalized-antenna",
   "metadata": {},
   "outputs": [],
   "source": [
    "# Save csv\n",
    "df_raw.to_csv(\"df_clean.csv\")"
   ]
  },
  {
   "cell_type": "markdown",
   "id": "sticky-designation",
   "metadata": {},
   "source": [
    "### Model building"
   ]
  },
  {
   "cell_type": "code",
   "execution_count": 11,
   "id": "preliminary-graham",
   "metadata": {},
   "outputs": [],
   "source": [
    "# Read csv\n",
    "df_clean = pd.read_csv(\"df_clean.csv\", index_col=[0])"
   ]
  },
  {
   "cell_type": "code",
   "execution_count": 12,
   "id": "metallic-window",
   "metadata": {},
   "outputs": [],
   "source": [
    "# Separate the independent and target variable \n",
    "df_clean_X = df_clean.drop(columns=['Item_Identifier','Item_Outlet_Sales'])\n",
    "df_clean_Y = df_clean['Item_Outlet_Sales']"
   ]
  },
  {
   "cell_type": "code",
   "execution_count": 13,
   "id": "backed-hello",
   "metadata": {},
   "outputs": [],
   "source": [
    "# Randomly split the data\n",
    "train_x, test_x, train_y, test_y = train_test_split(df_clean_X, df_clean_Y,test_size=0.25,random_state=0)"
   ]
  },
  {
   "cell_type": "code",
   "execution_count": 14,
   "id": "nonprofit-casino",
   "metadata": {},
   "outputs": [
    {
     "name": "stdout",
     "output_type": "stream",
     "text": [
      "RMSE on train data:  1120.4035486046475\n",
      "RMSE on test data:  1148.7085083556728\n"
     ]
    }
   ],
   "source": [
    "# Create an object of the LinearRegression Model\n",
    "model_LR = LinearRegression()\n",
    "\n",
    "# Fit the model with the training data\n",
    "model_LR.fit(train_x, train_y)\n",
    "\n",
    "# Predict the target on train and test data \n",
    "predict_train = model_LR.predict(train_x)\n",
    "predict_test  = model_LR.predict(test_x)\n",
    "\n",
    "# Root Mean Squared Error on train and test date\n",
    "print('RMSE on train data: ', mean_squared_error(train_y, predict_train)**(0.5))\n",
    "print('RMSE on test data: ',  mean_squared_error(test_y, predict_test)**(0.5))"
   ]
  },
  {
   "cell_type": "code",
   "execution_count": 15,
   "id": "satellite-problem",
   "metadata": {},
   "outputs": [
    {
     "name": "stdout",
     "output_type": "stream",
     "text": [
      "RMSE on train data:  898.35259725299\n",
      "RMSE on test data:  1116.6015970769595\n"
     ]
    }
   ],
   "source": [
    "# Create an object of the RandomForestRegressor\n",
    "model_RFR = RandomForestRegressor(max_depth=10)\n",
    "\n",
    "# Fit the model with the training data\n",
    "model_RFR.fit(train_x, train_y)\n",
    "\n",
    "# Predict the target on train and test data\n",
    "predict_train = model_RFR.predict(train_x)\n",
    "predict_test = model_RFR.predict(test_x)\n",
    "\n",
    "# Root Mean Squared Error on train and test data\n",
    "print('RMSE on train data: ', mean_squared_error(train_y, predict_train)**(0.5))\n",
    "print('RMSE on test data: ',  mean_squared_error(test_y, predict_test)**(0.5))"
   ]
  },
  {
   "cell_type": "markdown",
   "id": "freelance-notification",
   "metadata": {},
   "source": [
    "Random Forest performs way better. "
   ]
  },
  {
   "cell_type": "code",
   "execution_count": 16,
   "id": "powerful-equilibrium",
   "metadata": {},
   "outputs": [
    {
     "data": {
      "image/png": "[encoded data removed]",
      "text/plain": [
       "<Figure size 720x504 with 1 Axes>"
      ]
     },
     "metadata": {
      "needs_background": "light"
     },
     "output_type": "display_data"
    }
   ],
   "source": [
    "# Plot the 7 most important features \n",
    "plt.figure(figsize=(10,7))\n",
    "feat_importances = pd.Series(model_RFR.feature_importances_, index = train_x.columns)\n",
    "feat_importances.nlargest(7).plot(kind='barh');"
   ]
  },
  {
   "cell_type": "code",
   "execution_count": 17,
   "id": "defined-helen",
   "metadata": {},
   "outputs": [
    {
     "name": "stdout",
     "output_type": "stream",
     "text": [
      "RMSE on train data:  899.8582438552843\n",
      "RMSE on test data:  1117.7016540152065\n"
     ]
    }
   ],
   "source": [
    "# Training data with 7 most important features\n",
    "train_x_if = train_x[['Item_MRP', \n",
    "                    'Outlet_Type_Grocery Store',\n",
    "                    'Item_Visibility',\n",
    "                    'Outlet_Type_Supermarket Type3',\n",
    "                    'Outlet_Identifier_OUT027',\n",
    "                    'Outlet_Establishment_Year',\n",
    "                    'Item_Weight']]\n",
    "# Test data with 7 most important features\n",
    "test_x_if = test_x[['Item_MRP', \n",
    "                    'Outlet_Type_Grocery Store',\n",
    "                    'Item_Visibility',\n",
    "                    'Outlet_Type_Supermarket Type3',\n",
    "                    'Outlet_Identifier_OUT027',\n",
    "                    'Outlet_Establishment_Year',\n",
    "                    'Item_Weight']]\n",
    "\n",
    "# Create an object of the RandfomForestRegressor Model\n",
    "model_RFR_with_if = RandomForestRegressor(max_depth=10,random_state=2)\n",
    "\n",
    "# Fit the model with the training data\n",
    "model_RFR_with_if.fit(train_x_if, train_y)\n",
    "\n",
    "# Predict the target on the training and test data\n",
    "predict_train_with_if = model_RFR_with_if.predict(train_x_if)\n",
    "predict_test_with_if = model_RFR_with_if.predict(test_x_if)\n",
    "\n",
    "# Root Mean Squared Error on the train and test data\n",
    "print('RMSE on train data: ', mean_squared_error(train_y, predict_train_with_if)**(0.5))\n",
    "print('RMSE on test data: ',  mean_squared_error(test_y, predict_test_with_if)**(0.5))"
   ]
  },
  {
   "cell_type": "markdown",
   "id": "consecutive-labor",
   "metadata": {},
   "source": [
    "We achieve the same performance using only the seven most effective attributes, creating a less complex model."
   ]
  },
  {
   "cell_type": "markdown",
   "id": "adverse-champion",
   "metadata": {},
   "source": [
    "### Pipeline"
   ]
  },
  {
   "cell_type": "markdown",
   "id": "beginning-sector",
   "metadata": {},
   "source": [
    "Selected Features and Preprocessing Steps\n",
    "\n",
    "- **Item_MRP:** It holds the price of the products. During the preprocessing step we used a standard scaler to scale this values.\n",
    "\n",
    "- **Outlet_Type_Grocery_Store:** A binary column which indicates if the outlet type is a grocery store or not. To use this information in the model building process, we will add a binary feature in the existing data that contains 1 (if outlet type is a grocery store) and 0 ( if outlet type is something else).\n",
    "\n",
    "- **Item_Visibility:** Denotes visibility of products in the store. Since this variable had a small value range and no missing values, we didn’t apply any preprocessing steps on this variable.\n",
    "\n",
    "- **Outlet_Type_Supermarket_Type3:** Another binary column indicating if the outlet type is a “supermarket_type_3” or not. To capture this information we will create binary feature that stores 1 (if outlet type is supermarket_type_3) and 0 (othewise).\n",
    "\n",
    "- **Outlet_Identifier_OUT027:** This feature specifies whether the outlet identifier is “OUT027” or not. Similar to the last previous example, we will create a separate column that carries 1 (if outlet type is grocery store) and 0 (otherwise).\n",
    "\n",
    "- **Outlet_Establishment_Year:** The Outlet_Establishment_Year describes year of establishment of the stores. Since we did not perform any transformation on values in this column, we will not preprocess it in the pipeline as well.\n",
    "\n",
    "- **Item_Weight:** During the preprocessing steps we observed that Item_Weight had missing values. These missing values were imputed using the average of the column. This has to be taken into account while building the machine learning pipeline."
   ]
  },
  {
   "cell_type": "code",
   "execution_count": 18,
   "id": "pressing-verification",
   "metadata": {},
   "outputs": [],
   "source": [
    "# Read the training data set\n",
    "data = pd.read_csv(\"./archive/Train.csv\")\n",
    "\n",
    "# Seperate the independent and target variables\n",
    "data_x = data.drop(columns=['Item_Outlet_Sales'])\n",
    "data_y = data['Item_Outlet_Sales']\n",
    "\n",
    "# Randomly split the data\n",
    "train_x, test_x, train_y, test_y = train_test_split(data_x, data_y,test_size=0.25,random_state=0)"
   ]
  },
  {
   "cell_type": "code",
   "execution_count": 19,
   "id": "moving-carol",
   "metadata": {},
   "outputs": [],
   "source": [
    "# Define the class OutletTypeEncoder\n",
    "# This will be our custom transformer that will create 3 new binary columns\n",
    "# Custom transformer must have methods fit and transform\n",
    "class OutletTypeEncoder(BaseEstimator):\n",
    "\n",
    "    def __init__(self):\n",
    "        pass\n",
    "\n",
    "    def fit(self, documents, y=None):\n",
    "        return self\n",
    "\n",
    "    def transform(self, x_dataset):\n",
    "        x_dataset['outlet_grocery_store'] = (x_dataset['Outlet_Type'] == 'Grocery Store')*1\n",
    "        x_dataset['outlet_supermarket_3'] = (x_dataset['Outlet_Type'] == 'Supermarket Type3')*1\n",
    "        x_dataset['outlet_identifier_OUT027'] = (x_dataset['Outlet_Identifier'] == 'OUT027')*1\n",
    "        \n",
    "        return x_dataset"
   ]
  },
  {
   "cell_type": "code",
   "execution_count": 20,
   "id": "jewish-ethnic",
   "metadata": {},
   "outputs": [],
   "source": [
    "# Pre-processsing step\n",
    "# Drop the columns - \n",
    "# Impute the missing values in column Item_Weight by mean\n",
    "# Scale the data in the column Item_MRP\n",
    "pre_process = ColumnTransformer(\n",
    "    remainder='passthrough',\n",
    "    transformers=[('drop_columns', 'drop', ['Item_Identifier',\n",
    "                                            'Outlet_Identifier',\n",
    "                                            'Item_Fat_Content',\n",
    "                                            'Item_Type',\n",
    "                                            'Outlet_Identifier',\n",
    "                                            'Outlet_Size',\n",
    "                                            'Outlet_Location_Type',\n",
    "                                            'Outlet_Type']),\n",
    "                  ('impute_item_weight', SimpleImputer(strategy='mean'), ['Item_Weight']),\n",
    "                  ('scale_data', StandardScaler(),['Item_MRP'])])"
   ]
  },
  {
   "cell_type": "code",
   "execution_count": 21,
   "id": "bottom-trailer",
   "metadata": {},
   "outputs": [
    {
     "name": "stderr",
     "output_type": "stream",
     "text": [
      "<ipython-input-19-6b8a528b2c5d>:13: SettingWithCopyWarning: \n",
      "A value is trying to be set on a copy of a slice from a DataFrame.\n",
      "Try using .loc[row_indexer,col_indexer] = value instead\n",
      "\n",
      "See the caveats in the documentation: https://pandas.pydata.org/pandas-docs/stable/user_guide/indexing.html#returning-a-view-versus-a-copy\n",
      "  x_dataset['outlet_grocery_store'] = (x_dataset['Outlet_Type'] == 'Grocery Store')*1\n",
      "<ipython-input-19-6b8a528b2c5d>:14: SettingWithCopyWarning: \n",
      "A value is trying to be set on a copy of a slice from a DataFrame.\n",
      "Try using .loc[row_indexer,col_indexer] = value instead\n",
      "\n",
      "See the caveats in the documentation: https://pandas.pydata.org/pandas-docs/stable/user_guide/indexing.html#returning-a-view-versus-a-copy\n",
      "  x_dataset['outlet_supermarket_3'] = (x_dataset['Outlet_Type'] == 'Supermarket Type3')*1\n",
      "<ipython-input-19-6b8a528b2c5d>:15: SettingWithCopyWarning: \n",
      "A value is trying to be set on a copy of a slice from a DataFrame.\n",
      "Try using .loc[row_indexer,col_indexer] = value instead\n",
      "\n",
      "See the caveats in the documentation: https://pandas.pydata.org/pandas-docs/stable/user_guide/indexing.html#returning-a-view-versus-a-copy\n",
      "  x_dataset['outlet_identifier_OUT027'] = (x_dataset['Outlet_Identifier'] == 'OUT027')*1\n",
      "<ipython-input-19-6b8a528b2c5d>:13: SettingWithCopyWarning: \n",
      "A value is trying to be set on a copy of a slice from a DataFrame.\n",
      "Try using .loc[row_indexer,col_indexer] = value instead\n",
      "\n",
      "See the caveats in the documentation: https://pandas.pydata.org/pandas-docs/stable/user_guide/indexing.html#returning-a-view-versus-a-copy\n",
      "  x_dataset['outlet_grocery_store'] = (x_dataset['Outlet_Type'] == 'Grocery Store')*1\n",
      "<ipython-input-19-6b8a528b2c5d>:14: SettingWithCopyWarning: \n",
      "A value is trying to be set on a copy of a slice from a DataFrame.\n",
      "Try using .loc[row_indexer,col_indexer] = value instead\n",
      "\n",
      "See the caveats in the documentation: https://pandas.pydata.org/pandas-docs/stable/user_guide/indexing.html#returning-a-view-versus-a-copy\n",
      "  x_dataset['outlet_supermarket_3'] = (x_dataset['Outlet_Type'] == 'Supermarket Type3')*1\n",
      "<ipython-input-19-6b8a528b2c5d>:15: SettingWithCopyWarning: \n",
      "A value is trying to be set on a copy of a slice from a DataFrame.\n",
      "Try using .loc[row_indexer,col_indexer] = value instead\n",
      "\n",
      "See the caveats in the documentation: https://pandas.pydata.org/pandas-docs/stable/user_guide/indexing.html#returning-a-view-versus-a-copy\n",
      "  x_dataset['outlet_identifier_OUT027'] = (x_dataset['Outlet_Identifier'] == 'OUT027')*1\n"
     ]
    }
   ],
   "source": [
    "# Define the Pipeline\n",
    "\n",
    "\"\"\"\n",
    "Step1: get the oultet binary columns\n",
    "Step2: pre processing\n",
    "Step3: Train a Random Forest Model\n",
    "\"\"\"\n",
    "\n",
    "model_pipeline = Pipeline(steps=[('get_outlet_binary_columns', OutletTypeEncoder()), \n",
    "                                 ('pre_processing',pre_process),\n",
    "                                 ('random_forest', RandomForestRegressor(max_depth=10,random_state=2))\n",
    "                                 ])\n",
    "\n",
    "# Fit the pipeline with the training data\n",
    "model_pipeline.fit(train_x,train_y)\n",
    "\n",
    "# Predict target values on the training data\n",
    "predict_train = model_pipeline.predict(train_x)"
   ]
  },
  {
   "cell_type": "code",
   "execution_count": 22,
   "id": "administrative-assignment",
   "metadata": {},
   "outputs": [
    {
     "name": "stderr",
     "output_type": "stream",
     "text": [
      "<ipython-input-19-6b8a528b2c5d>:13: SettingWithCopyWarning: \n",
      "A value is trying to be set on a copy of a slice from a DataFrame.\n",
      "Try using .loc[row_indexer,col_indexer] = value instead\n",
      "\n",
      "See the caveats in the documentation: https://pandas.pydata.org/pandas-docs/stable/user_guide/indexing.html#returning-a-view-versus-a-copy\n",
      "  x_dataset['outlet_grocery_store'] = (x_dataset['Outlet_Type'] == 'Grocery Store')*1\n",
      "<ipython-input-19-6b8a528b2c5d>:14: SettingWithCopyWarning: \n",
      "A value is trying to be set on a copy of a slice from a DataFrame.\n",
      "Try using .loc[row_indexer,col_indexer] = value instead\n",
      "\n",
      "See the caveats in the documentation: https://pandas.pydata.org/pandas-docs/stable/user_guide/indexing.html#returning-a-view-versus-a-copy\n",
      "  x_dataset['outlet_supermarket_3'] = (x_dataset['Outlet_Type'] == 'Supermarket Type3')*1\n",
      "<ipython-input-19-6b8a528b2c5d>:15: SettingWithCopyWarning: \n",
      "A value is trying to be set on a copy of a slice from a DataFrame.\n",
      "Try using .loc[row_indexer,col_indexer] = value instead\n",
      "\n",
      "See the caveats in the documentation: https://pandas.pydata.org/pandas-docs/stable/user_guide/indexing.html#returning-a-view-versus-a-copy\n",
      "  x_dataset['outlet_identifier_OUT027'] = (x_dataset['Outlet_Identifier'] == 'OUT027')*1\n"
     ]
    }
   ],
   "source": [
    "# Predict target values on the test data\n",
    "predict_test = model_pipeline.predict(test_x)"
   ]
  },
  {
   "cell_type": "code",
   "execution_count": 23,
   "id": "collect-society",
   "metadata": {},
   "outputs": [
    {
     "name": "stdout",
     "output_type": "stream",
     "text": [
      "RMSE on train data:  899.8722708734629\n",
      "RMSE on test data:  1117.8090863194816\n"
     ]
    }
   ],
   "source": [
    "# Root Mean Squared Error on train data\n",
    "print('RMSE on train data: ', mean_squared_error(train_y, predict_train)**(0.5))\n",
    "print('RMSE on test data: ', mean_squared_error(test_y, predict_test)**(0.5))"
   ]
  },
  {
   "cell_type": "markdown",
   "id": "limiting-explorer",
   "metadata": {},
   "source": [
    "### Grid Search"
   ]
  },
  {
   "cell_type": "code",
   "execution_count": 24,
   "id": "incredible-listing",
   "metadata": {},
   "outputs": [],
   "source": [
    "# Number of trees in random forest\n",
    "n_estimators = [int(x) for x in np.linspace(start = 200, stop = 2000, num = 10)]\n",
    "# Number of features to consider at every split\n",
    "max_features = ['auto', 'sqrt']\n",
    "# Maximum number of levels in tree\n",
    "max_depth = [int(x) for x in np.linspace(10, 110, num = 11)]\n",
    "max_depth.append(None)\n",
    "# Minimum number of samples required to split a node\n",
    "min_samples_split = [2, 5, 10]\n",
    "# Minimum number of samples required at each leaf node\n",
    "min_samples_leaf = [1, 2, 4]\n",
    "# Method of selecting samples for training each tree\n",
    "bootstrap = [True, False]\n",
    "# Create the random grid\n",
    "random_grid = {'random_forest__n_estimators': n_estimators,\n",
    "               'random_forest__max_features': max_features,\n",
    "               'random_forest__max_depth': max_depth,\n",
    "               'random_forest__min_samples_split': min_samples_split,\n",
    "               'random_forest__min_samples_leaf': min_samples_leaf,\n",
    "               'random_forest__bootstrap': bootstrap}"
   ]
  },
  {
   "cell_type": "code",
   "execution_count": 25,
   "id": "established-technical",
   "metadata": {},
   "outputs": [
    {
     "name": "stderr",
     "output_type": "stream",
     "text": [
      "<ipython-input-19-6b8a528b2c5d>:13: SettingWithCopyWarning: \n",
      "A value is trying to be set on a copy of a slice from a DataFrame.\n",
      "Try using .loc[row_indexer,col_indexer] = value instead\n",
      "\n",
      "See the caveats in the documentation: https://pandas.pydata.org/pandas-docs/stable/user_guide/indexing.html#returning-a-view-versus-a-copy\n",
      "  x_dataset['outlet_grocery_store'] = (x_dataset['Outlet_Type'] == 'Grocery Store')*1\n",
      "<ipython-input-19-6b8a528b2c5d>:14: SettingWithCopyWarning: \n",
      "A value is trying to be set on a copy of a slice from a DataFrame.\n",
      "Try using .loc[row_indexer,col_indexer] = value instead\n",
      "\n",
      "See the caveats in the documentation: https://pandas.pydata.org/pandas-docs/stable/user_guide/indexing.html#returning-a-view-versus-a-copy\n",
      "  x_dataset['outlet_supermarket_3'] = (x_dataset['Outlet_Type'] == 'Supermarket Type3')*1\n",
      "<ipython-input-19-6b8a528b2c5d>:15: SettingWithCopyWarning: \n",
      "A value is trying to be set on a copy of a slice from a DataFrame.\n",
      "Try using .loc[row_indexer,col_indexer] = value instead\n",
      "\n",
      "See the caveats in the documentation: https://pandas.pydata.org/pandas-docs/stable/user_guide/indexing.html#returning-a-view-versus-a-copy\n",
      "  x_dataset['outlet_identifier_OUT027'] = (x_dataset['Outlet_Identifier'] == 'OUT027')*1\n"
     ]
    },
    {
     "data": {
      "text/plain": [
       "RandomizedSearchCV(cv=3,\n",
       "                   estimator=Pipeline(steps=[('get_outlet_binary_columns',\n",
       "                                              OutletTypeEncoder()),\n",
       "                                             ('pre_processing',\n",
       "                                              ColumnTransformer(remainder='passthrough',\n",
       "                                                                transformers=[('drop_columns',\n",
       "                                                                               'drop',\n",
       "                                                                               ['Item_Identifier',\n",
       "                                                                                'Outlet_Identifier',\n",
       "                                                                                'Item_Fat_Content',\n",
       "                                                                                'Item_Type',\n",
       "                                                                                'Outlet_Identifier',\n",
       "                                                                                'Outlet_Size',\n",
       "                                                                                'Outlet_Location_Type',\n",
       "                                                                                'Outlet_Type']),\n",
       "                                                                              ('impute_i...\n",
       "                   param_distributions={'random_forest__bootstrap': [True,\n",
       "                                                                     False],\n",
       "                                        'random_forest__max_depth': [10, 20, 30,\n",
       "                                                                     40, 50, 60,\n",
       "                                                                     70, 80, 90,\n",
       "                                                                     100, 110,\n",
       "                                                                     None],\n",
       "                                        'random_forest__max_features': ['auto',\n",
       "                                                                        'sqrt'],\n",
       "                                        'random_forest__min_samples_leaf': [1,\n",
       "                                                                            2,\n",
       "                                                                            4],\n",
       "                                        'random_forest__min_samples_split': [2,\n",
       "                                                                             5,\n",
       "                                                                             10],\n",
       "                                        'random_forest__n_estimators': [200,\n",
       "                                                                        400,\n",
       "                                                                        600,\n",
       "                                                                        800,\n",
       "                                                                        1000,\n",
       "                                                                        1200,\n",
       "                                                                        1400,\n",
       "                                                                        1600,\n",
       "                                                                        1800,\n",
       "                                                                        2000]},\n",
       "                   random_state=42)"
      ]
     },
     "execution_count": 25,
     "metadata": {},
     "output_type": "execute_result"
    }
   ],
   "source": [
    "# Use the random grid to search for best hyperparameters\n",
    "# Random search of parameters, using 3 fold cross validation, \n",
    "# search across 100 different combinations, and use all available cores\n",
    "rf_random = RandomizedSearchCV(estimator = model_pipeline, param_distributions = random_grid, \n",
    "                               n_iter = 30, cv = 3, random_state=42, n_jobs = -1)\n",
    "\n",
    "# Fit the random search model\n",
    "rf_random.fit(train_x, train_y)"
   ]
  },
  {
   "cell_type": "code",
   "execution_count": 26,
   "id": "formed-decade",
   "metadata": {},
   "outputs": [
    {
     "data": {
      "text/plain": [
       "{'random_forest__n_estimators': 200,\n",
       " 'random_forest__min_samples_split': 5,\n",
       " 'random_forest__min_samples_leaf': 2,\n",
       " 'random_forest__max_features': 'sqrt',\n",
       " 'random_forest__max_depth': 10,\n",
       " 'random_forest__bootstrap': True}"
      ]
     },
     "execution_count": 26,
     "metadata": {},
     "output_type": "execute_result"
    }
   ],
   "source": [
    "# Best Params\n",
    "rf_random.best_params_"
   ]
  },
  {
   "cell_type": "code",
   "execution_count": 27,
   "id": "restricted-orientation",
   "metadata": {},
   "outputs": [
    {
     "name": "stdout",
     "output_type": "stream",
     "text": [
      "RMSE on train data:  954.5178234868895\n",
      "RMSE on test data:  1107.3994076815104\n"
     ]
    },
    {
     "name": "stderr",
     "output_type": "stream",
     "text": [
      "<ipython-input-19-6b8a528b2c5d>:13: SettingWithCopyWarning: \n",
      "A value is trying to be set on a copy of a slice from a DataFrame.\n",
      "Try using .loc[row_indexer,col_indexer] = value instead\n",
      "\n",
      "See the caveats in the documentation: https://pandas.pydata.org/pandas-docs/stable/user_guide/indexing.html#returning-a-view-versus-a-copy\n",
      "  x_dataset['outlet_grocery_store'] = (x_dataset['Outlet_Type'] == 'Grocery Store')*1\n",
      "<ipython-input-19-6b8a528b2c5d>:14: SettingWithCopyWarning: \n",
      "A value is trying to be set on a copy of a slice from a DataFrame.\n",
      "Try using .loc[row_indexer,col_indexer] = value instead\n",
      "\n",
      "See the caveats in the documentation: https://pandas.pydata.org/pandas-docs/stable/user_guide/indexing.html#returning-a-view-versus-a-copy\n",
      "  x_dataset['outlet_supermarket_3'] = (x_dataset['Outlet_Type'] == 'Supermarket Type3')*1\n",
      "<ipython-input-19-6b8a528b2c5d>:15: SettingWithCopyWarning: \n",
      "A value is trying to be set on a copy of a slice from a DataFrame.\n",
      "Try using .loc[row_indexer,col_indexer] = value instead\n",
      "\n",
      "See the caveats in the documentation: https://pandas.pydata.org/pandas-docs/stable/user_guide/indexing.html#returning-a-view-versus-a-copy\n",
      "  x_dataset['outlet_identifier_OUT027'] = (x_dataset['Outlet_Identifier'] == 'OUT027')*1\n",
      "<ipython-input-19-6b8a528b2c5d>:13: SettingWithCopyWarning: \n",
      "A value is trying to be set on a copy of a slice from a DataFrame.\n",
      "Try using .loc[row_indexer,col_indexer] = value instead\n",
      "\n",
      "See the caveats in the documentation: https://pandas.pydata.org/pandas-docs/stable/user_guide/indexing.html#returning-a-view-versus-a-copy\n",
      "  x_dataset['outlet_grocery_store'] = (x_dataset['Outlet_Type'] == 'Grocery Store')*1\n",
      "<ipython-input-19-6b8a528b2c5d>:14: SettingWithCopyWarning: \n",
      "A value is trying to be set on a copy of a slice from a DataFrame.\n",
      "Try using .loc[row_indexer,col_indexer] = value instead\n",
      "\n",
      "See the caveats in the documentation: https://pandas.pydata.org/pandas-docs/stable/user_guide/indexing.html#returning-a-view-versus-a-copy\n",
      "  x_dataset['outlet_supermarket_3'] = (x_dataset['Outlet_Type'] == 'Supermarket Type3')*1\n",
      "<ipython-input-19-6b8a528b2c5d>:15: SettingWithCopyWarning: \n",
      "A value is trying to be set on a copy of a slice from a DataFrame.\n",
      "Try using .loc[row_indexer,col_indexer] = value instead\n",
      "\n",
      "See the caveats in the documentation: https://pandas.pydata.org/pandas-docs/stable/user_guide/indexing.html#returning-a-view-versus-a-copy\n",
      "  x_dataset['outlet_identifier_OUT027'] = (x_dataset['Outlet_Identifier'] == 'OUT027')*1\n"
     ]
    }
   ],
   "source": [
    "# Best estimator\n",
    "best_random = rf_random.best_estimator_\n",
    "\n",
    "#Predictions\n",
    "predict_train = best_random.predict(train_x)\n",
    "predict_test = best_random.predict(test_x)\n",
    "\n",
    "# Root Mean Squared Error on train data\n",
    "print('RMSE on train data: ', mean_squared_error(train_y, predict_train)**(0.5))\n",
    "print('RMSE on test data: ', mean_squared_error(test_y, predict_test)**(0.5))"
   ]
  },
  {
   "cell_type": "markdown",
   "id": "extra-persian",
   "metadata": {},
   "source": [
    "Tras la optimización de parámetros obtenemos un error mayor en el training set, pero conseguimos reducir el overfitting con la validación cruzada. De ese modo conseguimos reducir el error en el conjunto de test."
   ]
  },
  {
   "cell_type": "markdown",
   "id": "empty-nickel",
   "metadata": {},
   "source": [
    "# Exercici 2"
   ]
  },
  {
   "cell_type": "markdown",
   "id": "blank-concern",
   "metadata": {},
   "source": [
    "### Data\n",
    "[Harry Potter and the Philosopher's Stone](https://github.com/formcept/whiteboard) "
   ]
  },
  {
   "cell_type": "code",
   "execution_count": 28,
   "id": "incorrect-pendant",
   "metadata": {},
   "outputs": [],
   "source": [
    "# Read txt\n",
    "book_file = open(\"Book 1 - The Philosopher's Stone.txt\", \"r\")\n",
    "book = book_file.read()"
   ]
  },
  {
   "cell_type": "code",
   "execution_count": 29,
   "id": "racial-opposition",
   "metadata": {},
   "outputs": [
    {
     "data": {
      "image/png": "[encoded data removed]",
      "text/plain": [
       "<Figure size 432x288 with 1 Axes>"
      ]
     },
     "metadata": {
      "needs_background": "light"
     },
     "output_type": "display_data"
    }
   ],
   "source": [
    "# Word freq\n",
    "tokenized_book = word_tokenize(book)\n",
    "# Remove punctuation\n",
    "tokenized_book= [word for word in tokenized_book if word.isalnum()]\n",
    "# Freq\n",
    "fdist = FreqDist(tokenized_book)\n",
    "# 30 most common words\n",
    "fdist.plot(30,cumulative=False)\n",
    "plt.show()"
   ]
  },
  {
   "cell_type": "markdown",
   "id": "quiet-dollar",
   "metadata": {},
   "source": [
    "# Exercici 3"
   ]
  },
  {
   "cell_type": "code",
   "execution_count": 30,
   "id": "likely-driver",
   "metadata": {},
   "outputs": [
    {
     "data": {
      "image/png": "[encoded data removed]",
      "text/plain": [
       "<Figure size 432x288 with 1 Axes>"
      ]
     },
     "metadata": {
      "needs_background": "light"
     },
     "output_type": "display_data"
    }
   ],
   "source": [
    "# Stop words list\n",
    "stop_words=set(stopwords.words(\"english\"))\n",
    "\n",
    "# Filter\n",
    "filtered_book=[]\n",
    "for w in tokenized_book:\n",
    "    if w not in stop_words:\n",
    "        filtered_book.append(w)\n",
    "\n",
    "# Word freq\n",
    "fdist = FreqDist(filtered_book)\n",
    "\n",
    "# 30 most common words\n",
    "fdist.plot(30,cumulative=False)\n",
    "plt.show()"
   ]
  },
  {
   "cell_type": "code",
   "execution_count": 31,
   "id": "contained-entity",
   "metadata": {},
   "outputs": [
    {
     "data": {
      "image/png": "[encoded data removed]",
      "text/plain": [
       "<Figure size 432x288 with 1 Axes>"
      ]
     },
     "metadata": {
      "needs_background": "light"
     },
     "output_type": "display_data"
    }
   ],
   "source": [
    "# Stemming\n",
    "ps = PorterStemmer()\n",
    "\n",
    "stemmed_book=[]\n",
    "for w in filtered_book:\n",
    "    stemmed_book.append(ps.stem(w))\n",
    "\n",
    "# Word freq\n",
    "fdist = FreqDist(stemmed_book)\n",
    "\n",
    "# 30 most common words\n",
    "fdist.plot(30,cumulative=False)\n",
    "plt.show()"
   ]
  },
  {
   "cell_type": "markdown",
   "id": "comprehensive-savannah",
   "metadata": {},
   "source": [
    "# Exercici 4"
   ]
  },
  {
   "cell_type": "code",
   "execution_count": 32,
   "id": "sharp-syndrome",
   "metadata": {},
   "outputs": [
    {
     "data": {
      "text/plain": [
       "Sentiment(polarity=0.05043101632256281, subjectivity=0.47569149663568355)"
      ]
     },
     "execution_count": 32,
     "metadata": {},
     "output_type": "execute_result"
    }
   ],
   "source": [
    "# Polarity of the text\n",
    "book_sent = TextBlob(book)\n",
    "book_sent.sentiment"
   ]
  },
  {
   "cell_type": "markdown",
   "id": "toxic-omega",
   "metadata": {},
   "source": [
    "Al tratarse de una novela no es de extrañar que la polaridad del texto tome un valor cercano a zero. Este parámetro toma valores dentro del rango [-1,1], siendo -1 negativo y 1 positivo. Nuestro texto se puede classificar como neutro. Por otro lado, la subjetividad toma valores en el rango [0,1], siendo 0 titalmente objetivo y 1 totalmente subjetivo. Nuestro texto se encuentra en un punto intermedio."
   ]
  },
  {
   "cell_type": "code",
   "execution_count": null,
   "id": "partial-driver",
   "metadata": {},
   "outputs": [],
   "source": []
  }
 ],
 "metadata": {
  "kernelspec": {
   "display_name": "Python 3",
   "language": "python",
   "name": "python3"
  },
  "language_info": {
   "codemirror_mode": {
    "name": "ipython",
    "version": 3
   },
   "file_extension": ".py",
   "mimetype": "text/x-python",
   "name": "python",
   "nbconvert_exporter": "python",
   "pygments_lexer": "ipython3",
   "version": "3.8.2"
  }
 },
 "nbformat": 4,
 "nbformat_minor": 5
}
