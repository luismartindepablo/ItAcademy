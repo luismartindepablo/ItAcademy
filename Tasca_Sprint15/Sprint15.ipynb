{
 "cells": [
  {
   "cell_type": "markdown",
   "id": "multiple-marijuana",
   "metadata": {},
   "source": [
    "# Classifica els diferents vols"
   ]
  },
  {
   "cell_type": "markdown",
   "id": "appointed-tulsa",
   "metadata": {},
   "source": [
    "Anem a practicar i a familiaritzar-nos amb algoritmes de clustering.\n",
    "\n",
    "**Exercici 1**\n",
    "\n",
    "Classifica els diferents vols utilitzant l'algorisme de K-means.\n",
    "\n",
    "**Exercici 2**\n",
    "\n",
    "Classifica els diferents vols utilitzant l'algorisme de clustering jeràrquic.\n",
    "\n",
    "**Exercici 3**\n",
    "\n",
    "Calcula el rendiment del clustering mitjançant un paràmetre com pot ser silhouette."
   ]
  },
  {
   "cell_type": "code",
   "execution_count": 1,
   "id": "experimental-thong",
   "metadata": {},
   "outputs": [],
   "source": [
    "import pandas as pd\n",
    "pd.set_option(\"display.max_columns\", None)\n",
    "\n",
    "import numpy as np\n",
    "from scipy import stats \n",
    "\n",
    "from sklearn.cluster import KMeans\n",
    "\n",
    "from sklearn.cluster import AgglomerativeClustering\n",
    "import scipy.cluster.hierarchy as sch\n",
    "\n",
    "from sklearn.preprocessing import StandardScaler\n",
    "\n",
    "from sklearn.metrics import silhouette_score\n",
    "\n",
    "import matplotlib.pyplot as plt"
   ]
  },
  {
   "cell_type": "markdown",
   "id": "arbitrary-premiere",
   "metadata": {},
   "source": [
    "# Data\n",
    "\n",
    "[Airlines Delay: Airline on-time statistics and delay causes](https://www.kaggle.com/giovamata/airlinedelaycauses) "
   ]
  },
  {
   "cell_type": "markdown",
   "id": "fifteen-economics",
   "metadata": {},
   "source": [
    "- Year: 1987-2008\n",
    "- Month: 1-12\n",
    "- DayofMonth: 1-31\n",
    "- DayOfWeek: 1 (Monday) - 7 (Sunday)\n",
    "- DepTime: departure time (local, hhmm)\n",
    "- CRSDepTime: scheduled departure time (local, hhmm)\n",
    "- ArrTime: arrival time (local, hhmm)\n",
    "- CRSArrTime: scheduled arrival time (local, hhmm)\n",
    "- UniqueCarrier: unique carrier code\n",
    "- FlightNum: flight number\n",
    "- TailNum: plane tail number \n",
    "- ActualElapsedTime: flygth time in minutes (Total)\n",
    "- CRSElapsedTime: scheduled\tflygth time in minutes (Total)\n",
    "- AirTime: time on air in minutes\n",
    "- ArrDelay:\tarrival delay in minutes\n",
    "- DepDelay: departure delay in minutes\n",
    "- Origin: origin IATA airport code\n",
    "- Dest:\tdestination IATA airport code\n",
    "- Distance: distance in miles\n",
    "- TaxiIn: taxi in time, in minutes (movement on ground)\n",
    "- TaxiOut: taxi out time, in minutes (movement on ground)\n",
    "- Cancelled: was the flight cancelled?\n",
    "- CancellationCode:\t[reason for cancellation](https://aspmhelp.faa.gov/index/Types_of_Delay.html) (A = carrier, B = weather, C = NAS, D = security)\n",
    "- Diverted:\t1 = yes, 0 = no (\"Desviado\")\n",
    "- CarrierDelay:\tdelayed time due to Carrier in minutes\n",
    "- WeatherDelay:\tdelayed time due to Weather in minutes\n",
    "- NASDelay: delayed time due to NAS in minutes\n",
    "- SecurityDelay: delayed time due to security in minuts\n",
    "- LateAircraftDelay: delayed time due to late aircraft in minutes"
   ]
  },
  {
   "cell_type": "code",
   "execution_count": 2,
   "id": "average-subcommittee",
   "metadata": {},
   "outputs": [
    {
     "name": "stderr",
     "output_type": "stream",
     "text": [
      "/Users/luis/opt/anaconda3/lib/python3.8/site-packages/numpy/lib/arraysetops.py:580: FutureWarning: elementwise comparison failed; returning scalar instead, but in the future will perform elementwise comparison\n",
      "  mask |= (ar1 == a)\n"
     ]
    }
   ],
   "source": [
    "# Read csv\n",
    "df_raw = pd.read_csv(\"./archive/DelayedFlights.csv\", index_col = [0])"
   ]
  },
  {
   "cell_type": "code",
   "execution_count": 3,
   "id": "round-criticism",
   "metadata": {},
   "outputs": [
    {
     "name": "stdout",
     "output_type": "stream",
     "text": [
      "<class 'pandas.core.frame.DataFrame'>\n",
      "Int64Index: 1936758 entries, 0 to 7009727\n",
      "Data columns (total 29 columns):\n",
      " #   Column             Non-Null Count    Dtype  \n",
      "---  ------             --------------    -----  \n",
      " 0   Year               1936758 non-null  int64  \n",
      " 1   Month              1936758 non-null  int64  \n",
      " 2   DayofMonth         1936758 non-null  int64  \n",
      " 3   DayOfWeek          1936758 non-null  int64  \n",
      " 4   DepTime            1936758 non-null  float64\n",
      " 5   CRSDepTime         1936758 non-null  int64  \n",
      " 6   ArrTime            1929648 non-null  float64\n",
      " 7   CRSArrTime         1936758 non-null  int64  \n",
      " 8   UniqueCarrier      1936758 non-null  object \n",
      " 9   FlightNum          1936758 non-null  int64  \n",
      " 10  TailNum            1936753 non-null  object \n",
      " 11  ActualElapsedTime  1928371 non-null  float64\n",
      " 12  CRSElapsedTime     1936560 non-null  float64\n",
      " 13  AirTime            1928371 non-null  float64\n",
      " 14  ArrDelay           1928371 non-null  float64\n",
      " 15  DepDelay           1936758 non-null  float64\n",
      " 16  Origin             1936758 non-null  object \n",
      " 17  Dest               1936758 non-null  object \n",
      " 18  Distance           1936758 non-null  int64  \n",
      " 19  TaxiIn             1929648 non-null  float64\n",
      " 20  TaxiOut            1936303 non-null  float64\n",
      " 21  Cancelled          1936758 non-null  int64  \n",
      " 22  CancellationCode   1936758 non-null  object \n",
      " 23  Diverted           1936758 non-null  int64  \n",
      " 24  CarrierDelay       1247488 non-null  float64\n",
      " 25  WeatherDelay       1247488 non-null  float64\n",
      " 26  NASDelay           1247488 non-null  float64\n",
      " 27  SecurityDelay      1247488 non-null  float64\n",
      " 28  LateAircraftDelay  1247488 non-null  float64\n",
      "dtypes: float64(14), int64(10), object(5)\n",
      "memory usage: 443.3+ MB\n"
     ]
    }
   ],
   "source": [
    "## Columns and Data types\n",
    "df_raw.info(show_counts = True)"
   ]
  },
  {
   "cell_type": "code",
   "execution_count": 4,
   "id": "hungarian-bones",
   "metadata": {},
   "outputs": [],
   "source": [
    "## Drop Duplicates\n",
    "df_raw.drop_duplicates(inplace = True)"
   ]
  },
  {
   "cell_type": "code",
   "execution_count": 5,
   "id": "empirical-wyoming",
   "metadata": {},
   "outputs": [],
   "source": [
    "## Columns with low percentage of nulls (less than 2% in total)\n",
    "subset = [\"ArrTime\", \"TailNum\", \"ActualElapsedTime\", \"CRSElapsedTime\", \n",
    "          \"AirTime\", \"ArrDelay\", \"TaxiIn\", \"TaxiOut\"]\n",
    "## Drop rows with low percentage of nulls\n",
    "df_raw = df_raw.dropna(subset=subset)"
   ]
  },
  {
   "cell_type": "code",
   "execution_count": 6,
   "id": "improved-disposal",
   "metadata": {},
   "outputs": [],
   "source": [
    "## Transform DepTime and ArrTime to a more consistent notation (hh:mm)\n",
    "df_raw[\"DepTime\"] = df_raw[\"DepTime\"].astype(int).apply(lambda x: str(x).zfill(4)).apply(lambda x: x[0:2] + \":\" + x[2:]) \n",
    "df_raw[\"CRSDepTime\"] = df_raw[\"CRSDepTime\"].astype(int).apply(lambda x: str(x).zfill(4)).apply(lambda x: x[0:2] + \":\" + x[2:]) \n",
    "df_raw[\"ArrTime\"] = df_raw[\"ArrTime\"].astype(int).apply(lambda x: str(x).zfill(4)).apply(lambda x: x[0:2] + \":\" + x[2:]) \n",
    "df_raw[\"CRSArrTime\"] = df_raw[\"CRSArrTime\"].astype(int).apply(lambda x: str(x).zfill(4)).apply(lambda x: x[0:2] + \":\" + x[2:]) "
   ]
  },
  {
   "cell_type": "code",
   "execution_count": 7,
   "id": "latter-rebate",
   "metadata": {},
   "outputs": [],
   "source": [
    "## Change dtypes\n",
    "df_raw[\"FlightNum\"] = df_raw[\"FlightNum\"].astype(str)\n",
    "df_raw[\"Cancelled\"] = df_raw[\"Cancelled\"].astype(str)\n",
    "df_raw[\"Diverted\"] = df_raw[\"Diverted\"].astype(str)"
   ]
  },
  {
   "cell_type": "code",
   "execution_count": 8,
   "id": "selective-buffer",
   "metadata": {},
   "outputs": [],
   "source": [
    "## Drop Year\n",
    "df_raw.drop(columns = \"Year\", inplace = True)"
   ]
  },
  {
   "cell_type": "code",
   "execution_count": 9,
   "id": "induced-membership",
   "metadata": {},
   "outputs": [],
   "source": [
    "## Drop Cancelled, CancellationCode and Diverted\n",
    "df_raw.drop(columns = [\"Cancelled\", \"CancellationCode\", \"Diverted\"], inplace = True)"
   ]
  },
  {
   "cell_type": "code",
   "execution_count": 10,
   "id": "going-tutorial",
   "metadata": {},
   "outputs": [],
   "source": [
    "## Categorical column with delay > 15 min (1 = Yes, 0 = No)\n",
    "df_raw[\"DelayCat\"] = df_raw[\"ArrDelay\"].apply(lambda x: 1 if x > 15 else 0)\n",
    "\n",
    "## Mean Velocity columns in miles/min\n",
    "df_raw = df_raw[df_raw[\"AirTime\"] != 0]\n",
    "df_raw[\"Velocity\"] = df_raw[\"Distance\"] / df_raw[\"AirTime\"] \n",
    "\n",
    "## Origin-Destination Columns\n",
    "df_raw[\"Fligth\"] = df_raw[\"Origin\"] + \"-\" + df_raw[\"Dest\"]"
   ]
  },
  {
   "cell_type": "code",
   "execution_count": 11,
   "id": "numerous-behavior",
   "metadata": {},
   "outputs": [],
   "source": [
    "## Save Final Dataframe\n",
    "df_raw.to_csv(\"df_clean.csv\")"
   ]
  },
  {
   "cell_type": "markdown",
   "id": "searching-millennium",
   "metadata": {},
   "source": [
    "# Exercisi 1"
   ]
  },
  {
   "cell_type": "code",
   "execution_count": 12,
   "id": "chubby-worthy",
   "metadata": {},
   "outputs": [
    {
     "name": "stderr",
     "output_type": "stream",
     "text": [
      "/Users/luis/opt/anaconda3/lib/python3.8/site-packages/numpy/lib/arraysetops.py:580: FutureWarning: elementwise comparison failed; returning scalar instead, but in the future will perform elementwise comparison\n",
      "  mask |= (ar1 == a)\n"
     ]
    }
   ],
   "source": [
    "# Read csv\n",
    "df_clean = pd.read_csv(\"df_clean.csv\", index_col = [0])"
   ]
  },
  {
   "cell_type": "code",
   "execution_count": 13,
   "id": "electoral-finance",
   "metadata": {},
   "outputs": [
    {
     "data": {
      "text/html": [
       "<div>\n",
       "<style scoped>\n",
       "    .dataframe tbody tr th:only-of-type {\n",
       "        vertical-align: middle;\n",
       "    }\n",
       "\n",
       "    .dataframe tbody tr th {\n",
       "        vertical-align: top;\n",
       "    }\n",
       "\n",
       "    .dataframe thead th {\n",
       "        text-align: right;\n",
       "    }\n",
       "</style>\n",
       "<table border=\"1\" class=\"dataframe\">\n",
       "  <thead>\n",
       "    <tr style=\"text-align: right;\">\n",
       "      <th></th>\n",
       "      <th>Month</th>\n",
       "      <th>DayofMonth</th>\n",
       "      <th>DayOfWeek</th>\n",
       "      <th>DepTime</th>\n",
       "      <th>CRSDepTime</th>\n",
       "      <th>ArrTime</th>\n",
       "      <th>CRSArrTime</th>\n",
       "      <th>UniqueCarrier</th>\n",
       "      <th>FlightNum</th>\n",
       "      <th>TailNum</th>\n",
       "      <th>ActualElapsedTime</th>\n",
       "      <th>CRSElapsedTime</th>\n",
       "      <th>AirTime</th>\n",
       "      <th>ArrDelay</th>\n",
       "      <th>DepDelay</th>\n",
       "      <th>Origin</th>\n",
       "      <th>Dest</th>\n",
       "      <th>Distance</th>\n",
       "      <th>TaxiIn</th>\n",
       "      <th>TaxiOut</th>\n",
       "      <th>CarrierDelay</th>\n",
       "      <th>WeatherDelay</th>\n",
       "      <th>NASDelay</th>\n",
       "      <th>SecurityDelay</th>\n",
       "      <th>LateAircraftDelay</th>\n",
       "      <th>DelayCat</th>\n",
       "      <th>Velocity</th>\n",
       "      <th>Fligth</th>\n",
       "    </tr>\n",
       "  </thead>\n",
       "  <tbody>\n",
       "    <tr>\n",
       "      <th>1528059</th>\n",
       "      <td>3</td>\n",
       "      <td>12</td>\n",
       "      <td>3</td>\n",
       "      <td>17:09</td>\n",
       "      <td>16:45</td>\n",
       "      <td>22:20</td>\n",
       "      <td>21:59</td>\n",
       "      <td>F9</td>\n",
       "      <td>720</td>\n",
       "      <td>N201FR</td>\n",
       "      <td>191.0</td>\n",
       "      <td>194.0</td>\n",
       "      <td>177.0</td>\n",
       "      <td>21.0</td>\n",
       "      <td>24.0</td>\n",
       "      <td>DEN</td>\n",
       "      <td>DCA</td>\n",
       "      <td>1476</td>\n",
       "      <td>5.0</td>\n",
       "      <td>9.0</td>\n",
       "      <td>15.0</td>\n",
       "      <td>0.0</td>\n",
       "      <td>6.0</td>\n",
       "      <td>0.0</td>\n",
       "      <td>0.0</td>\n",
       "      <td>1</td>\n",
       "      <td>8.338983</td>\n",
       "      <td>DEN-DCA</td>\n",
       "    </tr>\n",
       "    <tr>\n",
       "      <th>2305316</th>\n",
       "      <td>4</td>\n",
       "      <td>8</td>\n",
       "      <td>2</td>\n",
       "      <td>07:47</td>\n",
       "      <td>07:35</td>\n",
       "      <td>10:33</td>\n",
       "      <td>10:30</td>\n",
       "      <td>AA</td>\n",
       "      <td>1970</td>\n",
       "      <td>N5CNAA</td>\n",
       "      <td>166.0</td>\n",
       "      <td>175.0</td>\n",
       "      <td>138.0</td>\n",
       "      <td>3.0</td>\n",
       "      <td>12.0</td>\n",
       "      <td>MIA</td>\n",
       "      <td>EWR</td>\n",
       "      <td>1086</td>\n",
       "      <td>11.0</td>\n",
       "      <td>17.0</td>\n",
       "      <td>NaN</td>\n",
       "      <td>NaN</td>\n",
       "      <td>NaN</td>\n",
       "      <td>NaN</td>\n",
       "      <td>NaN</td>\n",
       "      <td>0</td>\n",
       "      <td>7.869565</td>\n",
       "      <td>MIA-EWR</td>\n",
       "    </tr>\n",
       "    <tr>\n",
       "      <th>2459169</th>\n",
       "      <td>5</td>\n",
       "      <td>24</td>\n",
       "      <td>6</td>\n",
       "      <td>19:06</td>\n",
       "      <td>18:55</td>\n",
       "      <td>19:43</td>\n",
       "      <td>19:40</td>\n",
       "      <td>WN</td>\n",
       "      <td>1017</td>\n",
       "      <td>N637SW</td>\n",
       "      <td>37.0</td>\n",
       "      <td>45.0</td>\n",
       "      <td>28.0</td>\n",
       "      <td>3.0</td>\n",
       "      <td>11.0</td>\n",
       "      <td>HOU</td>\n",
       "      <td>AUS</td>\n",
       "      <td>148</td>\n",
       "      <td>4.0</td>\n",
       "      <td>5.0</td>\n",
       "      <td>NaN</td>\n",
       "      <td>NaN</td>\n",
       "      <td>NaN</td>\n",
       "      <td>NaN</td>\n",
       "      <td>NaN</td>\n",
       "      <td>0</td>\n",
       "      <td>5.285714</td>\n",
       "      <td>HOU-AUS</td>\n",
       "    </tr>\n",
       "    <tr>\n",
       "      <th>2735250</th>\n",
       "      <td>5</td>\n",
       "      <td>16</td>\n",
       "      <td>5</td>\n",
       "      <td>11:49</td>\n",
       "      <td>07:55</td>\n",
       "      <td>13:13</td>\n",
       "      <td>09:09</td>\n",
       "      <td>F9</td>\n",
       "      <td>332</td>\n",
       "      <td>N809FR</td>\n",
       "      <td>84.0</td>\n",
       "      <td>74.0</td>\n",
       "      <td>55.0</td>\n",
       "      <td>244.0</td>\n",
       "      <td>234.0</td>\n",
       "      <td>ABQ</td>\n",
       "      <td>DEN</td>\n",
       "      <td>349</td>\n",
       "      <td>13.0</td>\n",
       "      <td>16.0</td>\n",
       "      <td>234.0</td>\n",
       "      <td>0.0</td>\n",
       "      <td>10.0</td>\n",
       "      <td>0.0</td>\n",
       "      <td>0.0</td>\n",
       "      <td>1</td>\n",
       "      <td>6.345455</td>\n",
       "      <td>ABQ-DEN</td>\n",
       "    </tr>\n",
       "    <tr>\n",
       "      <th>923175</th>\n",
       "      <td>2</td>\n",
       "      <td>27</td>\n",
       "      <td>3</td>\n",
       "      <td>10:50</td>\n",
       "      <td>10:09</td>\n",
       "      <td>12:05</td>\n",
       "      <td>11:25</td>\n",
       "      <td>EV</td>\n",
       "      <td>4616</td>\n",
       "      <td>N916EV</td>\n",
       "      <td>135.0</td>\n",
       "      <td>136.0</td>\n",
       "      <td>109.0</td>\n",
       "      <td>40.0</td>\n",
       "      <td>41.0</td>\n",
       "      <td>ATL</td>\n",
       "      <td>ATW</td>\n",
       "      <td>765</td>\n",
       "      <td>4.0</td>\n",
       "      <td>22.0</td>\n",
       "      <td>40.0</td>\n",
       "      <td>0.0</td>\n",
       "      <td>0.0</td>\n",
       "      <td>0.0</td>\n",
       "      <td>0.0</td>\n",
       "      <td>1</td>\n",
       "      <td>7.018349</td>\n",
       "      <td>ATL-ATW</td>\n",
       "    </tr>\n",
       "    <tr>\n",
       "      <th>2265315</th>\n",
       "      <td>4</td>\n",
       "      <td>25</td>\n",
       "      <td>5</td>\n",
       "      <td>16:04</td>\n",
       "      <td>13:45</td>\n",
       "      <td>18:46</td>\n",
       "      <td>16:25</td>\n",
       "      <td>AA</td>\n",
       "      <td>321</td>\n",
       "      <td>N425AA</td>\n",
       "      <td>162.0</td>\n",
       "      <td>160.0</td>\n",
       "      <td>141.0</td>\n",
       "      <td>141.0</td>\n",
       "      <td>139.0</td>\n",
       "      <td>ORD</td>\n",
       "      <td>AUS</td>\n",
       "      <td>978</td>\n",
       "      <td>6.0</td>\n",
       "      <td>15.0</td>\n",
       "      <td>21.0</td>\n",
       "      <td>0.0</td>\n",
       "      <td>2.0</td>\n",
       "      <td>0.0</td>\n",
       "      <td>118.0</td>\n",
       "      <td>1</td>\n",
       "      <td>6.936170</td>\n",
       "      <td>ORD-AUS</td>\n",
       "    </tr>\n",
       "    <tr>\n",
       "      <th>556175</th>\n",
       "      <td>1</td>\n",
       "      <td>19</td>\n",
       "      <td>6</td>\n",
       "      <td>16:18</td>\n",
       "      <td>15:50</td>\n",
       "      <td>19:03</td>\n",
       "      <td>19:04</td>\n",
       "      <td>B6</td>\n",
       "      <td>454</td>\n",
       "      <td>N523JB</td>\n",
       "      <td>165.0</td>\n",
       "      <td>194.0</td>\n",
       "      <td>150.0</td>\n",
       "      <td>-1.0</td>\n",
       "      <td>28.0</td>\n",
       "      <td>FLL</td>\n",
       "      <td>BOS</td>\n",
       "      <td>1237</td>\n",
       "      <td>5.0</td>\n",
       "      <td>10.0</td>\n",
       "      <td>NaN</td>\n",
       "      <td>NaN</td>\n",
       "      <td>NaN</td>\n",
       "      <td>NaN</td>\n",
       "      <td>NaN</td>\n",
       "      <td>0</td>\n",
       "      <td>8.246667</td>\n",
       "      <td>FLL-BOS</td>\n",
       "    </tr>\n",
       "    <tr>\n",
       "      <th>6617259</th>\n",
       "      <td>12</td>\n",
       "      <td>23</td>\n",
       "      <td>2</td>\n",
       "      <td>12:30</td>\n",
       "      <td>11:15</td>\n",
       "      <td>13:40</td>\n",
       "      <td>11:51</td>\n",
       "      <td>OO</td>\n",
       "      <td>2623</td>\n",
       "      <td>N468CA</td>\n",
       "      <td>70.0</td>\n",
       "      <td>36.0</td>\n",
       "      <td>24.0</td>\n",
       "      <td>109.0</td>\n",
       "      <td>75.0</td>\n",
       "      <td>MKE</td>\n",
       "      <td>MSN</td>\n",
       "      <td>74</td>\n",
       "      <td>3.0</td>\n",
       "      <td>43.0</td>\n",
       "      <td>75.0</td>\n",
       "      <td>0.0</td>\n",
       "      <td>34.0</td>\n",
       "      <td>0.0</td>\n",
       "      <td>0.0</td>\n",
       "      <td>1</td>\n",
       "      <td>3.083333</td>\n",
       "      <td>MKE-MSN</td>\n",
       "    </tr>\n",
       "    <tr>\n",
       "      <th>2191612</th>\n",
       "      <td>4</td>\n",
       "      <td>24</td>\n",
       "      <td>4</td>\n",
       "      <td>18:04</td>\n",
       "      <td>17:40</td>\n",
       "      <td>19:16</td>\n",
       "      <td>18:50</td>\n",
       "      <td>MQ</td>\n",
       "      <td>4178</td>\n",
       "      <td>N672AE</td>\n",
       "      <td>132.0</td>\n",
       "      <td>130.0</td>\n",
       "      <td>107.0</td>\n",
       "      <td>26.0</td>\n",
       "      <td>24.0</td>\n",
       "      <td>RIC</td>\n",
       "      <td>ORD</td>\n",
       "      <td>642</td>\n",
       "      <td>11.0</td>\n",
       "      <td>14.0</td>\n",
       "      <td>0.0</td>\n",
       "      <td>0.0</td>\n",
       "      <td>2.0</td>\n",
       "      <td>0.0</td>\n",
       "      <td>24.0</td>\n",
       "      <td>1</td>\n",
       "      <td>6.000000</td>\n",
       "      <td>RIC-ORD</td>\n",
       "    </tr>\n",
       "    <tr>\n",
       "      <th>2618567</th>\n",
       "      <td>5</td>\n",
       "      <td>25</td>\n",
       "      <td>7</td>\n",
       "      <td>21:17</td>\n",
       "      <td>21:09</td>\n",
       "      <td>22:37</td>\n",
       "      <td>22:46</td>\n",
       "      <td>UA</td>\n",
       "      <td>423</td>\n",
       "      <td>N520UA</td>\n",
       "      <td>140.0</td>\n",
       "      <td>157.0</td>\n",
       "      <td>125.0</td>\n",
       "      <td>-9.0</td>\n",
       "      <td>8.0</td>\n",
       "      <td>DEN</td>\n",
       "      <td>SFO</td>\n",
       "      <td>967</td>\n",
       "      <td>5.0</td>\n",
       "      <td>10.0</td>\n",
       "      <td>NaN</td>\n",
       "      <td>NaN</td>\n",
       "      <td>NaN</td>\n",
       "      <td>NaN</td>\n",
       "      <td>NaN</td>\n",
       "      <td>0</td>\n",
       "      <td>7.736000</td>\n",
       "      <td>DEN-SFO</td>\n",
       "    </tr>\n",
       "  </tbody>\n",
       "</table>\n",
       "</div>"
      ],
      "text/plain": [
       "         Month  DayofMonth  DayOfWeek DepTime CRSDepTime ArrTime CRSArrTime  \\\n",
       "1528059      3          12          3   17:09      16:45   22:20      21:59   \n",
       "2305316      4           8          2   07:47      07:35   10:33      10:30   \n",
       "2459169      5          24          6   19:06      18:55   19:43      19:40   \n",
       "2735250      5          16          5   11:49      07:55   13:13      09:09   \n",
       "923175       2          27          3   10:50      10:09   12:05      11:25   \n",
       "2265315      4          25          5   16:04      13:45   18:46      16:25   \n",
       "556175       1          19          6   16:18      15:50   19:03      19:04   \n",
       "6617259     12          23          2   12:30      11:15   13:40      11:51   \n",
       "2191612      4          24          4   18:04      17:40   19:16      18:50   \n",
       "2618567      5          25          7   21:17      21:09   22:37      22:46   \n",
       "\n",
       "        UniqueCarrier  FlightNum TailNum  ActualElapsedTime  CRSElapsedTime  \\\n",
       "1528059            F9        720  N201FR              191.0           194.0   \n",
       "2305316            AA       1970  N5CNAA              166.0           175.0   \n",
       "2459169            WN       1017  N637SW               37.0            45.0   \n",
       "2735250            F9        332  N809FR               84.0            74.0   \n",
       "923175             EV       4616  N916EV              135.0           136.0   \n",
       "2265315            AA        321  N425AA              162.0           160.0   \n",
       "556175             B6        454  N523JB              165.0           194.0   \n",
       "6617259            OO       2623  N468CA               70.0            36.0   \n",
       "2191612            MQ       4178  N672AE              132.0           130.0   \n",
       "2618567            UA        423  N520UA              140.0           157.0   \n",
       "\n",
       "         AirTime  ArrDelay  DepDelay Origin Dest  Distance  TaxiIn  TaxiOut  \\\n",
       "1528059    177.0      21.0      24.0    DEN  DCA      1476     5.0      9.0   \n",
       "2305316    138.0       3.0      12.0    MIA  EWR      1086    11.0     17.0   \n",
       "2459169     28.0       3.0      11.0    HOU  AUS       148     4.0      5.0   \n",
       "2735250     55.0     244.0     234.0    ABQ  DEN       349    13.0     16.0   \n",
       "923175     109.0      40.0      41.0    ATL  ATW       765     4.0     22.0   \n",
       "2265315    141.0     141.0     139.0    ORD  AUS       978     6.0     15.0   \n",
       "556175     150.0      -1.0      28.0    FLL  BOS      1237     5.0     10.0   \n",
       "6617259     24.0     109.0      75.0    MKE  MSN        74     3.0     43.0   \n",
       "2191612    107.0      26.0      24.0    RIC  ORD       642    11.0     14.0   \n",
       "2618567    125.0      -9.0       8.0    DEN  SFO       967     5.0     10.0   \n",
       "\n",
       "         CarrierDelay  WeatherDelay  NASDelay  SecurityDelay  \\\n",
       "1528059          15.0           0.0       6.0            0.0   \n",
       "2305316           NaN           NaN       NaN            NaN   \n",
       "2459169           NaN           NaN       NaN            NaN   \n",
       "2735250         234.0           0.0      10.0            0.0   \n",
       "923175           40.0           0.0       0.0            0.0   \n",
       "2265315          21.0           0.0       2.0            0.0   \n",
       "556175            NaN           NaN       NaN            NaN   \n",
       "6617259          75.0           0.0      34.0            0.0   \n",
       "2191612           0.0           0.0       2.0            0.0   \n",
       "2618567           NaN           NaN       NaN            NaN   \n",
       "\n",
       "         LateAircraftDelay  DelayCat  Velocity   Fligth  \n",
       "1528059                0.0         1  8.338983  DEN-DCA  \n",
       "2305316                NaN         0  7.869565  MIA-EWR  \n",
       "2459169                NaN         0  5.285714  HOU-AUS  \n",
       "2735250                0.0         1  6.345455  ABQ-DEN  \n",
       "923175                 0.0         1  7.018349  ATL-ATW  \n",
       "2265315              118.0         1  6.936170  ORD-AUS  \n",
       "556175                 NaN         0  8.246667  FLL-BOS  \n",
       "6617259                0.0         1  3.083333  MKE-MSN  \n",
       "2191612               24.0         1  6.000000  RIC-ORD  \n",
       "2618567                NaN         0  7.736000  DEN-SFO  "
      ]
     },
     "execution_count": 13,
     "metadata": {},
     "output_type": "execute_result"
    }
   ],
   "source": [
    "# Sample\n",
    "df_clean.sample(10)"
   ]
  },
  {
   "cell_type": "code",
   "execution_count": 14,
   "id": "empirical-welsh",
   "metadata": {},
   "outputs": [],
   "source": [
    "# Variables\n",
    "x = df_clean[[\"DepDelay\", \"Distance\"]]"
   ]
  },
  {
   "cell_type": "code",
   "execution_count": 15,
   "id": "experienced-anniversary",
   "metadata": {},
   "outputs": [],
   "source": [
    "# Remove outliers from x\n",
    "z_scores = np.abs(stats.zscore(x))\n",
    "filtered_entries = (z_scores < 3).all(axis=1)\n",
    "x = x[filtered_entries]"
   ]
  },
  {
   "cell_type": "code",
   "execution_count": 16,
   "id": "knowing-warrior",
   "metadata": {},
   "outputs": [],
   "source": [
    "# Inicializar Scaler\n",
    "Scaler = StandardScaler()\n",
    "# Escalar Variables\n",
    "x.loc[:,:] = Scaler.fit_transform(x.values)"
   ]
  },
  {
   "cell_type": "code",
   "execution_count": 17,
   "id": "broken-penetration",
   "metadata": {},
   "outputs": [],
   "source": [
    "# Kmedias\n",
    "kmeans = KMeans(init=\"random\", n_clusters=3, n_init=10, max_iter=300, random_state=42).fit(x)"
   ]
  },
  {
   "cell_type": "code",
   "execution_count": 18,
   "id": "certain-determination",
   "metadata": {},
   "outputs": [],
   "source": [
    "# Clústers\n",
    "categories = kmeans.labels_\n",
    "colormap = np.array(['r', 'g', 'b'])"
   ]
  },
  {
   "cell_type": "code",
   "execution_count": 19,
   "id": "military-wheel",
   "metadata": {},
   "outputs": [
    {
     "data": {
      "text/plain": [
       "Text(0, 0.5, 'Distance')"
      ]
     },
     "execution_count": 19,
     "metadata": {},
     "output_type": "execute_result"
    },
    {
     "data": {
      "image/png": "[encoded data removed]",
      "text/plain": [
       "<Figure size 432x288 with 1 Axes>"
      ]
     },
     "metadata": {
      "needs_background": "light"
     },
     "output_type": "display_data"
    }
   ],
   "source": [
    "# Plot\n",
    "plt.scatter(x.DepDelay, x.Distance, c=colormap[categories])\n",
    "plt.xlabel(\"DepDelay\")\n",
    "plt.ylabel(\"Distance\")"
   ]
  },
  {
   "cell_type": "markdown",
   "id": "tropical-criticism",
   "metadata": {},
   "source": [
    "Dividiendo los vuelos en 3 clústers utilizando las variablas DepDelay y Distance obtenemos la siguiente clasificación."
   ]
  },
  {
   "cell_type": "markdown",
   "id": "vietnamese-sacramento",
   "metadata": {},
   "source": [
    "# Exercisi 2"
   ]
  },
  {
   "cell_type": "markdown",
   "id": "allied-possible",
   "metadata": {},
   "source": [
    "Debido a las dimensiones del dataset utilizamos una muestra representativa para este cálculo."
   ]
  },
  {
   "cell_type": "code",
   "execution_count": 20,
   "id": "julian-technician",
   "metadata": {},
   "outputs": [],
   "source": [
    "x_reducido = x.sample(10000)"
   ]
  },
  {
   "cell_type": "code",
   "execution_count": 21,
   "id": "hearing-limit",
   "metadata": {},
   "outputs": [
    {
     "data": {
      "image/png": "[encoded data removed]",
      "text/plain": [
       "<Figure size 432x288 with 1 Axes>"
      ]
     },
     "metadata": {
      "needs_background": "light"
     },
     "output_type": "display_data"
    }
   ],
   "source": [
    "# Dendograma\n",
    "dendrogram = sch.dendrogram(sch.linkage(x_reducido.sample(1000), method='ward'))"
   ]
  },
  {
   "cell_type": "markdown",
   "id": "described-stevens",
   "metadata": {},
   "source": [
    "Segun el criterio de selección de clústers a partir del dendograma, el número óptimo de clústers es 3. "
   ]
  },
  {
   "cell_type": "code",
   "execution_count": 22,
   "id": "middle-leeds",
   "metadata": {},
   "outputs": [],
   "source": [
    "# Kmedias jerarquico\n",
    "model = AgglomerativeClustering(n_clusters=3, affinity='euclidean', linkage='ward').fit(x_reducido)"
   ]
  },
  {
   "cell_type": "code",
   "execution_count": 23,
   "id": "severe-light",
   "metadata": {},
   "outputs": [],
   "source": [
    "# Clústers\n",
    "categories = model.labels_\n",
    "colormap = np.array(['r', 'g', 'b'])"
   ]
  },
  {
   "cell_type": "code",
   "execution_count": 24,
   "id": "cathedral-positive",
   "metadata": {},
   "outputs": [
    {
     "data": {
      "text/plain": [
       "Text(0, 0.5, 'Distance')"
      ]
     },
     "execution_count": 24,
     "metadata": {},
     "output_type": "execute_result"
    },
    {
     "data": {
      "image/png": "[encoded data removed]",
      "text/plain": [
       "<Figure size 432x288 with 1 Axes>"
      ]
     },
     "metadata": {
      "needs_background": "light"
     },
     "output_type": "display_data"
    }
   ],
   "source": [
    "# Plot\n",
    "plt.scatter(x_reducido.DepDelay, x_reducido.Distance, c=colormap[categories])\n",
    "plt.xlabel(\"DepDelay\")\n",
    "plt.ylabel(\"Distance\")"
   ]
  },
  {
   "cell_type": "markdown",
   "id": "decimal-first",
   "metadata": {},
   "source": [
    "# Exercisi 3"
   ]
  },
  {
   "cell_type": "code",
   "execution_count": 25,
   "id": "descending-footage",
   "metadata": {},
   "outputs": [],
   "source": [
    "# Elbow method\n",
    "kmeans_kwargs = {\"init\": \"random\", \"n_init\": 10, \"max_iter\": 300, \"random_state\": 42}\n",
    "\n",
    "# A list holds the SSE values for each k\n",
    "sse = []\n",
    "for k in range(1, 11):\n",
    "    kmeans = KMeans(n_clusters=k, **kmeans_kwargs).fit(x)\n",
    "    sse.append(kmeans.inertia_) # Distance to center metric (accuracy)"
   ]
  },
  {
   "cell_type": "code",
   "execution_count": 26,
   "id": "stock-headline",
   "metadata": {},
   "outputs": [
    {
     "data": {
      "image/png": "[encoded data removed]",
      "text/plain": [
       "<Figure size 432x288 with 1 Axes>"
      ]
     },
     "metadata": {},
     "output_type": "display_data"
    }
   ],
   "source": [
    "# Plot\n",
    "plt.style.use(\"fivethirtyeight\")\n",
    "plt.plot(range(1, 11), sse)\n",
    "plt.xticks(range(1, 11))\n",
    "plt.xlabel(\"Number of Clusters\")\n",
    "plt.ylabel(\"SSE\")\n",
    "plt.show()"
   ]
  },
  {
   "cell_type": "markdown",
   "id": "attended-bosnia",
   "metadata": {},
   "source": [
    "Según el criterio del codo el número óptimo de clústers podría ser 3 o 5."
   ]
  },
  {
   "cell_type": "code",
   "execution_count": 27,
   "id": "minor-embassy",
   "metadata": {},
   "outputs": [],
   "source": [
    "# silhouette coefficients\n",
    "kmeans_kwargs = {\"init\": \"random\", \"n_init\": 10, \"max_iter\": 300, \"random_state\": 42}\n",
    "\n",
    "# A list holds the silhouette coefficients = [] values for each k\n",
    "silhouette_coefficients = []\n",
    "for k in range(2, 11):\n",
    "    kmeans = KMeans(n_clusters=k, **kmeans_kwargs).fit(x_reducido)\n",
    "    score = silhouette_score(x_reducido, kmeans.labels_)\n",
    "    silhouette_coefficients.append(score)"
   ]
  },
  {
   "cell_type": "code",
   "execution_count": 28,
   "id": "efficient-facial",
   "metadata": {},
   "outputs": [
    {
     "data": {
      "image/png": "[encoded data removed]",
      "text/plain": [
       "<Figure size 432x288 with 1 Axes>"
      ]
     },
     "metadata": {},
     "output_type": "display_data"
    }
   ],
   "source": [
    "# Plot\n",
    "plt.style.use(\"fivethirtyeight\")\n",
    "plt.plot(range(2, 11), silhouette_coefficients)\n",
    "plt.xticks(range(2, 11))\n",
    "plt.xlabel(\"Number of Clusters\")\n",
    "plt.ylabel(\"Silhouette Coefficient\")\n",
    "plt.show()"
   ]
  },
  {
   "cell_type": "markdown",
   "id": "russian-mediterranean",
   "metadata": {},
   "source": [
    "Debido al coste computacional, utilizamos una muestra representativa para realizar esta evaluación. Los coeficientes de silueta son una medida de cohesión y separación entre los distintos clústers. Dentro del rango -1/1, cuanto más alto sea el valor más diferenciados estan los clústers entre sí. En nuestro caso, de nuevo el 3 es el número óptimo de clústers."
   ]
  },
  {
   "cell_type": "code",
   "execution_count": null,
   "id": "korean-lesson",
   "metadata": {},
   "outputs": [],
   "source": []
  }
 ],
 "metadata": {
  "kernelspec": {
   "display_name": "Python 3",
   "language": "python",
   "name": "python3"
  },
  "language_info": {
   "codemirror_mode": {
    "name": "ipython",
    "version": 3
   },
   "file_extension": ".py",
   "mimetype": "text/x-python",
   "name": "python",
   "nbconvert_exporter": "python",
   "pygments_lexer": "ipython3",
   "version": "3.8.2"
  }
 },
 "nbformat": 4,
 "nbformat_minor": 5
}
