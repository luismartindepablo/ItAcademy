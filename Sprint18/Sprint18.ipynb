{
 "cells": [
  {
   "cell_type": "markdown",
   "id": "e942e960",
   "metadata": {},
   "source": [
    "# Tasca base de dades NoSQL"
   ]
  },
  {
   "cell_type": "markdown",
   "id": "15bb7901",
   "metadata": {},
   "source": [
    "**Exercici 1**\n",
    "\n",
    "Crea una base de dades NoSQL utilitzant MongoDB. Afegeix-li algunes dades d'exemple que et permetin comprovar que ets capaç de processar-ne la informació de manera bàsica.\n",
    "\n",
    "**Exercici 2**\n",
    "\n",
    "Connecta la base de dades NoSQL a Python utilitzant per exemple pymongo.\n",
    "\n",
    "**Exercici 3**\n",
    "\n",
    "Carega algunes consultes senzilles a un Pandas Dataframe. \n",
    "\n",
    "**Exercici 4**\n",
    "\n",
    "Genera un resum estadístic de la informació que conté la base de dades."
   ]
  },
  {
   "cell_type": "code",
   "execution_count": 1,
   "id": "88560e85",
   "metadata": {},
   "outputs": [],
   "source": [
    "import pymongo\n",
    "import pandas as pd\n",
    "import numpy as np\n",
    "import matplotlib.pyplot as plt\n",
    "from pymongo import MongoClient"
   ]
  },
  {
   "cell_type": "markdown",
   "id": "e874a877",
   "metadata": {},
   "source": [
    "### Exercici 1"
   ]
  },
  {
   "cell_type": "markdown",
   "id": "242b56a3",
   "metadata": {},
   "source": [
    "Create a MongoDB Atlas account or install a Local MongoDB Server"
   ]
  },
  {
   "cell_type": "markdown",
   "id": "5aadcaf2",
   "metadata": {},
   "source": [
    "### Exercici 2"
   ]
  },
  {
   "cell_type": "code",
   "execution_count": 2,
   "id": "c3a851a5",
   "metadata": {},
   "outputs": [],
   "source": [
    "## --------\n",
    "## REMOTE not working bc I don't want to put my password\n",
    "## --------\n",
    "\n",
    "## URI server ATLAS\n",
    "password = \"********\"\n",
    "uri = \"mongodb+srv://luismartin:\" + password + \\\n",
    "    \"@cluster0.fvd8a.mongodb.net/myFirstDatabase?retryWrites=true&w=majority\"\n",
    "    \n",
    "## Conect\n",
    "cluster = MongoClient(uri)"
   ]
  },
  {
   "cell_type": "code",
   "execution_count": 9,
   "id": "3cb57a49",
   "metadata": {},
   "outputs": [],
   "source": [
    "## --------\n",
    "## LOCAL\n",
    "## --------\n",
    "\n",
    "## First initiate your local server\n",
    "cluster = MongoClient('localhost', 27017)"
   ]
  },
  {
   "cell_type": "markdown",
   "id": "bd06bdee",
   "metadata": {},
   "source": [
    "### Exercici 3"
   ]
  },
  {
   "cell_type": "code",
   "execution_count": 10,
   "id": "2aaf4ff3",
   "metadata": {},
   "outputs": [],
   "source": [
    "## Database\n",
    "db = cluster[\"ItAcademy\"]\n",
    "\n",
    "## Collection \n",
    "collection = db[\"Sprint18\"]\n",
    "\n",
    "## Atributs\n",
    "names_list = [\"Enric\", \"Maria\", \"Jaume\", \"Sílvia\", \"Luis\", \"Reme\", \"Pol\", \"Marc\", \"Marta\", \"Mireia\", \n",
    "              \"Arnau\", \"Alba\", \"Joan\", \"Vanna\", \"David\", \"Agustín\", \"Queralt\", \"Isaam\", \"Samir\", \"Sebas\", \n",
    "              \"Alex\", \"Anna\", \"Isabel\", \"Sonia\", \"Gerard\", \"Álvaro\", \"Miriam\", \"Marina\", \"Cristina\", \"Claudia\",\n",
    "              \"Judit\", \"Nora\", \"Edu\", \"Manel\", \"Paula\", \"Hugo\", \"Valentina\", \"Josep\", \"Júlia\", \"Gemma\"]\n",
    "\n",
    "surnames_list = [\"Martos\", \"Paricio\", \"Sánchez\", \"Prats\", \"Martin\", \"Soler\", \"Rabetlla\", \"Font\", \n",
    "                 \"Xifra\", \"Puig\", \"Figueres\", \"Comet\", \"Suárez\", \"Prado\", \"Portús\", \"Álvarez\", \n",
    "                 \"Pons\", \"Franc\", \"Serra\", \"Vivanco\", \"Diaz\", \"Daniel\", \"Borrego\", \"de Pablo\", \n",
    "                 \"Di Marco\", \"Rodríguez\", \"Bosch\", \"Lorien\", \"Albets\", \"Benítez\", \"Calderero\", \"Mompart\"]\n",
    "\n",
    "tags_list = [\"Fútbol\", \"Básquet\", \"Hokey\", \"Tenis\", \"Natación\", \"Atletísmo\", \"Waterpolo\", \"Ciclismo\",\n",
    "             \"Ingés\", \"Francés\", \"Aleman\", \"Italiano\", \"Matmáticas\", \"Música\", \"Guitarra\", \"Piano\",\n",
    "             \"Batería\", \"Escalada\", \"Teatro\", \"Cerámica\", \"Dibujo\", \"Cocina\", \"Lectura\", \"Programación\"]\n",
    "\n",
    "## Inster\n",
    "for ii in range(500):\n",
    "    collection.insert_one({\n",
    "        \"_id\": ii,\n",
    "        \"name\": np.random.choice(names_list),\n",
    "        \"surname_1\": np.random.choice(surnames_list),\n",
    "        \"surname_2\": np.random.choice(surnames_list),\n",
    "        \"notes\": round(np.random.normal(7, 1), 2),\n",
    "        \"height\": round(np.random.normal(1.7, 0.1), 2),\n",
    "        \"weight\": round(np.random.normal(70, 15), 2),\n",
    "        \"tags\": list(np.random.choice(tags_list, 3))\n",
    "    })"
   ]
  },
  {
   "cell_type": "code",
   "execution_count": 11,
   "id": "5e78dbca",
   "metadata": {},
   "outputs": [
    {
     "data": {
      "text/html": [
       "<div>\n",
       "<style scoped>\n",
       "    .dataframe tbody tr th:only-of-type {\n",
       "        vertical-align: middle;\n",
       "    }\n",
       "\n",
       "    .dataframe tbody tr th {\n",
       "        vertical-align: top;\n",
       "    }\n",
       "\n",
       "    .dataframe thead th {\n",
       "        text-align: right;\n",
       "    }\n",
       "</style>\n",
       "<table border=\"1\" class=\"dataframe\">\n",
       "  <thead>\n",
       "    <tr style=\"text-align: right;\">\n",
       "      <th></th>\n",
       "      <th>_id</th>\n",
       "      <th>name</th>\n",
       "      <th>surname_1</th>\n",
       "      <th>surname_2</th>\n",
       "      <th>notes</th>\n",
       "      <th>height</th>\n",
       "      <th>weight</th>\n",
       "      <th>tags</th>\n",
       "    </tr>\n",
       "  </thead>\n",
       "  <tbody>\n",
       "    <tr>\n",
       "      <th>0</th>\n",
       "      <td>0</td>\n",
       "      <td>Isabel</td>\n",
       "      <td>Xifra</td>\n",
       "      <td>Mompart</td>\n",
       "      <td>6.47</td>\n",
       "      <td>1.79</td>\n",
       "      <td>74.51</td>\n",
       "      <td>[Teatro, Batería, Lectura]</td>\n",
       "    </tr>\n",
       "    <tr>\n",
       "      <th>1</th>\n",
       "      <td>1</td>\n",
       "      <td>Manel</td>\n",
       "      <td>Sánchez</td>\n",
       "      <td>Martin</td>\n",
       "      <td>6.40</td>\n",
       "      <td>1.73</td>\n",
       "      <td>41.68</td>\n",
       "      <td>[Guitarra, Aleman, Piano]</td>\n",
       "    </tr>\n",
       "    <tr>\n",
       "      <th>2</th>\n",
       "      <td>2</td>\n",
       "      <td>Cristina</td>\n",
       "      <td>Sánchez</td>\n",
       "      <td>Franc</td>\n",
       "      <td>6.33</td>\n",
       "      <td>1.70</td>\n",
       "      <td>77.96</td>\n",
       "      <td>[Matmáticas, Waterpolo, Ciclismo]</td>\n",
       "    </tr>\n",
       "    <tr>\n",
       "      <th>3</th>\n",
       "      <td>3</td>\n",
       "      <td>Samir</td>\n",
       "      <td>Font</td>\n",
       "      <td>Prado</td>\n",
       "      <td>7.21</td>\n",
       "      <td>1.62</td>\n",
       "      <td>73.49</td>\n",
       "      <td>[Aleman, Aleman, Tenis]</td>\n",
       "    </tr>\n",
       "    <tr>\n",
       "      <th>4</th>\n",
       "      <td>4</td>\n",
       "      <td>Maria</td>\n",
       "      <td>Pons</td>\n",
       "      <td>Serra</td>\n",
       "      <td>6.43</td>\n",
       "      <td>1.76</td>\n",
       "      <td>87.43</td>\n",
       "      <td>[Fútbol, Batería, Waterpolo]</td>\n",
       "    </tr>\n",
       "  </tbody>\n",
       "</table>\n",
       "</div>"
      ],
      "text/plain": [
       "   _id      name surname_1 surname_2  notes  height  weight  \\\n",
       "0    0    Isabel     Xifra   Mompart   6.47    1.79   74.51   \n",
       "1    1     Manel   Sánchez    Martin   6.40    1.73   41.68   \n",
       "2    2  Cristina   Sánchez     Franc   6.33    1.70   77.96   \n",
       "3    3     Samir      Font     Prado   7.21    1.62   73.49   \n",
       "4    4     Maria      Pons     Serra   6.43    1.76   87.43   \n",
       "\n",
       "                                tags  \n",
       "0         [Teatro, Batería, Lectura]  \n",
       "1          [Guitarra, Aleman, Piano]  \n",
       "2  [Matmáticas, Waterpolo, Ciclismo]  \n",
       "3            [Aleman, Aleman, Tenis]  \n",
       "4       [Fútbol, Batería, Waterpolo]  "
      ]
     },
     "metadata": {},
     "output_type": "display_data"
    }
   ],
   "source": [
    "## Find and export\n",
    "results = collection.find()\n",
    "df =  pd.DataFrame(list(results))\n",
    "display(df.head())"
   ]
  },
  {
   "cell_type": "code",
   "execution_count": 12,
   "id": "7e7b6e2b",
   "metadata": {},
   "outputs": [
    {
     "name": "stdout",
     "output_type": "stream",
     "text": [
      "59 personas juegan a fútbol\n",
      "12 personas que se apellidan Bosch tocan algún instrumento\n"
     ]
    }
   ],
   "source": [
    "## How many play Fútbol\n",
    "results = collection.find({\"tags\": \"Fútbol\"})\n",
    "df_futbol =  pd.DataFrame(list(results))\n",
    "print(\"{} personas juegan a fútbol\".format(len(df_futbol)))\n",
    "\n",
    "## How many Bosch play any instrument\n",
    "results = collection.find({\"$and\": [\n",
    "    {\"$or\": [\n",
    "        {\"tags\": \"Guitarra\"}, \n",
    "        {\"tags\": \"Piano\"}, \n",
    "        {\"tags\": \"Batería\"}]},\n",
    "    {\"$or\": [\n",
    "        {\"surname_1\": \"Bosch\"}, \n",
    "        {\"surname_2\": \"Bosch\"}]}\n",
    "]})\n",
    "df_music =  pd.DataFrame(list(results))\n",
    "print(\"{} personas que se apellidan Bosch tocan algún instrumento\".format(len(df_music)))"
   ]
  },
  {
   "cell_type": "markdown",
   "id": "96f0ff07",
   "metadata": {},
   "source": [
    "### Exercici 4"
   ]
  },
  {
   "cell_type": "code",
   "execution_count": 13,
   "id": "ba2a81a4",
   "metadata": {},
   "outputs": [
    {
     "data": {
      "image/png": "[encoded data removed]",
      "text/plain": [
       "<Figure size 432x288 with 1 Axes>"
      ]
     },
     "metadata": {
      "needs_background": "light"
     },
     "output_type": "display_data"
    }
   ],
   "source": [
    "# Notes histogram\n",
    "df.notes.plot(kind=\"hist\", bins=10);\n",
    "plt.xlabel(\"Notes\");\n",
    "plt.ylabel(\"Count\");"
   ]
  },
  {
   "cell_type": "code",
   "execution_count": 14,
   "id": "559e8303",
   "metadata": {},
   "outputs": [
    {
     "data": {
      "image/png": "[encoded data removed]",
      "text/plain": [
       "<Figure size 432x288 with 1 Axes>"
      ]
     },
     "metadata": {
      "needs_background": "light"
     },
     "output_type": "display_data"
    }
   ],
   "source": [
    "# Heigh histogram\n",
    "df.height.plot(kind=\"hist\", bins=10);\n",
    "plt.xlabel(\"Height\");\n",
    "plt.ylabel(\"Count\");"
   ]
  },
  {
   "cell_type": "code",
   "execution_count": 15,
   "id": "63c671d3",
   "metadata": {},
   "outputs": [
    {
     "data": {
      "image/png": "[encoded data removed]",
      "text/plain": [
       "<Figure size 432x288 with 1 Axes>"
      ]
     },
     "metadata": {
      "needs_background": "light"
     },
     "output_type": "display_data"
    }
   ],
   "source": [
    "# Weigh histogram\n",
    "df.weight.plot(kind=\"hist\", bins=10);\n",
    "plt.xlabel(\"Weight\");\n",
    "plt.ylabel(\"Count\");"
   ]
  },
  {
   "cell_type": "code",
   "execution_count": null,
   "id": "bbc7e068",
   "metadata": {},
   "outputs": [],
   "source": []
  }
 ],
 "metadata": {
  "kernelspec": {
   "display_name": "Python 3",
   "language": "python",
   "name": "python3"
  },
  "language_info": {
   "codemirror_mode": {
    "name": "ipython",
    "version": 3
   },
   "file_extension": ".py",
   "mimetype": "text/x-python",
   "name": "python",
   "nbconvert_exporter": "python",
   "pygments_lexer": "ipython3",
   "version": "3.8.2"
  }
 },
 "nbformat": 4,
 "nbformat_minor": 5
}
