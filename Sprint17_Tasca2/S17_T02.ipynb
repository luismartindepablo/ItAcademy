{
 "cells": [
  {
   "cell_type": "markdown",
   "id": "f14ff317",
   "metadata": {},
   "source": [
    "# Base de dades MySQL"
   ]
  },
  {
   "cell_type": "markdown",
   "id": "04a500bf",
   "metadata": {},
   "source": [
    "Crear base de dades amb MySQL.\n",
    "\n",
    "**Exercici 1**\n",
    "\n",
    "Crea una base de dades relacionals senzilla utilitzant MySQL i connecta-la a Python.\n",
    "\n",
    "**Exercici 2**\n",
    "\n",
    "Mostra que pots carregar algunes consultes senzilles a un Pandas Dataframe.\n",
    "\n",
    "**Exercici 3**\n",
    "\n",
    "Genera algun gràfic que resumeixi les dades. "
   ]
  },
  {
   "cell_type": "markdown",
   "id": "999f4159",
   "metadata": {},
   "source": [
    "### Exercisi 1"
   ]
  },
  {
   "cell_type": "code",
   "execution_count": 1,
   "id": "cb132db7",
   "metadata": {},
   "outputs": [],
   "source": [
    "import mysql.connector"
   ]
  },
  {
   "cell_type": "code",
   "execution_count": 6,
   "id": "cc6d20fe",
   "metadata": {},
   "outputs": [],
   "source": [
    "# Conexión al servidor\n",
    "mydb = mysql.connector.connect(\n",
    "    host=\"localhost\",\n",
    "    user=\"admin\",\n",
    "    password=\"Soledad.4\",\n",
    "    database=\"clinical\"\n",
    ")"
   ]
  },
  {
   "cell_type": "code",
   "execution_count": 8,
   "id": "0c19945e",
   "metadata": {},
   "outputs": [
    {
     "name": "stdout",
     "output_type": "stream",
     "text": [
      "('tb_encounter',)\n",
      "('tb_medical_services',)\n",
      "('tb_orders',)\n",
      "('tb_orders_catalog',)\n",
      "('tb_patient',)\n",
      "('tb_users',)\n"
     ]
    }
   ],
   "source": [
    "# Comprovar conexión\n",
    "mycursor = mydb.cursor()\n",
    "mycursor.execute(\"SHOW TABLES\")\n",
    "\n",
    "for x in mycursor:\n",
    "    print(x)"
   ]
  },
  {
   "cell_type": "markdown",
   "id": "4f730c9b",
   "metadata": {},
   "source": [
    "### Exercisi 2"
   ]
  },
  {
   "cell_type": "code",
   "execution_count": 11,
   "id": "0238adcd",
   "metadata": {},
   "outputs": [],
   "source": [
    "import pandas as pd"
   ]
  },
  {
   "cell_type": "code",
   "execution_count": 16,
   "id": "17957ed7",
   "metadata": {},
   "outputs": [],
   "source": [
    "# Tables\n",
    "df_encounter = pd.read_sql('SELECT * FROM tb_encounter', con=mydb)\n",
    "df_medical_services = pd.read_sql('SELECT * FROM tb_medical_services', con=mydb)\n",
    "df_orders = pd.read_sql('SELECT * FROM tb_orders', con=mydb)\n",
    "df_orders_catalog = pd.read_sql('SELECT * FROM tb_orders_catalog', con=mydb)\n",
    "df_patient = pd.read_sql('SELECT * FROM tb_patient', con=mydb)\n",
    "df_users = pd.read_sql('SELECT * FROM tb_users', con=mydb)"
   ]
  },
  {
   "cell_type": "code",
   "execution_count": 17,
   "id": "8046ad8c",
   "metadata": {},
   "outputs": [
    {
     "data": {
      "text/html": [
       "<div>\n",
       "<style scoped>\n",
       "    .dataframe tbody tr th:only-of-type {\n",
       "        vertical-align: middle;\n",
       "    }\n",
       "\n",
       "    .dataframe tbody tr th {\n",
       "        vertical-align: top;\n",
       "    }\n",
       "\n",
       "    .dataframe thead th {\n",
       "        text-align: right;\n",
       "    }\n",
       "</style>\n",
       "<table border=\"1\" class=\"dataframe\">\n",
       "  <thead>\n",
       "    <tr style=\"text-align: right;\">\n",
       "      <th></th>\n",
       "      <th>encounter_id</th>\n",
       "      <th>patient_id</th>\n",
       "      <th>encounter_type</th>\n",
       "      <th>arrival_dt</th>\n",
       "      <th>discharge_dt</th>\n",
       "      <th>med_service_id</th>\n",
       "    </tr>\n",
       "  </thead>\n",
       "  <tbody>\n",
       "    <tr>\n",
       "      <th>0</th>\n",
       "      <td>65091</td>\n",
       "      <td>31</td>\n",
       "      <td>Consulta Externa</td>\n",
       "      <td>2016-04-12 08:59:00</td>\n",
       "      <td>2016-04-12 22:50:00</td>\n",
       "      <td>1</td>\n",
       "    </tr>\n",
       "    <tr>\n",
       "      <th>1</th>\n",
       "      <td>66971</td>\n",
       "      <td>31</td>\n",
       "      <td>Consulta Externa</td>\n",
       "      <td>2016-05-16 11:12:34</td>\n",
       "      <td>2016-05-16 18:20:00</td>\n",
       "      <td>5</td>\n",
       "    </tr>\n",
       "    <tr>\n",
       "      <th>2</th>\n",
       "      <td>75753</td>\n",
       "      <td>1</td>\n",
       "      <td>Consulta Externa</td>\n",
       "      <td>2016-06-16 12:26:59</td>\n",
       "      <td>2016-06-16 15:00:00</td>\n",
       "      <td>5</td>\n",
       "    </tr>\n",
       "    <tr>\n",
       "      <th>3</th>\n",
       "      <td>77276</td>\n",
       "      <td>11</td>\n",
       "      <td>Consulta Externa</td>\n",
       "      <td>2016-01-07 08:10:00</td>\n",
       "      <td>2016-01-07 15:30:00</td>\n",
       "      <td>1</td>\n",
       "    </tr>\n",
       "    <tr>\n",
       "      <th>4</th>\n",
       "      <td>78919</td>\n",
       "      <td>11</td>\n",
       "      <td>Urgencia</td>\n",
       "      <td>2018-07-26 13:23:55</td>\n",
       "      <td>2018-07-27 15:00:00</td>\n",
       "      <td>4</td>\n",
       "    </tr>\n",
       "  </tbody>\n",
       "</table>\n",
       "</div>"
      ],
      "text/plain": [
       "   encounter_id  patient_id    encounter_type          arrival_dt  \\\n",
       "0         65091          31  Consulta Externa 2016-04-12 08:59:00   \n",
       "1         66971          31  Consulta Externa 2016-05-16 11:12:34   \n",
       "2         75753           1  Consulta Externa 2016-06-16 12:26:59   \n",
       "3         77276          11  Consulta Externa 2016-01-07 08:10:00   \n",
       "4         78919          11          Urgencia 2018-07-26 13:23:55   \n",
       "\n",
       "         discharge_dt  med_service_id  \n",
       "0 2016-04-12 22:50:00               1  \n",
       "1 2016-05-16 18:20:00               5  \n",
       "2 2016-06-16 15:00:00               5  \n",
       "3 2016-01-07 15:30:00               1  \n",
       "4 2018-07-27 15:00:00               4  "
      ]
     },
     "execution_count": 17,
     "metadata": {},
     "output_type": "execute_result"
    }
   ],
   "source": [
    "# Muestra\n",
    "df_encounter.head()"
   ]
  },
  {
   "cell_type": "markdown",
   "id": "b35ba5e6",
   "metadata": {},
   "source": [
    "### Exercisi 3"
   ]
  },
  {
   "cell_type": "code",
   "execution_count": 43,
   "id": "22a90387",
   "metadata": {},
   "outputs": [],
   "source": [
    "# Info\n",
    "Query = \"\"\"\n",
    "        SELECT OC.category, COUNT(*) as count\n",
    "        FROM tb_orders as O\n",
    "        INNER JOIN tb_orders_catalog OC ON O.order_code = OC.order_code\n",
    "        GROUP BY OC.category\n",
    "        \"\"\"\n",
    "Tipos = pd.read_sql(Query, con=mydb)"
   ]
  },
  {
   "cell_type": "code",
   "execution_count": 50,
   "id": "8389b8fa",
   "metadata": {},
   "outputs": [
    {
     "data": {
      "image/png": "[encoded data removed]",
      "text/plain": [
       "<Figure size 432x288 with 1 Axes>"
      ]
     },
     "metadata": {
      "needs_background": "light"
     },
     "output_type": "display_data"
    }
   ],
   "source": [
    "# Plot\n",
    "Tipos.plot(kind=\"bar\", x=\"category\", ylabel=\"count\", legend=False);"
   ]
  },
  {
   "cell_type": "code",
   "execution_count": 70,
   "id": "7e19ffc6",
   "metadata": {},
   "outputs": [],
   "source": [
    "# Info\n",
    "Query = \"\"\"\n",
    "        SELECT YEAR(E.arrival_dt) as año, COUNT(*) as count\n",
    "        FROM tb_encounter as E\n",
    "        GROUP BY YEAR(E.arrival_dt)\n",
    "        ORDER BY año\n",
    "        \"\"\"\n",
    "Visitas = pd.read_sql(Query, con=mydb)"
   ]
  },
  {
   "cell_type": "code",
   "execution_count": 72,
   "id": "68e0555e",
   "metadata": {},
   "outputs": [
    {
     "data": {
      "image/png": "[encoded data removed]",
      "text/plain": [
       "<Figure size 432x288 with 1 Axes>"
      ]
     },
     "metadata": {
      "needs_background": "light"
     },
     "output_type": "display_data"
    }
   ],
   "source": [
    "# Plot\n",
    "Visitas.plot(kind=\"bar\", x=\"año\", ylabel=\"count\", legend=False);"
   ]
  }
 ],
 "metadata": {
  "kernelspec": {
   "display_name": "Python 3",
   "language": "python",
   "name": "python3"
  },
  "language_info": {
   "codemirror_mode": {
    "name": "ipython",
    "version": 3
   },
   "file_extension": ".py",
   "mimetype": "text/x-python",
   "name": "python",
   "nbconvert_exporter": "python",
   "pygments_lexer": "ipython3",
   "version": "3.8.2"
  }
 },
 "nbformat": 4,
 "nbformat_minor": 5
}
