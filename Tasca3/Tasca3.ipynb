{
 "cells": [
  {
   "cell_type": "markdown",
   "metadata": {},
   "source": [
    "# Estructura de control"
   ]
  },
  {
   "cell_type": "code",
   "execution_count": 1,
   "metadata": {},
   "outputs": [],
   "source": [
    "import random as rand"
   ]
  },
  {
   "cell_type": "markdown",
   "metadata": {},
   "source": [
    "### Exercici 1"
   ]
  },
  {
   "cell_type": "markdown",
   "metadata": {},
   "source": [
    "L'exercici consisteix a crear un programa que et classifiqui una variable numèrica en funció de l’escala Suspès/Aprovat/Notable/Excel·lent."
   ]
  },
  {
   "cell_type": "code",
   "execution_count": 2,
   "metadata": {},
   "outputs": [],
   "source": [
    "## Generem la funció (notes del 0 al 10)\n",
    "def fun(nota):\n",
    "    if nota < 5: print (\"Suspès\")\n",
    "    elif 5 <= nota < 6.5: print (\"Aprovat\")\n",
    "    elif 6.5 <= nota <= 8.5: print (\"Notable\")\n",
    "    else: print (\"Excel·lent\")"
   ]
  },
  {
   "cell_type": "code",
   "execution_count": 3,
   "metadata": {},
   "outputs": [
    {
     "name": "stdout",
     "output_type": "stream",
     "text": [
      "Suspès\n",
      "4.5\n"
     ]
    }
   ],
   "source": [
    "## Provem la funció\n",
    "nota = rand.random()*10\n",
    "fun(nota)  \n",
    "print (round(nota,1))"
   ]
  },
  {
   "cell_type": "markdown",
   "metadata": {},
   "source": [
    "### Exercici 2"
   ]
  },
  {
   "cell_type": "markdown",
   "metadata": {},
   "source": [
    "Utilitzant el següent tutorial [Programiz: Python Input, Output and Import](https://www.programiz.com/python-programming/input-output-import) crea un programa que et pregunti dos números. T’ha de mostrar un missatge dient si el primer és més gran, el segon és més gran o són iguals."
   ]
  },
  {
   "cell_type": "code",
   "execution_count": 4,
   "metadata": {},
   "outputs": [],
   "source": [
    "## Generem la funció\n",
    "def fun():\n",
    "    a = input(\"Enter your first number: \")\n",
    "    b = input(\"Enter your second number: \")\n",
    "    if a > b: print (\"The first number is larger\")\n",
    "    elif b > a: print (\"The second number is larger\")\n",
    "    else: print (\"Both numbers are equal\")"
   ]
  },
  {
   "cell_type": "code",
   "execution_count": 5,
   "metadata": {},
   "outputs": [
    {
     "name": "stdout",
     "output_type": "stream",
     "text": [
      "Enter your first number: 5\n",
      "Enter your second number: 3\n",
      "The first number is larger\n"
     ]
    }
   ],
   "source": [
    "## Provem la funcio\n",
    "fun()"
   ]
  },
  {
   "cell_type": "markdown",
   "metadata": {},
   "source": [
    "### Exercici 3\n",
    "\n",
    "Crea un programa que et pregunti el teu nom, i et demani un número. Si el número és 0, hauria de mostrar un missatge d’error. En cas contrari, hauria de mostrar el nom repetit tants cops com indiqui el número. Per exemple, “Joan Joan Joan”."
   ]
  },
  {
   "cell_type": "code",
   "execution_count": 6,
   "metadata": {},
   "outputs": [],
   "source": [
    "## Generem la funció\n",
    "def fun():\n",
    "    \n",
    "    name = input(\"Enter your name: \")\n",
    "    num = input(\"Enter your number: \")\n",
    "    \n",
    "    if int(num) <= 0: raise TypeError(\"Only positive integers allowed\")\n",
    "    else: print((name + \" \")*int(num)) "
   ]
  },
  {
   "cell_type": "code",
   "execution_count": 7,
   "metadata": {},
   "outputs": [
    {
     "name": "stdout",
     "output_type": "stream",
     "text": [
      "Enter your name: Luis\n",
      "Enter your number: 4\n",
      "Luis Luis Luis Luis \n"
     ]
    }
   ],
   "source": [
    "## Provem la funció\n",
    "fun()"
   ]
  },
  {
   "cell_type": "markdown",
   "metadata": {},
   "source": [
    "### Exercici 4\n",
    "\n",
    "Crea un programa que donada una llista qualsevol, et digui si es simètrica o no. Si ho és, que et digui quants elements té."
   ]
  },
  {
   "cell_type": "code",
   "execution_count": 8,
   "metadata": {},
   "outputs": [],
   "source": [
    "## Generem la funció (1-dimension lists)\n",
    "def fun(llista):\n",
    "    for ii in range(int(len(llista)/2)):\n",
    "        if llista[ii] == llista[-1-ii]: pass\n",
    "        else: \n",
    "            print (\"La llista no es simètrica\")\n",
    "            return None\n",
    "    print (\"La llista es simètrica\")"
   ]
  },
  {
   "cell_type": "code",
   "execution_count": 9,
   "metadata": {},
   "outputs": [
    {
     "name": "stdout",
     "output_type": "stream",
     "text": [
      "La llista es simètrica\n"
     ]
    }
   ],
   "source": [
    "## Provem la funció cas positiu\n",
    "llista = [0, 1, 2, 3, 2, 1, 0]\n",
    "fun(llista)"
   ]
  },
  {
   "cell_type": "code",
   "execution_count": 10,
   "metadata": {},
   "outputs": [
    {
     "name": "stdout",
     "output_type": "stream",
     "text": [
      "La llista no es simètrica\n"
     ]
    }
   ],
   "source": [
    "## Provem la funció cas negatiu\n",
    "llista = [\"gos\", \"gat\", \"caball\", \"conill\"]\n",
    "fun(llista)"
   ]
  },
  {
   "cell_type": "markdown",
   "metadata": {},
   "source": [
    "### Exercici 5"
   ]
  },
  {
   "cell_type": "markdown",
   "metadata": {},
   "source": [
    "Crea un programa que donada una llista, et digui quants números coincideixen amb la seva posició. Per exemple `[3,4,2,0,2,3,6]` el 2 i el 6 coincideixen."
   ]
  },
  {
   "cell_type": "code",
   "execution_count": 11,
   "metadata": {},
   "outputs": [],
   "source": [
    "## Generem la funció\n",
    "def fun(llista):\n",
    "    nums = list()\n",
    "    for count, item in enumerate(llista):\n",
    "        if count == item: nums.append(count)\n",
    "    return len(nums), nums"
   ]
  },
  {
   "cell_type": "code",
   "execution_count": 12,
   "metadata": {},
   "outputs": [
    {
     "name": "stdout",
     "output_type": "stream",
     "text": [
      "[1, 0, 2, 4, 3]\n",
      "1 [2]\n"
     ]
    }
   ],
   "source": [
    "## Provem la funció \n",
    "llista = rand.sample(list(range(5)),5); print (llista)\n",
    "suma, nums = fun(llista)\n",
    "print(suma, nums)"
   ]
  }
 ],
 "metadata": {
  "kernelspec": {
   "display_name": "Python 3",
   "language": "python",
   "name": "python3"
  },
  "language_info": {
   "codemirror_mode": {
    "name": "ipython",
    "version": 3
   },
   "file_extension": ".py",
   "mimetype": "text/x-python",
   "name": "python",
   "nbconvert_exporter": "python",
   "pygments_lexer": "ipython3",
   "version": "3.8.5"
  }
 },
 "nbformat": 4,
 "nbformat_minor": 4
}
