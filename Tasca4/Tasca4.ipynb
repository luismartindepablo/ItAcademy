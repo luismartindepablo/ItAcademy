{
 "cells": [
  {
   "cell_type": "markdown",
   "metadata": {},
   "source": [
    "# Pràctica amb programació numèrica"
   ]
  },
  {
   "cell_type": "code",
   "execution_count": 1,
   "metadata": {},
   "outputs": [],
   "source": [
    "import numpy as np\n",
    "import matplotlib.pyplot as plt\n",
    "import scipy.stats"
   ]
  },
  {
   "cell_type": "markdown",
   "metadata": {},
   "source": [
    "### Exercici 1\n",
    "Crea una funció que donat un Array d’una dimensió, et faci un resum estadístic bàsic de les dades. Si detecta que l’array té més d’una dimensió, ha de mostrar un missatge d’error."
   ]
  },
  {
   "cell_type": "code",
   "execution_count": 2,
   "metadata": {},
   "outputs": [],
   "source": [
    "## Generem la funció\n",
    "def fun(vector):\n",
    "    if vector.ndim > 1: \n",
    "        raise TypeError(\"Your array must be 1-dimensional\")\n",
    "        return\n",
    "    else:\n",
    "        maxim = np.amax(vector); \n",
    "        minim = np.amin(vector)\n",
    "        median = np.median(vector)\n",
    "        mean = np.mean(vector)\n",
    "        std = np.std(vector)\n",
    "        plt.hist(vector, bins = 20)\n",
    "        \n",
    "        print (\"El màmix es :\", round(maxim,2))\n",
    "        print (\"El mínim es :\", round(minim,2))\n",
    "        print (\"La mediana es:\", round(median,2))\n",
    "        print (\"La mitjana es:\", round(mean, 2))\n",
    "        print (\"La desviació estandar es:\", round(std,2))"
   ]
  },
  {
   "cell_type": "code",
   "execution_count": 3,
   "metadata": {},
   "outputs": [
    {
     "name": "stdout",
     "output_type": "stream",
     "text": [
      "El màmix es : 91.45\n",
      "El mínim es : 2.87\n",
      "La mediana es: 56.22\n",
      "La mitjana es: 52.44\n",
      "La desviació estandar es: 29.57\n"
     ]
    },
    {
     "data": {
      "image/png": "[encoded data removed]",
      "text/plain": [
       "<Figure size 432x288 with 1 Axes>"
      ]
     },
     "metadata": {
      "needs_background": "light"
     },
     "output_type": "display_data"
    }
   ],
   "source": [
    "## Provem la funció\n",
    "vector = np.random.rand(30)*100\n",
    "fun (vector)"
   ]
  },
  {
   "cell_type": "markdown",
   "metadata": {},
   "source": [
    "### Exercisi 2"
   ]
  },
  {
   "cell_type": "markdown",
   "metadata": {},
   "source": [
    "Crea una funció que et generi un quadrat NxN de nombres aleatoris entre el 0 i el 100."
   ]
  },
  {
   "cell_type": "code",
   "execution_count": 4,
   "metadata": {},
   "outputs": [],
   "source": [
    "## Definim la funció\n",
    "def fun(N):\n",
    "    try:\n",
    "        matriu = np.random.rand(N,N)*100\n",
    "        return np.round(matriu,2)\n",
    "    except ValueError:\n",
    "        print (\"N must be a positive integer\")\n",
    "        return None"
   ]
  },
  {
   "cell_type": "code",
   "execution_count": 5,
   "metadata": {},
   "outputs": [
    {
     "name": "stdout",
     "output_type": "stream",
     "text": [
      "2 [[87.33 84.3 ]\n",
      " [85.3  59.31]]\n"
     ]
    }
   ],
   "source": [
    "## Provem la funció\n",
    "N = np.random.randint(-5,5)\n",
    "matriu = fun(N)\n",
    "print (N, matriu)"
   ]
  },
  {
   "cell_type": "markdown",
   "metadata": {},
   "source": [
    "### Exercici 3\n",
    "Crea una funció que donada una taula de dues dimensions, et calculi els totals per fila i els totals per columna."
   ]
  },
  {
   "cell_type": "code",
   "execution_count": 6,
   "metadata": {},
   "outputs": [],
   "source": [
    "## Generem la funció\n",
    "def fun(M):\n",
    "    sum_fila = np.sum(M, axis = 1)\n",
    "    sum_columna = np.sum(M, axis = 0)\n",
    "    \n",
    "    return sum_fila, sum_columna"
   ]
  },
  {
   "cell_type": "code",
   "execution_count": 7,
   "metadata": {},
   "outputs": [
    {
     "name": "stdout",
     "output_type": "stream",
     "text": [
      "Fila: [2.77 2.75 1.33 2.9  1.34]\n",
      "Columna: [2.38 2.02 2.06 2.17 2.46] \n",
      "\n",
      "[[0.94 0.72 0.37 0.64 0.1 ]\n",
      " [0.87 0.38 0.19 0.39 0.92]\n",
      " [0.02 0.1  0.55 0.44 0.22]\n",
      " [0.22 0.55 0.83 0.52 0.78]\n",
      " [0.33 0.27 0.12 0.18 0.44]]\n"
     ]
    }
   ],
   "source": [
    "## Provem la funció\n",
    "M = np.random.rand(5,5); M = np.round(M, 2)\n",
    "fila, columna = fun(M)\n",
    "print (\"Fila:\", fila)\n",
    "print (\"Columna:\", columna, \"\\n\")\n",
    "print (M)"
   ]
  },
  {
   "cell_type": "markdown",
   "metadata": {},
   "source": [
    "### Exercici 4\n",
    "Implementa manualment una funció que calculi el coeficient de correlació. Informa’t-en sobre els seus usos i interpretació."
   ]
  },
  {
   "cell_type": "markdown",
   "metadata": {},
   "source": [
    "#### Desviación estandard muestral\n",
    "\n",
    "$$\\sigma_{X} = \\sqrt{\\frac{\\sum_{i=1}^N (x_i - \\overline{x})^2}{N-1} }$$\n",
    "\n",
    "#### Covarianza\n",
    "$$\\sigma_{XY} = \\frac{\\sum_{i=1}^N (x_i - \\overline{x})(y_i - \\overline{y})}{N-1}$$\n",
    "\n",
    "#### Coeficiente de Correlación\n",
    "\n",
    "$$\\rho_{X,Y}={\\sigma_{XY} \\over \\sigma_X \\sigma_Y} =\\frac{\\operatorname{Cov}(X,Y)}{\\sqrt{\\operatorname{Var}(X)\\operatorname{Var}(Y)}}$$\n",
    "\n",
    "Donde:\n",
    "\n",
    "* $\\sigma_{XY}$ es la covarianza de $(X,Y)$\n",
    "* $\\sigma_{X}$ es la desviación estándar de la variable $X$\n",
    "* $\\sigma_{Y}$ es la desviación estándar de la variable $Y$\n",
    "\n",
    "Aplicando las definiciones llegamos a la seiguiente formula para el **coeficiente de correlación:** \n",
    "\n",
    "$$r_{xy} =\\frac{n\\sum x_iy_i-\\sum x_i\\sum y_i}\n",
    "{\\sqrt{n\\sum x_i^2-(\\sum x_i)^2}~\\sqrt{n\\sum y_i^2-(\\sum y_i)^2}}$$"
   ]
  },
  {
   "cell_type": "code",
   "execution_count": 8,
   "metadata": {},
   "outputs": [],
   "source": [
    "## Definim la funció\n",
    "def Pearson(X,Y):\n",
    "    \n",
    "    if len(X) != len(Y):\n",
    "        raise TypeError(\"X and Y must have the same size!\")\n",
    "        return\n",
    "    \n",
    "    N = len(X)\n",
    "    \n",
    "    rCoefficient = (N * sum(X*Y) - sum(X)*sum(Y)) / (np.sqrt( N * sum(X**2) - sum(X)**2 ) * np.sqrt( N * sum(Y**2) - sum(Y)**2 ))\n",
    "    return rCoefficient"
   ]
  },
  {
   "cell_type": "markdown",
   "metadata": {},
   "source": [
    "Com estem fent la prova amb dos vectors aleatoris, sempre optindrem un coeficient de correlació lineal molt proper a zero."
   ]
  },
  {
   "cell_type": "code",
   "execution_count": 9,
   "metadata": {},
   "outputs": [
    {
     "name": "stdout",
     "output_type": "stream",
     "text": [
      "-0.3318271505462223\n"
     ]
    }
   ],
   "source": [
    "## Provem la funció\n",
    "X = np.random.rand(40)\n",
    "Y = np.random.rand(40)\n",
    "\n",
    "r_fun = Pearson(X,Y); print (r_fun)"
   ]
  },
  {
   "cell_type": "code",
   "execution_count": 10,
   "metadata": {},
   "outputs": [
    {
     "data": {
      "text/plain": [
       "-0.331827150546221"
      ]
     },
     "execution_count": 10,
     "metadata": {},
     "output_type": "execute_result"
    }
   ],
   "source": [
    "## Comprovem utilitzan scipy\n",
    "scipy.stats.pearsonr(X, Y)[0]"
   ]
  }
 ],
 "metadata": {
  "kernelspec": {
   "display_name": "Python 3",
   "language": "python",
   "name": "python3"
  },
  "language_info": {
   "codemirror_mode": {
    "name": "ipython",
    "version": 3
   },
   "file_extension": ".py",
   "mimetype": "text/x-python",
   "name": "python",
   "nbconvert_exporter": "python",
   "pygments_lexer": "ipython3",
   "version": "3.8.5"
  }
 },
 "nbformat": 4,
 "nbformat_minor": 4
}
